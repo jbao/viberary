{
 "cells": [
  {
   "cell_type": "code",
   "execution_count": 1,
   "id": "b5df16f5",
   "metadata": {},
   "outputs": [],
   "source": [
    "import sys\n",
    "\n"
   ]
  },
  {
   "cell_type": "code",
   "execution_count": 2,
   "id": "85155211",
   "metadata": {},
   "outputs": [
    {
     "name": "stdout",
     "output_type": "stream",
     "text": [
      "/bin/bash: switchml: line 1: syntax error: unexpected end of file\n",
      "/bin/bash: error importing function definition for `switchml'\n",
      "/bin/bash: _moduleraw: line 1: syntax error: unexpected end of file\n",
      "/bin/bash: error importing function definition for `_moduleraw'\n",
      "Looking in indexes: https://pypi.org/simple, https://pip.repos.neuron.amazonaws.com\n",
      "Collecting duckdb==0.7.1\n",
      "  Downloading duckdb-0.7.1-cp310-cp310-manylinux_2_17_x86_64.manylinux2014_x86_64.whl (15.2 MB)\n",
      "\u001B[2K     \u001B[90m━━━━━━━━━━━━━━━━━━━━━━━━━━━━━━━━━━━━━━━━\u001B[0m \u001B[32m15.2/15.2 MB\u001B[0m \u001B[31m55.9 MB/s\u001B[0m eta \u001B[36m0:00:00\u001B[0m00:01\u001B[0m00:01\u001B[0m\n",
      "\u001B[?25hCollecting duckdb-engine\n",
      "  Downloading duckdb_engine-0.9.0-py3-none-any.whl (43 kB)\n",
      "\u001B[2K     \u001B[90m━━━━━━━━━━━━━━━━━━━━━━━━━━━━━━━━━━━━━━━━\u001B[0m \u001B[32m43.1/43.1 kB\u001B[0m \u001B[31m8.5 MB/s\u001B[0m eta \u001B[36m0:00:00\u001B[0m\n",
      "\u001B[?25hCollecting watermark\n",
      "  Downloading watermark-2.4.3-py2.py3-none-any.whl (7.6 kB)\n",
      "Collecting jupysql\n",
      "  Downloading jupysql-0.7.9-py3-none-any.whl (65 kB)\n",
      "\u001B[2K     \u001B[90m━━━━━━━━━━━━━━━━━━━━━━━━━━━━━━━━━━━━━━━━\u001B[0m \u001B[32m65.0/65.0 kB\u001B[0m \u001B[31m13.0 MB/s\u001B[0m eta \u001B[36m0:00:00\u001B[0m\n",
      "\u001B[?25hCollecting sqlalchemy\n",
      "  Downloading SQLAlchemy-2.0.18-cp310-cp310-manylinux_2_17_x86_64.manylinux2014_x86_64.whl (2.7 MB)\n",
      "\u001B[2K     \u001B[90m━━━━━━━━━━━━━━━━━━━━━━━━━━━━━━━━━━━━━━━━\u001B[0m \u001B[32m2.7/2.7 MB\u001B[0m \u001B[31m76.0 MB/s\u001B[0m eta \u001B[36m0:00:00\u001B[0m:00:01\u001B[0m\n",
      "\u001B[?25hCollecting python-snappy\n",
      "  Downloading python_snappy-0.6.1-cp310-cp310-manylinux_2_12_x86_64.manylinux2010_x86_64.whl (55 kB)\n",
      "\u001B[2K     \u001B[90m━━━━━━━━━━━━━━━━━━━━━━━━━━━━━━━━━━━━━━━━\u001B[0m \u001B[32m55.9/55.9 kB\u001B[0m \u001B[31m11.1 MB/s\u001B[0m eta \u001B[36m0:00:00\u001B[0m\n",
      "\u001B[?25hRequirement already satisfied: pyarrow in /home/ubuntu/anaconda3/envs/pytorch_p310/lib/python3.10/site-packages (11.0.0)\n",
      "Collecting memray\n",
      "  Downloading memray-1.8.1-cp310-cp310-manylinux_2_12_x86_64.manylinux2010_x86_64.whl (3.4 MB)\n",
      "\u001B[2K     \u001B[90m━━━━━━━━━━━━━━━━━━━━━━━━━━━━━━━━━━━━━━━━\u001B[0m \u001B[32m3.4/3.4 MB\u001B[0m \u001B[31m87.8 MB/s\u001B[0m eta \u001B[36m0:00:00\u001B[0m:00:01\u001B[0m\n",
      "\u001B[?25hRequirement already satisfied: pandas in /home/ubuntu/anaconda3/envs/pytorch_p310/lib/python3.10/site-packages (1.5.3)\n",
      "Requirement already satisfied: ipywidgets in /home/ubuntu/anaconda3/envs/pytorch_p310/lib/python3.10/site-packages (8.0.6)\n",
      "Requirement already satisfied: matplotlib in /home/ubuntu/anaconda3/envs/pytorch_p310/lib/python3.10/site-packages (3.7.1)\n",
      "Collecting gensim\n",
      "  Downloading gensim-4.3.1-cp310-cp310-manylinux_2_17_x86_64.manylinux2014_x86_64.whl (26.4 MB)\n",
      "\u001B[2K     \u001B[90m━━━━━━━━━━━━━━━━━━━━━━━━━━━━━━━━━━━━━━━━\u001B[0m \u001B[32m26.4/26.4 MB\u001B[0m \u001B[31m53.4 MB/s\u001B[0m eta \u001B[36m0:00:00\u001B[0m00:01\u001B[0m00:01\u001B[0m\n",
      "\u001B[?25hCollecting nltk\n",
      "  Downloading nltk-3.8.1-py3-none-any.whl (1.5 MB)\n",
      "\u001B[2K     \u001B[90m━━━━━━━━━━━━━━━━━━━━━━━━━━━━━━━━━━━━━━━━\u001B[0m \u001B[32m1.5/1.5 MB\u001B[0m \u001B[31m82.0 MB/s\u001B[0m eta \u001B[36m0:00:00\u001B[0m\n",
      "\u001B[?25hRequirement already satisfied: plotly in /home/ubuntu/anaconda3/envs/pytorch_p310/lib/python3.10/site-packages (5.14.0)\n",
      "Collecting redis==4.5.3\n",
      "  Downloading redis-4.5.3-py3-none-any.whl (238 kB)\n",
      "\u001B[2K     \u001B[90m━━━━━━━━━━━━━━━━━━━━━━━━━━━━━━━━━━━━━━\u001B[0m \u001B[32m238.6/238.6 kB\u001B[0m \u001B[31m34.9 MB/s\u001B[0m eta \u001B[36m0:00:00\u001B[0m\n",
      "\u001B[?25hCollecting jupyter-black\n",
      "  Downloading jupyter_black-0.3.4-py3-none-any.whl (8.5 kB)\n",
      "Collecting sentence_transformers\n",
      "  Downloading sentence-transformers-2.2.2.tar.gz (85 kB)\n",
      "\u001B[2K     \u001B[90m━━━━━━━━━━━━━━━━━━━━━━━━━━━━━━━━━━━━━━━━\u001B[0m \u001B[32m86.0/86.0 kB\u001B[0m \u001B[31m16.4 MB/s\u001B[0m eta \u001B[36m0:00:00\u001B[0m\n",
      "\u001B[?25h  Preparing metadata (setup.py) ... \u001B[?25ldone\n",
      "\u001B[?25hCollecting async-timeout>=4.0.2\n",
      "  Downloading async_timeout-4.0.2-py3-none-any.whl (5.8 kB)\n",
      "Requirement already satisfied: numpy in /home/ubuntu/anaconda3/envs/pytorch_p310/lib/python3.10/site-packages (from duckdb-engine) (1.23.5)\n",
      "Requirement already satisfied: setuptools in /home/ubuntu/anaconda3/envs/pytorch_p310/lib/python3.10/site-packages (from watermark) (67.6.1)\n",
      "Requirement already satisfied: importlib-metadata>=1.4 in /home/ubuntu/anaconda3/envs/pytorch_p310/lib/python3.10/site-packages (from watermark) (4.13.0)\n",
      "Requirement already satisfied: ipython>=6.0 in /home/ubuntu/anaconda3/envs/pytorch_p310/lib/python3.10/site-packages (from watermark) (8.12.0)\n",
      "Collecting prettytable\n",
      "  Downloading prettytable-3.8.0-py3-none-any.whl (27 kB)\n",
      "Requirement already satisfied: jinja2 in /home/ubuntu/anaconda3/envs/pytorch_p310/lib/python3.10/site-packages (from jupysql) (3.1.2)\n",
      "Collecting sqlglot>=11.3.7\n",
      "  Downloading sqlglot-17.3.0-py3-none-any.whl (280 kB)\n",
      "\u001B[2K     \u001B[90m━━━━━━━━━━━━━━━━━━━━━━━━━━━━━━━━━━━━━━\u001B[0m \u001B[32m280.6/280.6 kB\u001B[0m \u001B[31m41.8 MB/s\u001B[0m eta \u001B[36m0:00:00\u001B[0m\n",
      "\u001B[?25hRequirement already satisfied: ipython-genutils>=0.1.0 in /home/ubuntu/anaconda3/envs/pytorch_p310/lib/python3.10/site-packages (from jupysql) (0.2.0)\n",
      "Collecting sqlparse\n",
      "  Downloading sqlparse-0.4.4-py3-none-any.whl (41 kB)\n",
      "\u001B[2K     \u001B[90m━━━━━━━━━━━━━━━━━━━━━━━━━━━━━━━━━━━━━━━━\u001B[0m \u001B[32m41.2/41.2 kB\u001B[0m \u001B[31m8.4 MB/s\u001B[0m eta \u001B[36m0:00:00\u001B[0m\n",
      "\u001B[?25hCollecting ploomber-core>=0.2.7\n",
      "  Downloading ploomber_core-0.2.13-py3-none-any.whl (21 kB)\n",
      "Requirement already satisfied: typing-extensions>=4.2.0 in /home/ubuntu/anaconda3/envs/pytorch_p310/lib/python3.10/site-packages (from sqlalchemy) (4.5.0)\n",
      "Collecting greenlet!=0.4.17\n",
      "  Downloading greenlet-2.0.2-cp310-cp310-manylinux_2_17_x86_64.manylinux2014_x86_64.whl (613 kB)\n",
      "\u001B[2K     \u001B[90m━━━━━━━━━━━━━━━━━━━━━━━━━━━━━━━━━━━━━━\u001B[0m \u001B[32m613.7/613.7 kB\u001B[0m \u001B[31m63.2 MB/s\u001B[0m eta \u001B[36m0:00:00\u001B[0m\n",
      "\u001B[?25hCollecting rich>=11.2.0\n",
      "  Downloading rich-13.4.2-py3-none-any.whl (239 kB)\n",
      "\u001B[2K     \u001B[90m━━━━━━━━━━━━━━━━━━━━━━━━━━━━━━━━━━━━━━\u001B[0m \u001B[32m239.4/239.4 kB\u001B[0m \u001B[31m37.4 MB/s\u001B[0m eta \u001B[36m0:00:00\u001B[0m\n",
      "\u001B[?25hRequirement already satisfied: python-dateutil>=2.8.1 in /home/ubuntu/anaconda3/envs/pytorch_p310/lib/python3.10/site-packages (from pandas) (2.8.2)\n",
      "Requirement already satisfied: pytz>=2020.1 in /home/ubuntu/anaconda3/envs/pytorch_p310/lib/python3.10/site-packages (from pandas) (2023.3)\n",
      "Requirement already satisfied: jupyterlab-widgets~=3.0.7 in /home/ubuntu/anaconda3/envs/pytorch_p310/lib/python3.10/site-packages (from ipywidgets) (3.0.7)\n",
      "Requirement already satisfied: widgetsnbextension~=4.0.7 in /home/ubuntu/anaconda3/envs/pytorch_p310/lib/python3.10/site-packages (from ipywidgets) (4.0.7)\n",
      "Requirement already satisfied: traitlets>=4.3.1 in /home/ubuntu/anaconda3/envs/pytorch_p310/lib/python3.10/site-packages (from ipywidgets) (5.9.0)\n",
      "Requirement already satisfied: ipykernel>=4.5.1 in /home/ubuntu/anaconda3/envs/pytorch_p310/lib/python3.10/site-packages (from ipywidgets) (6.22.0)\n",
      "Requirement already satisfied: fonttools>=4.22.0 in /home/ubuntu/anaconda3/envs/pytorch_p310/lib/python3.10/site-packages (from matplotlib) (4.39.3)\n",
      "Requirement already satisfied: pillow>=6.2.0 in /home/ubuntu/anaconda3/envs/pytorch_p310/lib/python3.10/site-packages (from matplotlib) (9.4.0)\n",
      "Requirement already satisfied: cycler>=0.10 in /home/ubuntu/anaconda3/envs/pytorch_p310/lib/python3.10/site-packages (from matplotlib) (0.11.0)\n",
      "Requirement already satisfied: kiwisolver>=1.0.1 in /home/ubuntu/anaconda3/envs/pytorch_p310/lib/python3.10/site-packages (from matplotlib) (1.4.4)\n",
      "Requirement already satisfied: pyparsing>=2.3.1 in /home/ubuntu/anaconda3/envs/pytorch_p310/lib/python3.10/site-packages (from matplotlib) (3.0.9)\n",
      "Requirement already satisfied: contourpy>=1.0.1 in /home/ubuntu/anaconda3/envs/pytorch_p310/lib/python3.10/site-packages (from matplotlib) (1.0.7)\n",
      "Requirement already satisfied: packaging>=20.0 in /home/ubuntu/anaconda3/envs/pytorch_p310/lib/python3.10/site-packages (from matplotlib) (21.3)\n",
      "Collecting smart-open>=1.8.1\n",
      "  Downloading smart_open-6.3.0-py3-none-any.whl (56 kB)\n",
      "\u001B[2K     \u001B[90m━━━━━━━━━━━━━━━━━━━━━━━━━━━━━━━━━━━━━━━━\u001B[0m \u001B[32m56.8/56.8 kB\u001B[0m \u001B[31m10.3 MB/s\u001B[0m eta \u001B[36m0:00:00\u001B[0m\n",
      "\u001B[?25hRequirement already satisfied: scipy>=1.7.0 in /home/ubuntu/anaconda3/envs/pytorch_p310/lib/python3.10/site-packages (from gensim) (1.10.1)\n",
      "Collecting regex>=2021.8.3\n",
      "  Downloading regex-2023.6.3-cp310-cp310-manylinux_2_17_x86_64.manylinux2014_x86_64.whl (770 kB)\n",
      "\u001B[2K     \u001B[90m━━━━━━━━━━━━━━━━━━━━━━━━━━━━━━━━━━━━━━\u001B[0m \u001B[32m770.4/770.4 kB\u001B[0m \u001B[31m65.8 MB/s\u001B[0m eta \u001B[36m0:00:00\u001B[0m\n",
      "\u001B[?25hRequirement already satisfied: tqdm in /home/ubuntu/anaconda3/envs/pytorch_p310/lib/python3.10/site-packages (from nltk) (4.65.0)\n",
      "Requirement already satisfied: joblib in /home/ubuntu/anaconda3/envs/pytorch_p310/lib/python3.10/site-packages (from nltk) (1.2.0)\n",
      "Requirement already satisfied: click in /home/ubuntu/anaconda3/envs/pytorch_p310/lib/python3.10/site-packages (from nltk) (8.1.3)\n",
      "Requirement already satisfied: tenacity>=6.2.0 in /home/ubuntu/anaconda3/envs/pytorch_p310/lib/python3.10/site-packages (from plotly) (8.2.2)\n",
      "Collecting black>=21\n",
      "  Downloading black-23.7.0-cp310-cp310-manylinux_2_17_x86_64.manylinux2014_x86_64.whl (1.7 MB)\n",
      "\u001B[2K     \u001B[90m━━━━━━━━━━━━━━━━━━━━━━━━━━━━━━━━━━━━━━━━\u001B[0m \u001B[32m1.7/1.7 MB\u001B[0m \u001B[31m81.5 MB/s\u001B[0m eta \u001B[36m0:00:00\u001B[0m\n",
      "\u001B[?25hCollecting tokenize-rt>=4\n",
      "  Downloading tokenize_rt-5.1.0-py2.py3-none-any.whl (5.8 kB)\n",
      "Collecting transformers<5.0.0,>=4.6.0\n",
      "  Downloading transformers-4.30.2-py3-none-any.whl (7.2 MB)\n",
      "\u001B[2K     \u001B[90m━━━━━━━━━━━━━━━━━━━━━━━━━━━━━━━━━━━━━━━━\u001B[0m \u001B[32m7.2/7.2 MB\u001B[0m \u001B[31m85.6 MB/s\u001B[0m eta \u001B[36m0:00:00\u001B[0m:00:01\u001B[0m00:01\u001B[0m\n",
      "\u001B[?25hRequirement already satisfied: torch>=1.6.0 in /home/ubuntu/anaconda3/envs/pytorch_p310/lib/python3.10/site-packages (from sentence_transformers) (2.0.0)\n",
      "Requirement already satisfied: torchvision in /home/ubuntu/anaconda3/envs/pytorch_p310/lib/python3.10/site-packages (from sentence_transformers) (0.15.1)\n",
      "Requirement already satisfied: scikit-learn in /home/ubuntu/anaconda3/envs/pytorch_p310/lib/python3.10/site-packages (from sentence_transformers) (1.2.2)\n",
      "Collecting sentencepiece\n",
      "  Downloading sentencepiece-0.1.99-cp310-cp310-manylinux_2_17_x86_64.manylinux2014_x86_64.whl (1.3 MB)\n",
      "\u001B[2K     \u001B[90m━━━━━━━━━━━━━━━━━━━━━━━━━━━━━━━━━━━━━━━━\u001B[0m \u001B[32m1.3/1.3 MB\u001B[0m \u001B[31m76.2 MB/s\u001B[0m eta \u001B[36m0:00:00\u001B[0m\n",
      "\u001B[?25hCollecting huggingface-hub>=0.4.0\n",
      "  Downloading huggingface_hub-0.16.4-py3-none-any.whl (268 kB)\n",
      "\u001B[2K     \u001B[90m━━━━━━━━━━━━━━━━━━━━━━━━━━━━━━━━━━━━━━\u001B[0m \u001B[32m268.8/268.8 kB\u001B[0m \u001B[31m37.6 MB/s\u001B[0m eta \u001B[36m0:00:00\u001B[0m\n",
      "\u001B[?25hCollecting mypy-extensions>=0.4.3\n",
      "\u001B[33m  WARNING: Retrying (Retry(total=4, connect=None, read=None, redirect=None, status=None)) after connection broken by 'ProtocolError('Connection aborted.', RemoteDisconnected('Remote end closed connection without response'))': /packages/2a/e2/5d3f6ada4297caebe1a2add3b126fe800c96f56dbe5d1988a2cbe0b267aa/mypy_extensions-1.0.0-py3-none-any.whl\u001B[0m\u001B[33m\n",
      "\u001B[0m  Downloading mypy_extensions-1.0.0-py3-none-any.whl (4.7 kB)\n",
      "Collecting packaging>=20.0\n",
      "  Downloading packaging-23.1-py3-none-any.whl (48 kB)\n",
      "\u001B[2K     \u001B[90m━━━━━━━━━━━━━━━━━━━━━━━━━━━━━━━━━━━━━━━━\u001B[0m \u001B[32m48.9/48.9 kB\u001B[0m \u001B[31m4.8 MB/s\u001B[0m eta \u001B[36m0:00:00\u001B[0m\n",
      "\u001B[?25hRequirement already satisfied: platformdirs>=2 in /home/ubuntu/anaconda3/envs/pytorch_p310/lib/python3.10/site-packages (from black>=21->jupyter-black) (3.2.0)\n",
      "Requirement already satisfied: tomli>=1.1.0 in /home/ubuntu/anaconda3/envs/pytorch_p310/lib/python3.10/site-packages (from black>=21->jupyter-black) (2.0.1)\n",
      "Collecting pathspec>=0.9.0\n",
      "  Downloading pathspec-0.11.1-py3-none-any.whl (29 kB)\n",
      "Requirement already satisfied: requests in /home/ubuntu/anaconda3/envs/pytorch_p310/lib/python3.10/site-packages (from huggingface-hub>=0.4.0->sentence_transformers) (2.28.2)\n",
      "Requirement already satisfied: fsspec in /home/ubuntu/anaconda3/envs/pytorch_p310/lib/python3.10/site-packages (from huggingface-hub>=0.4.0->sentence_transformers) (2023.3.0)\n",
      "Requirement already satisfied: filelock in /home/ubuntu/anaconda3/envs/pytorch_p310/lib/python3.10/site-packages (from huggingface-hub>=0.4.0->sentence_transformers) (3.10.7)\n",
      "Requirement already satisfied: pyyaml>=5.1 in /home/ubuntu/anaconda3/envs/pytorch_p310/lib/python3.10/site-packages (from huggingface-hub>=0.4.0->sentence_transformers) (5.4.1)\n",
      "Requirement already satisfied: zipp>=0.5 in /home/ubuntu/anaconda3/envs/pytorch_p310/lib/python3.10/site-packages (from importlib-metadata>=1.4->watermark) (3.15.0)\n",
      "Requirement already satisfied: debugpy>=1.6.5 in /home/ubuntu/anaconda3/envs/pytorch_p310/lib/python3.10/site-packages (from ipykernel>=4.5.1->ipywidgets) (1.6.6)\n",
      "Requirement already satisfied: comm>=0.1.1 in /home/ubuntu/anaconda3/envs/pytorch_p310/lib/python3.10/site-packages (from ipykernel>=4.5.1->ipywidgets) (0.1.3)\n",
      "Requirement already satisfied: matplotlib-inline>=0.1 in /home/ubuntu/anaconda3/envs/pytorch_p310/lib/python3.10/site-packages (from ipykernel>=4.5.1->ipywidgets) (0.1.6)\n",
      "Requirement already satisfied: pyzmq>=20 in /home/ubuntu/anaconda3/envs/pytorch_p310/lib/python3.10/site-packages (from ipykernel>=4.5.1->ipywidgets) (25.0.2)\n",
      "Requirement already satisfied: jupyter-core!=5.0.*,>=4.12 in /home/ubuntu/anaconda3/envs/pytorch_p310/lib/python3.10/site-packages (from ipykernel>=4.5.1->ipywidgets) (5.3.0)\n",
      "Requirement already satisfied: psutil in /home/ubuntu/anaconda3/envs/pytorch_p310/lib/python3.10/site-packages (from ipykernel>=4.5.1->ipywidgets) (5.9.4)\n",
      "Requirement already satisfied: nest-asyncio in /home/ubuntu/anaconda3/envs/pytorch_p310/lib/python3.10/site-packages (from ipykernel>=4.5.1->ipywidgets) (1.5.5)\n",
      "Requirement already satisfied: jupyter-client>=6.1.12 in /home/ubuntu/anaconda3/envs/pytorch_p310/lib/python3.10/site-packages (from ipykernel>=4.5.1->ipywidgets) (8.1.0)\n",
      "Requirement already satisfied: tornado>=6.1 in /home/ubuntu/anaconda3/envs/pytorch_p310/lib/python3.10/site-packages (from ipykernel>=4.5.1->ipywidgets) (6.2)\n",
      "Requirement already satisfied: pickleshare in /home/ubuntu/anaconda3/envs/pytorch_p310/lib/python3.10/site-packages (from ipython>=6.0->watermark) (0.7.5)\n",
      "Requirement already satisfied: pygments>=2.4.0 in /home/ubuntu/anaconda3/envs/pytorch_p310/lib/python3.10/site-packages (from ipython>=6.0->watermark) (2.14.0)\n",
      "Requirement already satisfied: stack-data in /home/ubuntu/anaconda3/envs/pytorch_p310/lib/python3.10/site-packages (from ipython>=6.0->watermark) (0.6.2)\n",
      "Requirement already satisfied: backcall in /home/ubuntu/anaconda3/envs/pytorch_p310/lib/python3.10/site-packages (from ipython>=6.0->watermark) (0.2.0)\n",
      "Requirement already satisfied: prompt-toolkit!=3.0.37,<3.1.0,>=3.0.30 in /home/ubuntu/anaconda3/envs/pytorch_p310/lib/python3.10/site-packages (from ipython>=6.0->watermark) (3.0.38)\n",
      "Requirement already satisfied: pexpect>4.3 in /home/ubuntu/anaconda3/envs/pytorch_p310/lib/python3.10/site-packages (from ipython>=6.0->watermark) (4.8.0)\n",
      "Requirement already satisfied: jedi>=0.16 in /home/ubuntu/anaconda3/envs/pytorch_p310/lib/python3.10/site-packages (from ipython>=6.0->watermark) (0.18.2)\n",
      "Requirement already satisfied: decorator in /home/ubuntu/anaconda3/envs/pytorch_p310/lib/python3.10/site-packages (from ipython>=6.0->watermark) (5.1.1)\n",
      "Requirement already satisfied: MarkupSafe>=2.0 in /home/ubuntu/anaconda3/envs/pytorch_p310/lib/python3.10/site-packages (from jinja2->jupysql) (2.1.2)\n",
      "Collecting posthog\n",
      "  Downloading posthog-3.0.1-py2.py3-none-any.whl (37 kB)\n",
      "Requirement already satisfied: six>=1.5 in /home/ubuntu/anaconda3/envs/pytorch_p310/lib/python3.10/site-packages (from python-dateutil>=2.8.1->pandas) (1.16.0)\n",
      "Collecting markdown-it-py>=2.2.0\n",
      "  Downloading markdown_it_py-3.0.0-py3-none-any.whl (87 kB)\n",
      "\u001B[2K     \u001B[90m━━━━━━━━━━━━━━━━━━━━━━━━━━━━━━━━━━━━━━━━\u001B[0m \u001B[32m87.5/87.5 kB\u001B[0m \u001B[31m8.8 MB/s\u001B[0m eta \u001B[36m0:00:00\u001B[0m\n",
      "\u001B[?25hRequirement already satisfied: sympy in /home/ubuntu/anaconda3/envs/pytorch_p310/lib/python3.10/site-packages (from torch>=1.6.0->sentence_transformers) (1.11.1)\n",
      "Requirement already satisfied: networkx in /home/ubuntu/anaconda3/envs/pytorch_p310/lib/python3.10/site-packages (from torch>=1.6.0->sentence_transformers) (3.0)\n",
      "Collecting safetensors>=0.3.1\n",
      "  Downloading safetensors-0.3.1-cp310-cp310-manylinux_2_17_x86_64.manylinux2014_x86_64.whl (1.3 MB)\n",
      "\u001B[2K     \u001B[90m━━━━━━━━━━━━━━━━━━━━━━━━━━━━━━━━━━━━━━━━\u001B[0m \u001B[32m1.3/1.3 MB\u001B[0m \u001B[31m76.1 MB/s\u001B[0m eta \u001B[36m0:00:00\u001B[0m\n",
      "\u001B[?25hCollecting tokenizers!=0.11.3,<0.14,>=0.11.1\n",
      "  Downloading tokenizers-0.13.3-cp310-cp310-manylinux_2_17_x86_64.manylinux2014_x86_64.whl (7.8 MB)\n",
      "\u001B[2K     \u001B[90m━━━━━━━━━━━━━━━━━━━━━━━━━━━━━━━━━━━━━━━━\u001B[0m \u001B[32m7.8/7.8 MB\u001B[0m \u001B[31m92.0 MB/s\u001B[0m eta \u001B[36m0:00:00\u001B[0m:00:01\u001B[0m00:01\u001B[0m\n",
      "\u001B[?25hRequirement already satisfied: wcwidth in /home/ubuntu/anaconda3/envs/pytorch_p310/lib/python3.10/site-packages (from prettytable->jupysql) (0.2.6)\n",
      "Requirement already satisfied: threadpoolctl>=2.0.0 in /home/ubuntu/anaconda3/envs/pytorch_p310/lib/python3.10/site-packages (from scikit-learn->sentence_transformers) (3.1.0)\n",
      "Requirement already satisfied: parso<0.9.0,>=0.8.0 in /home/ubuntu/anaconda3/envs/pytorch_p310/lib/python3.10/site-packages (from jedi>=0.16->ipython>=6.0->watermark) (0.8.3)\n",
      "Collecting mdurl~=0.1\n",
      "  Downloading mdurl-0.1.2-py3-none-any.whl (10.0 kB)\n",
      "Requirement already satisfied: ptyprocess>=0.5 in /home/ubuntu/anaconda3/envs/pytorch_p310/lib/python3.10/site-packages (from pexpect>4.3->ipython>=6.0->watermark) (0.7.0)\n",
      "Collecting backoff>=1.10.0\n",
      "  Downloading backoff-2.2.1-py3-none-any.whl (15 kB)\n",
      "Collecting monotonic>=1.5\n",
      "  Downloading monotonic-1.6-py2.py3-none-any.whl (8.2 kB)\n",
      "Requirement already satisfied: charset-normalizer<4,>=2 in /home/ubuntu/anaconda3/envs/pytorch_p310/lib/python3.10/site-packages (from requests->huggingface-hub>=0.4.0->sentence_transformers) (2.1.1)\n",
      "Requirement already satisfied: idna<4,>=2.5 in /home/ubuntu/anaconda3/envs/pytorch_p310/lib/python3.10/site-packages (from requests->huggingface-hub>=0.4.0->sentence_transformers) (3.4)\n",
      "Requirement already satisfied: certifi>=2017.4.17 in /home/ubuntu/anaconda3/envs/pytorch_p310/lib/python3.10/site-packages (from requests->huggingface-hub>=0.4.0->sentence_transformers) (2022.12.7)\n",
      "Requirement already satisfied: urllib3<1.27,>=1.21.1 in /home/ubuntu/anaconda3/envs/pytorch_p310/lib/python3.10/site-packages (from requests->huggingface-hub>=0.4.0->sentence_transformers) (1.26.15)\n",
      "Requirement already satisfied: asttokens>=2.1.0 in /home/ubuntu/anaconda3/envs/pytorch_p310/lib/python3.10/site-packages (from stack-data->ipython>=6.0->watermark) (2.2.1)\n",
      "Requirement already satisfied: executing>=1.2.0 in /home/ubuntu/anaconda3/envs/pytorch_p310/lib/python3.10/site-packages (from stack-data->ipython>=6.0->watermark) (1.2.0)\n",
      "Requirement already satisfied: pure-eval in /home/ubuntu/anaconda3/envs/pytorch_p310/lib/python3.10/site-packages (from stack-data->ipython>=6.0->watermark) (0.2.2)\n",
      "Requirement already satisfied: mpmath>=0.19 in /home/ubuntu/anaconda3/envs/pytorch_p310/lib/python3.10/site-packages (from sympy->torch>=1.6.0->sentence_transformers) (1.3.0)\n",
      "Building wheels for collected packages: sentence_transformers\n",
      "  Building wheel for sentence_transformers (setup.py) ... \u001B[?25ldone\n",
      "\u001B[?25h  Created wheel for sentence_transformers: filename=sentence_transformers-2.2.2-py3-none-any.whl size=125926 sha256=d1404453265d510e6322c5d40ea8930303b50cca704e85bd31d49347e8ac38ae\n",
      "  Stored in directory: /home/ubuntu/.cache/pip/wheels/62/f2/10/1e606fd5f02395388f74e7462910fe851042f97238cbbd902f\n",
      "Successfully built sentence_transformers\n",
      "Installing collected packages: tokenizers, sqlglot, sentencepiece, safetensors, python-snappy, monotonic, duckdb, tokenize-rt, sqlparse, smart-open, regex, prettytable, pathspec, packaging, mypy-extensions, mdurl, greenlet, backoff, async-timeout, sqlalchemy, redis, posthog, nltk, markdown-it-py, huggingface-hub, gensim, black, transformers, rich, ploomber-core, duckdb-engine, watermark, sentence_transformers, memray, jupyter-black, jupysql\n",
      "  Attempting uninstall: packaging\n",
      "    Found existing installation: packaging 21.3\n",
      "    Uninstalling packaging-21.3:\n",
      "      Successfully uninstalled packaging-21.3\n",
      "Successfully installed async-timeout-4.0.2 backoff-2.2.1 black-23.7.0 duckdb-0.7.1 duckdb-engine-0.9.0 gensim-4.3.1 greenlet-2.0.2 huggingface-hub-0.16.4 jupysql-0.7.9 jupyter-black-0.3.4 markdown-it-py-3.0.0 mdurl-0.1.2 memray-1.8.1 monotonic-1.6 mypy-extensions-1.0.0 nltk-3.8.1 packaging-23.1 pathspec-0.11.1 ploomber-core-0.2.13 posthog-3.0.1 prettytable-3.8.0 python-snappy-0.6.1 redis-4.5.3 regex-2023.6.3 rich-13.4.2 safetensors-0.3.1 sentence_transformers-2.2.2 sentencepiece-0.1.99 smart-open-6.3.0 sqlalchemy-2.0.18 sqlglot-17.3.0 sqlparse-0.4.4 tokenize-rt-5.1.0 tokenizers-0.13.3 transformers-4.30.2 watermark-2.4.3\n"
     ]
    }
   ],
   "source": [
    "!pip install duckdb==0.7.1 \\\n",
    "duckdb-engine \\\n",
    "watermark \\\n",
    "jupysql \\\n",
    "sqlalchemy \\\n",
    "python-snappy \\\n",
    "pyarrow \\\n",
    "memray \\\n",
    "pandas  \\\n",
    "ipywidgets  \\\n",
    "matplotlib \\\n",
    "gensim \\\n",
    "nltk \\\n",
    "plotly \\\n",
    "redis==4.5.3 \\\n",
    "jupyter-black \\\n",
    "sentence_transformers \\\n",
    "redis \\\n",
    "jupyter_black"
   ]
  },
  {
   "cell_type": "code",
   "execution_count": 3,
   "id": "a27ff70b",
   "metadata": {},
   "outputs": [
    {
     "data": {
      "text/html": [
       "\n",
       "                <script type=\"application/javascript\" id=\"jupyter_black\">\n",
       "                (function() {\n",
       "                    if (window.IPython === undefined) {\n",
       "                        return\n",
       "                    }\n",
       "                    var msg = \"WARNING: it looks like you might have loaded \" +\n",
       "                        \"jupyter_black in a non-lab notebook with \" +\n",
       "                        \"`is_lab=True`. Please double check, and if \" +\n",
       "                        \"loading with `%load_ext` please review the README!\"\n",
       "                    console.log(msg)\n",
       "                    alert(msg)\n",
       "                })()\n",
       "                </script>\n",
       "                "
      ],
      "text/plain": [
       "<IPython.core.display.HTML object>"
      ]
     },
     "metadata": {},
     "output_type": "display_data"
    }
   ],
   "source": [
    "# Autoformat cells on run\n",
    "import jupyter_black\n",
    "import pandas as pd\n",
    "\n",
    "jupyter_black.load()"
   ]
  },
  {
   "cell_type": "code",
   "execution_count": 4,
   "id": "cfb46e93",
   "metadata": {},
   "outputs": [],
   "source": [
    "# set log level for model training\n",
    "import logging\n",
    "\n",
    "logger = logging.getLogger()\n",
    "logger.setLevel(logging.INFO)\n",
    "logging.basicConfig(\n",
    "    format=\"%(levelname)s - %(asctime)s: %(message)s\",\n",
    "    datefmt=\"%H:%M:%S\",\n",
    "    level=logging.INFO,\n",
    ")"
   ]
  },
  {
   "cell_type": "code",
   "execution_count": 10,
   "id": "d3e44044",
   "metadata": {},
   "outputs": [],
   "source": [
    "embeddings = pd.read_parquet(\"~/ssl/2023071112_training.parquet\")"
   ]
  },
  {
   "cell_type": "code",
   "execution_count": 11,
   "id": "343fc1c1",
   "metadata": {},
   "outputs": [
    {
     "data": {
      "text/html": [
       "<div>\n",
       "<style scoped>\n",
       "    .dataframe tbody tr th:only-of-type {\n",
       "        vertical-align: middle;\n",
       "    }\n",
       "\n",
       "    .dataframe tbody tr th {\n",
       "        vertical-align: top;\n",
       "    }\n",
       "\n",
       "    .dataframe thead th {\n",
       "        text-align: right;\n",
       "    }\n",
       "</style>\n",
       "<table border=\"1\" class=\"dataframe\">\n",
       "  <thead>\n",
       "    <tr style=\"text-align: right;\">\n",
       "      <th></th>\n",
       "      <th>review_text</th>\n",
       "      <th>title</th>\n",
       "      <th>link</th>\n",
       "      <th>description</th>\n",
       "      <th>average_rating</th>\n",
       "      <th>author</th>\n",
       "      <th>text_reviews_count</th>\n",
       "      <th>sentence</th>\n",
       "    </tr>\n",
       "  </thead>\n",
       "  <tbody>\n",
       "    <tr>\n",
       "      <th>0</th>\n",
       "      <td>Read more of this review @ The Book Return Blo...</td>\n",
       "      <td>The Boston Girl</td>\n",
       "      <td>https://www.goodreads.com/book/show/22450859-t...</td>\n",
       "      <td>From the New York Times bestselling author of ...</td>\n",
       "      <td>3.79</td>\n",
       "      <td>Anita Diamant</td>\n",
       "      <td>6850</td>\n",
       "      <td>Read more of this review @ The Book Return Blo...</td>\n",
       "    </tr>\n",
       "    <tr>\n",
       "      <th>1</th>\n",
       "      <td>The storyline sounded intriguing, but I just c...</td>\n",
       "      <td>Children of the Jedi</td>\n",
       "      <td>https://www.goodreads.com/book/show/555313.Chi...</td>\n",
       "      <td>Callista is a brave Jedi warrior who gave her ...</td>\n",
       "      <td>3.26</td>\n",
       "      <td>Barbara Hambly</td>\n",
       "      <td>119</td>\n",
       "      <td>The storyline sounded intriguing, but I just c...</td>\n",
       "    </tr>\n",
       "    <tr>\n",
       "      <th>2</th>\n",
       "      <td>Some good short stories. I particularly liked ...</td>\n",
       "      <td>American Girls About Town</td>\n",
       "      <td>https://www.goodreads.com/book/show/893879.Ame...</td>\n",
       "      <td>This title is an anthology by American women w...</td>\n",
       "      <td>3.47</td>\n",
       "      <td>Jennifer Weiner</td>\n",
       "      <td>5</td>\n",
       "      <td>Some good short stories. I particularly liked ...</td>\n",
       "    </tr>\n",
       "    <tr>\n",
       "      <th>3</th>\n",
       "      <td>Not thorough enough.</td>\n",
       "      <td>The Pagan Book of Days: A Guide to the Festiva...</td>\n",
       "      <td>https://www.goodreads.com/book/show/1020515.Th...</td>\n",
       "      <td></td>\n",
       "      <td>3.83</td>\n",
       "      <td>Nigel Pennick</td>\n",
       "      <td>6</td>\n",
       "      <td>Not thorough enough.The Pagan Book of Days: A ...</td>\n",
       "    </tr>\n",
       "    <tr>\n",
       "      <th>4</th>\n",
       "      <td>I loved the way this book used magic and myste...</td>\n",
       "      <td>Circles in the Stream (Avalon: Web of Magic, #1)</td>\n",
       "      <td>https://www.goodreads.com/book/show/2354843.Ci...</td>\n",
       "      <td>Three very different young teens, Emily, the s...</td>\n",
       "      <td>4.08</td>\n",
       "      <td>Rachel Roberts</td>\n",
       "      <td>132</td>\n",
       "      <td>I loved the way this book used magic and myste...</td>\n",
       "    </tr>\n",
       "    <tr>\n",
       "      <th>...</th>\n",
       "      <td>...</td>\n",
       "      <td>...</td>\n",
       "      <td>...</td>\n",
       "      <td>...</td>\n",
       "      <td>...</td>\n",
       "      <td>...</td>\n",
       "      <td>...</td>\n",
       "      <td>...</td>\n",
       "    </tr>\n",
       "    <tr>\n",
       "      <th>840849</th>\n",
       "      <td>*Read for school. \\n I hated this book SO MUCH...</td>\n",
       "      <td>The Mask of Gold</td>\n",
       "      <td>https://www.goodreads.com/book/show/12796641-t...</td>\n",
       "      <td></td>\n",
       "      <td>1.98</td>\n",
       "      <td>Alan A. McLean</td>\n",
       "      <td>202</td>\n",
       "      <td>*Read for school. \\n I hated this book SO MUCH...</td>\n",
       "    </tr>\n",
       "    <tr>\n",
       "      <th>840850</th>\n",
       "      <td>tyyyyyyyyyyyyyyyyyyyyyt</td>\n",
       "      <td>The Mask of Gold</td>\n",
       "      <td>https://www.goodreads.com/book/show/12796641-t...</td>\n",
       "      <td></td>\n",
       "      <td>1.98</td>\n",
       "      <td>Alan A. McLean</td>\n",
       "      <td>202</td>\n",
       "      <td>tyyyyyyyyyyyyyyyyyyyyytThe Mask of GoldAlan A....</td>\n",
       "    </tr>\n",
       "    <tr>\n",
       "      <th>840851</th>\n",
       "      <td>'qwl yh bs !!! yl y zbl@ bdhkrytk lzbl@ .... q...</td>\n",
       "      <td>The Mask of Gold</td>\n",
       "      <td>https://www.goodreads.com/book/show/12796641-t...</td>\n",
       "      <td></td>\n",
       "      <td>1.98</td>\n",
       "      <td>Alan A. McLean</td>\n",
       "      <td>202</td>\n",
       "      <td>'qwl yh bs !!! yl y zbl@ bdhkrytk lzbl@ .... q...</td>\n",
       "    </tr>\n",
       "    <tr>\n",
       "      <th>840852</th>\n",
       "      <td>There was the promise of some fascinating idea...</td>\n",
       "      <td>Tapping Into Past Lives: Heal Soul Traumas and...</td>\n",
       "      <td>https://www.goodreads.com/book/show/23869887-t...</td>\n",
       "      <td></td>\n",
       "      <td>3.69</td>\n",
       "      <td>Jenny Johnston</td>\n",
       "      <td>3</td>\n",
       "      <td>There was the promise of some fascinating idea...</td>\n",
       "    </tr>\n",
       "    <tr>\n",
       "      <th>840853</th>\n",
       "      <td>Wow! I thought this was a four star book until...</td>\n",
       "      <td>Quest for the Nail Prints</td>\n",
       "      <td>https://www.goodreads.com/book/show/10425757-q...</td>\n",
       "      <td>If you've ever imagined spending time with the...</td>\n",
       "      <td>3.96</td>\n",
       "      <td>Don Furr</td>\n",
       "      <td>25</td>\n",
       "      <td>Wow! I thought this was a four star book until...</td>\n",
       "    </tr>\n",
       "  </tbody>\n",
       "</table>\n",
       "<p>840854 rows × 8 columns</p>\n",
       "</div>"
      ],
      "text/plain": [
       "                                              review_text  \\\n",
       "0       Read more of this review @ The Book Return Blo...   \n",
       "1       The storyline sounded intriguing, but I just c...   \n",
       "2       Some good short stories. I particularly liked ...   \n",
       "3                                    Not thorough enough.   \n",
       "4       I loved the way this book used magic and myste...   \n",
       "...                                                   ...   \n",
       "840849  *Read for school. \\n I hated this book SO MUCH...   \n",
       "840850                            tyyyyyyyyyyyyyyyyyyyyyt   \n",
       "840851  'qwl yh bs !!! yl y zbl@ bdhkrytk lzbl@ .... q...   \n",
       "840852  There was the promise of some fascinating idea...   \n",
       "840853  Wow! I thought this was a four star book until...   \n",
       "\n",
       "                                                    title  \\\n",
       "0                                         The Boston Girl   \n",
       "1                                    Children of the Jedi   \n",
       "2                               American Girls About Town   \n",
       "3       The Pagan Book of Days: A Guide to the Festiva...   \n",
       "4        Circles in the Stream (Avalon: Web of Magic, #1)   \n",
       "...                                                   ...   \n",
       "840849                                   The Mask of Gold   \n",
       "840850                                   The Mask of Gold   \n",
       "840851                                   The Mask of Gold   \n",
       "840852  Tapping Into Past Lives: Heal Soul Traumas and...   \n",
       "840853                          Quest for the Nail Prints   \n",
       "\n",
       "                                                     link  \\\n",
       "0       https://www.goodreads.com/book/show/22450859-t...   \n",
       "1       https://www.goodreads.com/book/show/555313.Chi...   \n",
       "2       https://www.goodreads.com/book/show/893879.Ame...   \n",
       "3       https://www.goodreads.com/book/show/1020515.Th...   \n",
       "4       https://www.goodreads.com/book/show/2354843.Ci...   \n",
       "...                                                   ...   \n",
       "840849  https://www.goodreads.com/book/show/12796641-t...   \n",
       "840850  https://www.goodreads.com/book/show/12796641-t...   \n",
       "840851  https://www.goodreads.com/book/show/12796641-t...   \n",
       "840852  https://www.goodreads.com/book/show/23869887-t...   \n",
       "840853  https://www.goodreads.com/book/show/10425757-q...   \n",
       "\n",
       "                                              description average_rating  \\\n",
       "0       From the New York Times bestselling author of ...           3.79   \n",
       "1       Callista is a brave Jedi warrior who gave her ...           3.26   \n",
       "2       This title is an anthology by American women w...           3.47   \n",
       "3                                                                   3.83   \n",
       "4       Three very different young teens, Emily, the s...           4.08   \n",
       "...                                                   ...            ...   \n",
       "840849                                                              1.98   \n",
       "840850                                                              1.98   \n",
       "840851                                                              1.98   \n",
       "840852                                                              3.69   \n",
       "840853  If you've ever imagined spending time with the...           3.96   \n",
       "\n",
       "                 author text_reviews_count  \\\n",
       "0         Anita Diamant               6850   \n",
       "1        Barbara Hambly                119   \n",
       "2       Jennifer Weiner                  5   \n",
       "3         Nigel Pennick                  6   \n",
       "4        Rachel Roberts                132   \n",
       "...                 ...                ...   \n",
       "840849   Alan A. McLean                202   \n",
       "840850   Alan A. McLean                202   \n",
       "840851   Alan A. McLean                202   \n",
       "840852   Jenny Johnston                  3   \n",
       "840853         Don Furr                 25   \n",
       "\n",
       "                                                 sentence  \n",
       "0       Read more of this review @ The Book Return Blo...  \n",
       "1       The storyline sounded intriguing, but I just c...  \n",
       "2       Some good short stories. I particularly liked ...  \n",
       "3       Not thorough enough.The Pagan Book of Days: A ...  \n",
       "4       I loved the way this book used magic and myste...  \n",
       "...                                                   ...  \n",
       "840849  *Read for school. \\n I hated this book SO MUCH...  \n",
       "840850  tyyyyyyyyyyyyyyyyyyyyytThe Mask of GoldAlan A....  \n",
       "840851  'qwl yh bs !!! yl y zbl@ bdhkrytk lzbl@ .... q...  \n",
       "840852  There was the promise of some fascinating idea...  \n",
       "840853  Wow! I thought this was a four star book until...  \n",
       "\n",
       "[840854 rows x 8 columns]"
      ]
     },
     "execution_count": 11,
     "metadata": {},
     "output_type": "execute_result"
    }
   ],
   "source": [
    "embeddings"
   ]
  },
  {
   "cell_type": "code",
   "execution_count": 12,
   "id": "93c1473e",
   "metadata": {},
   "outputs": [],
   "source": [
    "corpus = embeddings[\"sentence\"].tolist()\n",
    "titles = embeddings[\"title\"].tolist()\n",
    "author = embeddings[\"author\"].tolist()\n",
    "link = embeddings[\"link\"].tolist()\n",
    "review_count = embeddings[\"text_reviews_count\"].tolist()\n",
    "indices = embeddings.index.tolist()"
   ]
  },
  {
   "cell_type": "code",
   "execution_count": 13,
   "id": "7d7f04f9",
   "metadata": {
    "scrolled": true
   },
   "outputs": [
    {
     "name": "stderr",
     "output_type": "stream",
     "text": [
      "INFO:sentence_transformers.SentenceTransformer:Load pretrained SentenceTransformer: sentence-transformers/msmarco-distilbert-base-v3\n"
     ]
    },
    {
     "data": {
      "application/vnd.jupyter.widget-view+json": {
       "model_id": "e67e124cd19e41d3920ecffb90ae36d0",
       "version_major": 2,
       "version_minor": 0
      },
      "text/plain": [
       "Downloading (…)da7dc/.gitattributes:   0%|          | 0.00/690 [00:00<?, ?B/s]"
      ]
     },
     "metadata": {},
     "output_type": "display_data"
    },
    {
     "data": {
      "application/vnd.jupyter.widget-view+json": {
       "model_id": "6a1ed8ff8f5f4d1ca873f440a2b73c2b",
       "version_major": 2,
       "version_minor": 0
      },
      "text/plain": [
       "Downloading (…)_Pooling/config.json:   0%|          | 0.00/190 [00:00<?, ?B/s]"
      ]
     },
     "metadata": {},
     "output_type": "display_data"
    },
    {
     "data": {
      "application/vnd.jupyter.widget-view+json": {
       "model_id": "4aa7a0eed2cf4d76ae72eb809e0145e0",
       "version_major": 2,
       "version_minor": 0
      },
      "text/plain": [
       "Downloading (…)3fc4bda7dc/README.md:   0%|          | 0.00/3.71k [00:00<?, ?B/s]"
      ]
     },
     "metadata": {},
     "output_type": "display_data"
    },
    {
     "data": {
      "application/vnd.jupyter.widget-view+json": {
       "model_id": "e66e71fb4ced4e52a9dacec19b459b34",
       "version_major": 2,
       "version_minor": 0
      },
      "text/plain": [
       "Downloading (…)c4bda7dc/config.json:   0%|          | 0.00/545 [00:00<?, ?B/s]"
      ]
     },
     "metadata": {},
     "output_type": "display_data"
    },
    {
     "data": {
      "application/vnd.jupyter.widget-view+json": {
       "model_id": "ef0b29448fac4fd3bb269a0d9dda3b17",
       "version_major": 2,
       "version_minor": 0
      },
      "text/plain": [
       "Downloading (…)ce_transformers.json:   0%|          | 0.00/122 [00:00<?, ?B/s]"
      ]
     },
     "metadata": {},
     "output_type": "display_data"
    },
    {
     "data": {
      "application/vnd.jupyter.widget-view+json": {
       "model_id": "292c760b298b49939bd09381d11dd54c",
       "version_major": 2,
       "version_minor": 0
      },
      "text/plain": [
       "Downloading pytorch_model.bin:   0%|          | 0.00/265M [00:00<?, ?B/s]"
      ]
     },
     "metadata": {},
     "output_type": "display_data"
    },
    {
     "data": {
      "application/vnd.jupyter.widget-view+json": {
       "model_id": "493b3807146d492cadb93af83e7eb684",
       "version_major": 2,
       "version_minor": 0
      },
      "text/plain": [
       "Downloading (…)nce_bert_config.json:   0%|          | 0.00/53.0 [00:00<?, ?B/s]"
      ]
     },
     "metadata": {},
     "output_type": "display_data"
    },
    {
     "data": {
      "application/vnd.jupyter.widget-view+json": {
       "model_id": "c53443a2d71d4b8290b08a475e59fc86",
       "version_major": 2,
       "version_minor": 0
      },
      "text/plain": [
       "Downloading (…)cial_tokens_map.json:   0%|          | 0.00/112 [00:00<?, ?B/s]"
      ]
     },
     "metadata": {},
     "output_type": "display_data"
    },
    {
     "data": {
      "application/vnd.jupyter.widget-view+json": {
       "model_id": "31b702dfb14a4432b4853b6399adbef3",
       "version_major": 2,
       "version_minor": 0
      },
      "text/plain": [
       "Downloading (…)da7dc/tokenizer.json:   0%|          | 0.00/466k [00:00<?, ?B/s]"
      ]
     },
     "metadata": {},
     "output_type": "display_data"
    },
    {
     "data": {
      "application/vnd.jupyter.widget-view+json": {
       "model_id": "41f33c2a640249cc8344000c8abfb68a",
       "version_major": 2,
       "version_minor": 0
      },
      "text/plain": [
       "Downloading (…)okenizer_config.json:   0%|          | 0.00/499 [00:00<?, ?B/s]"
      ]
     },
     "metadata": {},
     "output_type": "display_data"
    },
    {
     "data": {
      "application/vnd.jupyter.widget-view+json": {
       "model_id": "875278aae11f4a73ad0feac74a8b95b3",
       "version_major": 2,
       "version_minor": 0
      },
      "text/plain": [
       "Downloading (…)3fc4bda7dc/vocab.txt:   0%|          | 0.00/232k [00:00<?, ?B/s]"
      ]
     },
     "metadata": {},
     "output_type": "display_data"
    },
    {
     "data": {
      "application/vnd.jupyter.widget-view+json": {
       "model_id": "7f651373fa3f465292631d5590a3df57",
       "version_major": 2,
       "version_minor": 0
      },
      "text/plain": [
       "Downloading (…)4bda7dc/modules.json:   0%|          | 0.00/229 [00:00<?, ?B/s]"
      ]
     },
     "metadata": {},
     "output_type": "display_data"
    },
    {
     "name": "stderr",
     "output_type": "stream",
     "text": [
      "INFO:sentence_transformers.SentenceTransformer:Use pytorch device: cuda\n"
     ]
    },
    {
     "data": {
      "application/vnd.jupyter.widget-view+json": {
       "model_id": "162a0863c8ec474c869333db03da1b28",
       "version_major": 2,
       "version_minor": 0
      },
      "text/plain": [
       "Batches:   0%|          | 0/26277 [00:00<?, ?it/s]"
      ]
     },
     "metadata": {},
     "output_type": "display_data"
    }
   ],
   "source": [
    "from sentence_transformers import SentenceTransformer, util\n",
    "\n",
    "#  A common value for BERT & Co. are 512 word pieces, which correspond to about 300-400 words (for English).\n",
    "# Longer texts than this are truncated to the first x word pieces.\n",
    "# By default, the provided methods use a limit fo 128 word pieces, longer inputs will be truncated\n",
    "# the runtime and the memory requirement grows quadratic with the input length - we'll have to play around with this\n",
    "\n",
    "# Change the length to 200\n",
    "model = SentenceTransformer(\"sentence-transformers/msmarco-distilbert-base-v3\")\n",
    "model.max_seq_length = 200\n",
    "\n",
    "\n",
    "corpus_embeddings = model.encode(\n",
    "    corpus, show_progress_bar=True, device=\"cuda\", convert_to_numpy=False\n",
    ")"
   ]
  },
  {
   "cell_type": "code",
   "execution_count": null,
   "id": "d2fa56e4",
   "metadata": {},
   "outputs": [],
   "source": [
    "embeddings_list = [x.tolist() for x in corpus_embeddings]\n",
    "embedding_tuple = list(\n",
    "    zip(titles, indices, author, link, review_count, embeddings_list)\n",
    ")"
   ]
  },
  {
   "cell_type": "code",
   "execution_count": null,
   "id": "b9a12ab7",
   "metadata": {},
   "outputs": [],
   "source": [
    "from tqdm import tqdm\n",
    "import numpy as np\n",
    "import pyarrow as pa\n",
    "import pandas as pd\n",
    "\n",
    "df = pd.DataFrame(\n",
    "    embedding_tuple,\n",
    "    columns=[\"title\", \"index\", \"author\", \"link\", \"review_count\", \"embeddings\"],\n",
    ")"
   ]
  },
  {
   "cell_type": "code",
   "execution_count": 16,
   "id": "f46d6122",
   "metadata": {},
   "outputs": [
    {
     "data": {
      "text/html": [
       "<div>\n",
       "<style scoped>\n",
       "    .dataframe tbody tr th:only-of-type {\n",
       "        vertical-align: middle;\n",
       "    }\n",
       "\n",
       "    .dataframe tbody tr th {\n",
       "        vertical-align: top;\n",
       "    }\n",
       "\n",
       "    .dataframe thead th {\n",
       "        text-align: right;\n",
       "    }\n",
       "</style>\n",
       "<table border=\"1\" class=\"dataframe\">\n",
       "  <thead>\n",
       "    <tr style=\"text-align: right;\">\n",
       "      <th></th>\n",
       "      <th>title</th>\n",
       "      <th>index</th>\n",
       "      <th>author</th>\n",
       "      <th>link</th>\n",
       "      <th>review_count</th>\n",
       "      <th>embeddings</th>\n",
       "    </tr>\n",
       "  </thead>\n",
       "  <tbody>\n",
       "    <tr>\n",
       "      <th>0</th>\n",
       "      <td>The Boston Girl</td>\n",
       "      <td>0</td>\n",
       "      <td>Anita Diamant</td>\n",
       "      <td>https://www.goodreads.com/book/show/22450859-t...</td>\n",
       "      <td>6850</td>\n",
       "      <td>[0.3218096196651459, -0.10958044230937958, -0....</td>\n",
       "    </tr>\n",
       "    <tr>\n",
       "      <th>1</th>\n",
       "      <td>Children of the Jedi</td>\n",
       "      <td>1</td>\n",
       "      <td>Barbara Hambly</td>\n",
       "      <td>https://www.goodreads.com/book/show/555313.Chi...</td>\n",
       "      <td>119</td>\n",
       "      <td>[-0.35003960132598877, -0.19994723796844482, 0...</td>\n",
       "    </tr>\n",
       "    <tr>\n",
       "      <th>2</th>\n",
       "      <td>American Girls About Town</td>\n",
       "      <td>2</td>\n",
       "      <td>Jennifer Weiner</td>\n",
       "      <td>https://www.goodreads.com/book/show/893879.Ame...</td>\n",
       "      <td>5</td>\n",
       "      <td>[-0.04687519371509552, -0.531970202922821, 0.3...</td>\n",
       "    </tr>\n",
       "    <tr>\n",
       "      <th>3</th>\n",
       "      <td>The Pagan Book of Days: A Guide to the Festiva...</td>\n",
       "      <td>3</td>\n",
       "      <td>Nigel Pennick</td>\n",
       "      <td>https://www.goodreads.com/book/show/1020515.Th...</td>\n",
       "      <td>6</td>\n",
       "      <td>[0.007908889092504978, -0.2877320945262909, 0....</td>\n",
       "    </tr>\n",
       "    <tr>\n",
       "      <th>4</th>\n",
       "      <td>Circles in the Stream (Avalon: Web of Magic, #1)</td>\n",
       "      <td>4</td>\n",
       "      <td>Rachel Roberts</td>\n",
       "      <td>https://www.goodreads.com/book/show/2354843.Ci...</td>\n",
       "      <td>132</td>\n",
       "      <td>[0.4315156042575836, -0.26592448353767395, 0.3...</td>\n",
       "    </tr>\n",
       "    <tr>\n",
       "      <th>...</th>\n",
       "      <td>...</td>\n",
       "      <td>...</td>\n",
       "      <td>...</td>\n",
       "      <td>...</td>\n",
       "      <td>...</td>\n",
       "      <td>...</td>\n",
       "    </tr>\n",
       "    <tr>\n",
       "      <th>840849</th>\n",
       "      <td>The Mask of Gold</td>\n",
       "      <td>840849</td>\n",
       "      <td>Alan A. McLean</td>\n",
       "      <td>https://www.goodreads.com/book/show/12796641-t...</td>\n",
       "      <td>202</td>\n",
       "      <td>[0.056099820882081985, 0.47604134678840637, -0...</td>\n",
       "    </tr>\n",
       "    <tr>\n",
       "      <th>840850</th>\n",
       "      <td>The Mask of Gold</td>\n",
       "      <td>840850</td>\n",
       "      <td>Alan A. McLean</td>\n",
       "      <td>https://www.goodreads.com/book/show/12796641-t...</td>\n",
       "      <td>202</td>\n",
       "      <td>[0.7861809730529785, 1.0913476943969727, 0.083...</td>\n",
       "    </tr>\n",
       "    <tr>\n",
       "      <th>840851</th>\n",
       "      <td>The Mask of Gold</td>\n",
       "      <td>840851</td>\n",
       "      <td>Alan A. McLean</td>\n",
       "      <td>https://www.goodreads.com/book/show/12796641-t...</td>\n",
       "      <td>202</td>\n",
       "      <td>[0.9624336957931519, 0.7762323617935181, 0.390...</td>\n",
       "    </tr>\n",
       "    <tr>\n",
       "      <th>840852</th>\n",
       "      <td>Tapping Into Past Lives: Heal Soul Traumas and...</td>\n",
       "      <td>840852</td>\n",
       "      <td>Jenny Johnston</td>\n",
       "      <td>https://www.goodreads.com/book/show/23869887-t...</td>\n",
       "      <td>3</td>\n",
       "      <td>[0.5977463126182556, -0.2535926103591919, 0.06...</td>\n",
       "    </tr>\n",
       "    <tr>\n",
       "      <th>840853</th>\n",
       "      <td>Quest for the Nail Prints</td>\n",
       "      <td>840853</td>\n",
       "      <td>Don Furr</td>\n",
       "      <td>https://www.goodreads.com/book/show/10425757-q...</td>\n",
       "      <td>25</td>\n",
       "      <td>[0.3711446225643158, -0.0648973137140274, 0.55...</td>\n",
       "    </tr>\n",
       "  </tbody>\n",
       "</table>\n",
       "<p>840854 rows × 6 columns</p>\n",
       "</div>"
      ],
      "text/plain": [
       "                                                    title   index  \\\n",
       "0                                         The Boston Girl       0   \n",
       "1                                    Children of the Jedi       1   \n",
       "2                               American Girls About Town       2   \n",
       "3       The Pagan Book of Days: A Guide to the Festiva...       3   \n",
       "4        Circles in the Stream (Avalon: Web of Magic, #1)       4   \n",
       "...                                                   ...     ...   \n",
       "840849                                   The Mask of Gold  840849   \n",
       "840850                                   The Mask of Gold  840850   \n",
       "840851                                   The Mask of Gold  840851   \n",
       "840852  Tapping Into Past Lives: Heal Soul Traumas and...  840852   \n",
       "840853                          Quest for the Nail Prints  840853   \n",
       "\n",
       "                 author                                               link  \\\n",
       "0         Anita Diamant  https://www.goodreads.com/book/show/22450859-t...   \n",
       "1        Barbara Hambly  https://www.goodreads.com/book/show/555313.Chi...   \n",
       "2       Jennifer Weiner  https://www.goodreads.com/book/show/893879.Ame...   \n",
       "3         Nigel Pennick  https://www.goodreads.com/book/show/1020515.Th...   \n",
       "4        Rachel Roberts  https://www.goodreads.com/book/show/2354843.Ci...   \n",
       "...                 ...                                                ...   \n",
       "840849   Alan A. McLean  https://www.goodreads.com/book/show/12796641-t...   \n",
       "840850   Alan A. McLean  https://www.goodreads.com/book/show/12796641-t...   \n",
       "840851   Alan A. McLean  https://www.goodreads.com/book/show/12796641-t...   \n",
       "840852   Jenny Johnston  https://www.goodreads.com/book/show/23869887-t...   \n",
       "840853         Don Furr  https://www.goodreads.com/book/show/10425757-q...   \n",
       "\n",
       "       review_count                                         embeddings  \n",
       "0              6850  [0.3218096196651459, -0.10958044230937958, -0....  \n",
       "1               119  [-0.35003960132598877, -0.19994723796844482, 0...  \n",
       "2                 5  [-0.04687519371509552, -0.531970202922821, 0.3...  \n",
       "3                 6  [0.007908889092504978, -0.2877320945262909, 0....  \n",
       "4               132  [0.4315156042575836, -0.26592448353767395, 0.3...  \n",
       "...             ...                                                ...  \n",
       "840849          202  [0.056099820882081985, 0.47604134678840637, -0...  \n",
       "840850          202  [0.7861809730529785, 1.0913476943969727, 0.083...  \n",
       "840851          202  [0.9624336957931519, 0.7762323617935181, 0.390...  \n",
       "840852            3  [0.5977463126182556, -0.2535926103591919, 0.06...  \n",
       "840853           25  [0.3711446225643158, -0.0648973137140274, 0.55...  \n",
       "\n",
       "[840854 rows x 6 columns]"
      ]
     },
     "execution_count": 16,
     "metadata": {},
     "output_type": "execute_result"
    }
   ],
   "source": [
    "df"
   ]
  },
  {
   "cell_type": "code",
   "execution_count": 17,
   "id": "83ff21b4",
   "metadata": {},
   "outputs": [],
   "source": [
    "fields = [\n",
    "    (\"title\", pa.string()),\n",
    "    (\"index\", pa.int64(), False),\n",
    "    (\"author\", pa.string()),\n",
    "    (\"link\", pa.string()),\n",
    "    (\"review_count\", pa.string()),\n",
    "    (\"embeddings\", pa.large_list(pa.float64())),\n",
    "]\n",
    "schema = pa.schema(fields)\n",
    "\n",
    "df.to_parquet(\n",
    "    \"20230711_learned_embeddings.snappy\",\n",
    "    engine=\"pyarrow\",\n",
    "    compression=\"snappy\",\n",
    "    schema=schema,\n",
    ")"
   ]
  },
  {
   "cell_type": "code",
   "execution_count": null,
   "id": "d747ae1f",
   "metadata": {},
   "outputs": [],
   "source": []
  }
 ],
 "metadata": {
  "kernelspec": {
   "display_name": "Environment (conda_pytorch_p310)",
   "language": "python",
   "name": "conda_pytorch_p310"
  },
  "language_info": {
   "codemirror_mode": {
    "name": "ipython",
    "version": 3
   },
   "file_extension": ".py",
   "mimetype": "text/x-python",
   "name": "python",
   "nbconvert_exporter": "python",
   "pygments_lexer": "ipython3",
   "version": "3.10.10"
  }
 },
 "nbformat": 4,
 "nbformat_minor": 5
}
