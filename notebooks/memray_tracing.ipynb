{
 "cells": [
  {
   "cell_type": "code",
   "execution_count": 1,
   "id": "f4bc21ff",
   "metadata": {},
   "outputs": [
    {
     "name": "stdout",
     "output_type": "stream",
     "text": [
      "\u001b[33mDEPRECATION: Configuring installation scheme with distutils config files is deprecated and will no longer work in the near future. If you are using a Homebrew or Linuxbrew Python, please see discussion at https://github.com/Homebrew/homebrew-core/issues/76621\u001b[0m\u001b[33m\n",
      "\u001b[0m\u001b[33mDEPRECATION: Configuring installation scheme with distutils config files is deprecated and will no longer work in the near future. If you are using a Homebrew or Linuxbrew Python, please see discussion at https://github.com/Homebrew/homebrew-core/issues/76621\u001b[0m\u001b[33m\n",
      "\u001b[0m\u001b[33mWARNING: You are using pip version 22.0.4; however, version 22.3.1 is available.\n",
      "You should consider upgrading via the '/usr/local/opt/python@3.9/bin/python3.9 -m pip install --upgrade pip' command.\u001b[0m\u001b[33m\n",
      "\u001b[0m"
     ]
    }
   ],
   "source": [
    "import sys\n",
    "!{sys.executable} -m pip  install --quiet pyarrow memray pandas watermark ipywidgets bs4 polars rich humanize"
   ]
  },
  {
   "cell_type": "markdown",
   "id": "764eba72",
   "metadata": {},
   "source": [
    "Inspired by [Peter's notebook here](https://colab.research.google.com/drive/1TWa9L5NQE-cBYOpFvzwSu7Rjoy6QtFWw#scrollTo=OTEolvIk4Cmb)"
   ]
  },
  {
   "cell_type": "code",
   "execution_count": 25,
   "id": "1ee6f097",
   "metadata": {},
   "outputs": [],
   "source": [
    "from tempfile import NamedTemporaryFile\n",
    "from pathlib import Path\n",
    "import os\n",
    "\n",
    "import pandas as pd\n",
    "import humanize\n",
    "\n",
    "from bs4 import BeautifulSoup\n",
    "from rich import print"
   ]
  },
  {
   "cell_type": "code",
   "execution_count": 13,
   "id": "8bc7da96",
   "metadata": {},
   "outputs": [],
   "source": [
    "%load_ext memray"
   ]
  },
  {
   "cell_type": "code",
   "execution_count": 16,
   "id": "30c3ce15",
   "metadata": {},
   "outputs": [],
   "source": [
    "# Use arrow directly: https://arrow.apache.org/docs/python/json.html\n",
    "# sample with one row of data\n",
    "table = json.read_json(\"/Users/vicki/viberary/viberary/jsonparquet/src/main/resources/goodreads_sample.json\")"
   ]
  },
  {
   "cell_type": "code",
   "execution_count": 17,
   "id": "49a48e96",
   "metadata": {},
   "outputs": [
    {
     "data": {
      "text/plain": [
       "pyarrow.Table\n",
       "isbn: string\n",
       "text_reviews_count: string\n",
       "series: list<item: null>\n",
       "  child 0, item: null\n",
       "country_code: string\n",
       "language_code: string\n",
       "popular_shelves: list<item: struct<count: string, name: string>>\n",
       "  child 0, item: struct<count: string, name: string>\n",
       "      child 0, count: string\n",
       "      child 1, name: string\n",
       "asin: string\n",
       "is_ebook: string\n",
       "average_rating: string\n",
       "kindle_asin: string\n",
       "similar_books: list<item: string>\n",
       "  child 0, item: string\n",
       "description: string\n",
       "format: string\n",
       "link: string\n",
       "authors: list<item: struct<author_id: string, role: string>>\n",
       "  child 0, item: struct<author_id: string, role: string>\n",
       "      child 0, author_id: string\n",
       "      child 1, role: string\n",
       "publisher: string\n",
       "num_pages: string\n",
       "publication_day: string\n",
       "isbn13: string\n",
       "publication_month: string\n",
       "edition_information: string\n",
       "publication_year: string\n",
       "url: string\n",
       "image_url: string\n",
       "book_id: string\n",
       "ratings_count: string\n",
       "work_id: string\n",
       "title: string\n",
       "title_without_series: string\n",
       "----\n",
       "isbn: [[\"0743509986\"]]\n",
       "text_reviews_count: [[\"6\"]]\n",
       "series: [[0 nulls]]\n",
       "country_code: [[\"US\"]]\n",
       "language_code: [[\"\"]]\n",
       "popular_shelves: [[    -- is_valid: all not null\n",
       "    -- child 0 type: string\n",
       "[\"2634\",\"160\",\"92\",\"25\",\"22\",...,\"2\",\"2\",\"2\",\"2\",\"2\"]\n",
       "    -- child 1 type: string\n",
       "[\"to-read\",\"fiction\",\"currently-reading\",\"contemporary-fiction\",\"owned\",...,\"beach-read\",\"unread-books-i-own\",\"read-in-2008\",\"in-my-library\",\"general\"]]]\n",
       "asin: [[\"\"]]\n",
       "is_ebook: [[\"false\"]]\n",
       "average_rating: [[\"3.23\"]]\n",
       "kindle_asin: [[\"B000FC0PBC\"]]\n",
       "..."
      ]
     },
     "execution_count": 17,
     "metadata": {},
     "output_type": "execute_result"
    }
   ],
   "source": [
    "table "
   ]
  },
  {
   "cell_type": "code",
   "execution_count": 27,
   "id": "12eadca0",
   "metadata": {},
   "outputs": [
    {
     "data": {
      "text/html": [
       "<pre style=\"white-space:pre;overflow-x:auto;line-height:normal;font-family:Menlo,'DejaVu Sans Mono',consolas,'Courier New',monospace\"><span style=\"color: #008000; text-decoration-color: #008000\">⠋</span> <span style=\"color: #000080; text-decoration-color: #000080\">Processing allocation records...</span> <span style=\"color: #3a3a3a; text-decoration-color: #3a3a3a\">━━━━━━━━━━━━━━━━━━━━━━━━━━━━━━━━━━━━━━━━</span> <span style=\"color: #800080; text-decoration-color: #800080\">  0%</span> <span style=\"color: #008080; text-decoration-color: #008080\">-:--:--</span>\n",
       "</pre>\n"
      ],
      "text/plain": [
       "\u001b[32m⠋\u001b[0m \u001b[34mProcessing allocation records...\u001b[0m \u001b[38;5;237m━━━━━━━━━━━━━━━━━━━━━━━━━━━━━━━━━━━━━━━━\u001b[0m \u001b[35m  0%\u001b[0m \u001b[36m-:--:--\u001b[0m\n"
      ]
     },
     "metadata": {},
     "output_type": "display_data"
    },
    {
     "data": {
      "text/html": [
       "<pre style=\"white-space:pre;overflow-x:auto;line-height:normal;font-family:Menlo,'DejaVu Sans Mono',consolas,'Courier New',monospace\"></pre>\n"
      ],
      "text/plain": []
     },
     "metadata": {},
     "output_type": "display_data"
    },
    {
     "data": {
      "text/html": [
       "<pre style=\"white-space:pre;overflow-x:auto;line-height:normal;font-family:Menlo,'DejaVu Sans Mono',consolas,'Courier New',monospace\">\n",
       "</pre>\n"
      ],
      "text/plain": [
       "\n"
      ]
     },
     "metadata": {},
     "output_type": "display_data"
    },
    {
     "data": {
      "text/html": [
       "<pre style=\"white-space:pre;overflow-x:auto;line-height:normal;font-family:Menlo,'DejaVu Sans Mono',consolas,'Courier New',monospace\">Results saved to <span style=\"color: #000080; text-decoration-color: #000080; font-weight: bold\">memray-results/tmpmgawbhfs/flamegraph.html</span>\n",
       "</pre>\n"
      ],
      "text/plain": [
       "Results saved to \u001b[1;34mmemray-results/tmpmgawbhfs/flamegraph.html\u001b[0m\n"
      ]
     },
     "metadata": {},
     "output_type": "display_data"
    },
    {
     "data": {
      "text/html": [
       "\n",
       "        <iframe\n",
       "            width=\"100%\"\n",
       "            height=\"600\"\n",
       "            src=\"memray-results/tmpmgawbhfs/flamegraph.html\"\n",
       "            frameborder=\"0\"\n",
       "            allowfullscreen\n",
       "            \n",
       "        ></iframe>\n",
       "        "
      ],
      "text/plain": [
       "<IPython.lib.display.IFrame at 0x14c29aa30>"
      ]
     },
     "metadata": {},
     "output_type": "display_data"
    }
   ],
   "source": [
    "%%memray_flamegraph\n",
    "df = table.to_pandas()"
   ]
  },
  {
   "cell_type": "code",
   "execution_count": 28,
   "id": "da2d54e4",
   "metadata": {},
   "outputs": [
    {
     "data": {
      "text/html": [
       "<div>\n",
       "<style scoped>\n",
       "    .dataframe tbody tr th:only-of-type {\n",
       "        vertical-align: middle;\n",
       "    }\n",
       "\n",
       "    .dataframe tbody tr th {\n",
       "        vertical-align: top;\n",
       "    }\n",
       "\n",
       "    .dataframe thead th {\n",
       "        text-align: right;\n",
       "    }\n",
       "</style>\n",
       "<table border=\"1\" class=\"dataframe\">\n",
       "  <thead>\n",
       "    <tr style=\"text-align: right;\">\n",
       "      <th></th>\n",
       "      <th>isbn</th>\n",
       "      <th>text_reviews_count</th>\n",
       "      <th>series</th>\n",
       "      <th>country_code</th>\n",
       "      <th>language_code</th>\n",
       "      <th>popular_shelves</th>\n",
       "      <th>asin</th>\n",
       "      <th>is_ebook</th>\n",
       "      <th>average_rating</th>\n",
       "      <th>kindle_asin</th>\n",
       "      <th>...</th>\n",
       "      <th>publication_month</th>\n",
       "      <th>edition_information</th>\n",
       "      <th>publication_year</th>\n",
       "      <th>url</th>\n",
       "      <th>image_url</th>\n",
       "      <th>book_id</th>\n",
       "      <th>ratings_count</th>\n",
       "      <th>work_id</th>\n",
       "      <th>title</th>\n",
       "      <th>title_without_series</th>\n",
       "    </tr>\n",
       "  </thead>\n",
       "  <tbody>\n",
       "    <tr>\n",
       "      <th>0</th>\n",
       "      <td>0743509986</td>\n",
       "      <td>6</td>\n",
       "      <td>[]</td>\n",
       "      <td>US</td>\n",
       "      <td></td>\n",
       "      <td>[{'count': '2634', 'name': 'to-read'}, {'count...</td>\n",
       "      <td></td>\n",
       "      <td>false</td>\n",
       "      <td>3.23</td>\n",
       "      <td>B000FC0PBC</td>\n",
       "      <td>...</td>\n",
       "      <td>10</td>\n",
       "      <td>Abridged</td>\n",
       "      <td>2001</td>\n",
       "      <td>https://www.goodreads.com/book/show/1333909.Go...</td>\n",
       "      <td>https://s.gr-assets.com/assets/nophoto/book/11...</td>\n",
       "      <td>1333909</td>\n",
       "      <td>10</td>\n",
       "      <td>1323437</td>\n",
       "      <td>Good Harbor</td>\n",
       "      <td>Good Harbor</td>\n",
       "    </tr>\n",
       "  </tbody>\n",
       "</table>\n",
       "<p>1 rows × 29 columns</p>\n",
       "</div>"
      ],
      "text/plain": [
       "         isbn text_reviews_count series country_code language_code  \\\n",
       "0  0743509986                  6     []           US                 \n",
       "\n",
       "                                     popular_shelves asin is_ebook  \\\n",
       "0  [{'count': '2634', 'name': 'to-read'}, {'count...         false   \n",
       "\n",
       "  average_rating kindle_asin  ... publication_month edition_information  \\\n",
       "0           3.23  B000FC0PBC  ...                10            Abridged   \n",
       "\n",
       "  publication_year                                                url  \\\n",
       "0             2001  https://www.goodreads.com/book/show/1333909.Go...   \n",
       "\n",
       "                                           image_url  book_id ratings_count  \\\n",
       "0  https://s.gr-assets.com/assets/nophoto/book/11...  1333909            10   \n",
       "\n",
       "   work_id        title title_without_series  \n",
       "0  1323437  Good Harbor          Good Harbor  \n",
       "\n",
       "[1 rows x 29 columns]"
      ]
     },
     "execution_count": 28,
     "metadata": {},
     "output_type": "execute_result"
    }
   ],
   "source": [
    "df"
   ]
  },
  {
   "cell_type": "code",
   "execution_count": 29,
   "id": "3bc569d0",
   "metadata": {},
   "outputs": [
    {
     "data": {
      "text/html": [
       "<pre style=\"white-space:pre;overflow-x:auto;line-height:normal;font-family:Menlo,'DejaVu Sans Mono',consolas,'Courier New',monospace\">\n",
       "          Command line: <span style=\"color: #800080; text-decoration-color: #800080\">/usr/local/lib/python3.9/site-packages/</span><span style=\"color: #ff00ff; text-decoration-color: #ff00ff\">ipykernel_launcher.py</span> -f \n",
       "<span style=\"color: #800080; text-decoration-color: #800080\">/Users/vicki/Library/Jupyter/runtime/</span><span style=\"color: #ff00ff; text-decoration-color: #ff00ff\">kernel-87e391e0-0452-4dc9-bbd9-48ccec32f39e.json</span>\n",
       "          Start time: <span style=\"color: #008080; text-decoration-color: #008080; font-weight: bold\">2023</span>-<span style=\"color: #008080; text-decoration-color: #008080; font-weight: bold\">01</span>-<span style=\"color: #008080; text-decoration-color: #008080; font-weight: bold\">11</span> <span style=\"color: #00ff00; text-decoration-color: #00ff00; font-weight: bold\">13:15:56</span>.<span style=\"color: #008080; text-decoration-color: #008080; font-weight: bold\">652000</span>\n",
       "          End time: <span style=\"color: #008080; text-decoration-color: #008080; font-weight: bold\">2023</span>-<span style=\"color: #008080; text-decoration-color: #008080; font-weight: bold\">01</span>-<span style=\"color: #008080; text-decoration-color: #008080; font-weight: bold\">11</span> <span style=\"color: #00ff00; text-decoration-color: #00ff00; font-weight: bold\">13:15:56</span>.<span style=\"color: #008080; text-decoration-color: #008080; font-weight: bold\">705000</span>\n",
       "          Total number of allocations: <span style=\"color: #008080; text-decoration-color: #008080; font-weight: bold\">974</span>\n",
       "          Total number of frames seen: <span style=\"color: #008080; text-decoration-color: #008080; font-weight: bold\">78</span>\n",
       "          Peak memory usage: <span style=\"color: #008080; text-decoration-color: #008080; font-weight: bold\">19.3</span> kB\n",
       "          Python allocator: pymalloc\n",
       "        \n",
       "</pre>\n"
      ],
      "text/plain": [
       "\n",
       "          Command line: \u001b[35m/usr/local/lib/python3.9/site-packages/\u001b[0m\u001b[95mipykernel_launcher.py\u001b[0m -f \n",
       "\u001b[35m/Users/vicki/Library/Jupyter/runtime/\u001b[0m\u001b[95mkernel-87e391e0-0452-4dc9-bbd9-48ccec32f39e.json\u001b[0m\n",
       "          Start time: \u001b[1;36m2023\u001b[0m-\u001b[1;36m01\u001b[0m-\u001b[1;36m11\u001b[0m \u001b[1;92m13:15:56\u001b[0m.\u001b[1;36m652000\u001b[0m\n",
       "          End time: \u001b[1;36m2023\u001b[0m-\u001b[1;36m01\u001b[0m-\u001b[1;36m11\u001b[0m \u001b[1;92m13:15:56\u001b[0m.\u001b[1;36m705000\u001b[0m\n",
       "          Total number of allocations: \u001b[1;36m974\u001b[0m\n",
       "          Total number of frames seen: \u001b[1;36m78\u001b[0m\n",
       "          Peak memory usage: \u001b[1;36m19.3\u001b[0m kB\n",
       "          Python allocator: pymalloc\n",
       "        \n"
      ]
     },
     "metadata": {},
     "output_type": "display_data"
    }
   ],
   "source": [
    "# total memory allocated for DF\n",
    "latest_file = max(Path(\"memray-results/\").glob(\"**/*.html\"), key=os.path.getmtime)\n",
    "soup = BeautifulSoup(latest_file.read_text())\n",
    "stats = soup.find(\"div\", {\"id\" : \"statsModal\"}).find(\"div\", {\"class\" : \"modal-body\"})\n",
    "print(stats.text)"
   ]
  },
  {
   "cell_type": "code",
   "execution_count": null,
   "id": "6ff0b043",
   "metadata": {},
   "outputs": [],
   "source": [
    "import polars as pl\n",
    "df = pl.read_json(\"/Users/vicki/viberary/viberary/jsonparquet/src/main/resources/goodreads_data.json\")"
   ]
  },
  {
   "cell_type": "code",
   "execution_count": null,
   "id": "6093f5b9",
   "metadata": {},
   "outputs": [],
   "source": [
    "# https://stackoverflow.com/questions/73154392/read-json-on-polars-causes-outofspec-error"
   ]
  }
 ],
 "metadata": {
  "kernelspec": {
   "display_name": "Python 3 (ipykernel)",
   "language": "python",
   "name": "python3"
  },
  "language_info": {
   "codemirror_mode": {
    "name": "ipython",
    "version": 3
   },
   "file_extension": ".py",
   "mimetype": "text/x-python",
   "name": "python",
   "nbconvert_exporter": "python",
   "pygments_lexer": "ipython3",
   "version": "3.9.12"
  }
 },
 "nbformat": 4,
 "nbformat_minor": 5
}
