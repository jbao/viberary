{
 "cells": [
  {
   "cell_type": "code",
   "execution_count": 9,
   "id": "9d46d74b",
   "metadata": {},
   "outputs": [
    {
     "name": "stdout",
     "output_type": "stream",
     "text": [
      "\u001b[33mDEPRECATION: Configuring installation scheme with distutils config files is deprecated and will no longer work in the near future. If you are using a Homebrew or Linuxbrew Python, please see discussion at https://github.com/Homebrew/homebrew-core/issues/76621\u001b[0m\u001b[33m\n",
      "\u001b[0m\u001b[33mDEPRECATION: Configuring installation scheme with distutils config files is deprecated and will no longer work in the near future. If you are using a Homebrew or Linuxbrew Python, please see discussion at https://github.com/Homebrew/homebrew-core/issues/76621\u001b[0m\u001b[33m\n",
      "\u001b[0m\u001b[33mWARNING: You are using pip version 22.0.4; however, version 22.3.1 is available.\n",
      "You should consider upgrading via the '/usr/local/opt/python@3.9/bin/python3.9 -m pip install --upgrade pip' command.\u001b[0m\u001b[33m\n",
      "\u001b[0m"
     ]
    }
   ],
   "source": [
    "import sys\n",
    "!{sys.executable} -m pip  install --quiet pyarrow memray pandas watermark ipywidgets bs4 polars rich humanize"
   ]
  },
  {
   "cell_type": "markdown",
   "id": "36d40b14",
   "metadata": {},
   "source": [
    "Inspired by [Peter's notebook here](https://colab.research.google.com/drive/1TWa9L5NQE-cBYOpFvzwSu7Rjoy6QtFWw#scrollTo=OTEolvIk4Cmb)"
   ]
  },
  {
   "cell_type": "code",
   "execution_count": 22,
   "id": "908a289b",
   "metadata": {},
   "outputs": [],
   "source": [
    "from pyarrow import json\n",
    "from pathlib import Path\n",
    "import os\n",
    "\n",
    "import pandas as pd\n",
    "import humanize\n",
    "\n",
    "from bs4 import BeautifulSoup\n",
    "from rich import print"
   ]
  },
  {
   "cell_type": "code",
   "execution_count": 17,
   "id": "37d220a4",
   "metadata": {},
   "outputs": [
    {
     "name": "stdout",
     "output_type": "stream",
     "text": [
      "The memray extension is already loaded. To reload it, use:\n",
      "  %reload_ext memray\n"
     ]
    }
   ],
   "source": [
    "%load_ext memray"
   ]
  },
  {
   "cell_type": "code",
   "execution_count": 29,
   "id": "bea9d1e2",
   "metadata": {},
   "outputs": [
    {
     "data": {
      "text/html": [
       "<pre style=\"white-space:pre;overflow-x:auto;line-height:normal;font-family:Menlo,'DejaVu Sans Mono',consolas,'Courier New',monospace\">\n",
       "          Command line: <span style=\"color: #800080; text-decoration-color: #800080\">/usr/local/lib/python3.9/site-packages/</span><span style=\"color: #ff00ff; text-decoration-color: #ff00ff\">ipykernel_launcher.py</span> -f \n",
       "<span style=\"color: #800080; text-decoration-color: #800080\">/Users/vicki/Library/Jupyter/runtime/</span><span style=\"color: #ff00ff; text-decoration-color: #ff00ff\">kernel-87e391e0-0452-4dc9-bbd9-48ccec32f39e.json</span>\n",
       "          Start time: <span style=\"color: #008080; text-decoration-color: #008080; font-weight: bold\">2023</span>-<span style=\"color: #008080; text-decoration-color: #008080; font-weight: bold\">01</span>-<span style=\"color: #008080; text-decoration-color: #008080; font-weight: bold\">11</span> <span style=\"color: #00ff00; text-decoration-color: #00ff00; font-weight: bold\">13:15:56</span>.<span style=\"color: #008080; text-decoration-color: #008080; font-weight: bold\">652000</span>\n",
       "          End time: <span style=\"color: #008080; text-decoration-color: #008080; font-weight: bold\">2023</span>-<span style=\"color: #008080; text-decoration-color: #008080; font-weight: bold\">01</span>-<span style=\"color: #008080; text-decoration-color: #008080; font-weight: bold\">11</span> <span style=\"color: #00ff00; text-decoration-color: #00ff00; font-weight: bold\">13:15:56</span>.<span style=\"color: #008080; text-decoration-color: #008080; font-weight: bold\">705000</span>\n",
       "          Total number of allocations: <span style=\"color: #008080; text-decoration-color: #008080; font-weight: bold\">974</span>\n",
       "          Total number of frames seen: <span style=\"color: #008080; text-decoration-color: #008080; font-weight: bold\">78</span>\n",
       "          Peak memory usage: <span style=\"color: #008080; text-decoration-color: #008080; font-weight: bold\">19.3</span> kB\n",
       "          Python allocator: pymalloc\n",
       "        \n",
       "</pre>\n"
      ],
      "text/plain": [
       "\n",
       "          Command line: \u001b[35m/usr/local/lib/python3.9/site-packages/\u001b[0m\u001b[95mipykernel_launcher.py\u001b[0m -f \n",
       "\u001b[35m/Users/vicki/Library/Jupyter/runtime/\u001b[0m\u001b[95mkernel-87e391e0-0452-4dc9-bbd9-48ccec32f39e.json\u001b[0m\n",
       "          Start time: \u001b[1;36m2023\u001b[0m-\u001b[1;36m01\u001b[0m-\u001b[1;36m11\u001b[0m \u001b[1;92m13:15:56\u001b[0m.\u001b[1;36m652000\u001b[0m\n",
       "          End time: \u001b[1;36m2023\u001b[0m-\u001b[1;36m01\u001b[0m-\u001b[1;36m11\u001b[0m \u001b[1;92m13:15:56\u001b[0m.\u001b[1;36m705000\u001b[0m\n",
       "          Total number of allocations: \u001b[1;36m974\u001b[0m\n",
       "          Total number of frames seen: \u001b[1;36m78\u001b[0m\n",
       "          Peak memory usage: \u001b[1;36m19.3\u001b[0m kB\n",
       "          Python allocator: pymalloc\n",
       "        \n"
      ]
     },
     "metadata": {},
     "output_type": "display_data"
    }
   ],
   "source": [
    "# total memory allocated for DF\n",
    "latest_file = max(Path(\"memray-results/\").glob(\"**/*.html\"), key=os.path.getmtime)\n",
    "soup = BeautifulSoup(latest_file.read_text())\n",
    "stats = soup.find(\"div\", {\"id\" : \"statsModal\"}).find(\"div\", {\"class\" : \"modal-body\"})\n",
    "print(stats.text)"
   ]
  },
  {
   "cell_type": "code",
   "execution_count": 20,
   "id": "117d6b5f",
   "metadata": {},
   "outputs": [
    {
     "data": {
      "text/html": [
       "<pre style=\"white-space:pre;overflow-x:auto;line-height:normal;font-family:Menlo,'DejaVu Sans Mono',consolas,'Courier New',monospace\"><span style=\"color: #008000; text-decoration-color: #008000\">⠋</span> <span style=\"color: #000080; text-decoration-color: #000080\">Processing allocation records...</span> <span style=\"color: #3a3a3a; text-decoration-color: #3a3a3a\">━━━━━━━━━━━━━━━━━━━━━━━━━━━━━━━━━━━━━━━━</span> <span style=\"color: #800080; text-decoration-color: #800080\">  0%</span> <span style=\"color: #008080; text-decoration-color: #008080\">-:--:--</span>\n",
       "</pre>\n"
      ],
      "text/plain": [
       "\u001b[32m⠋\u001b[0m \u001b[34mProcessing allocation records...\u001b[0m \u001b[38;5;237m━━━━━━━━━━━━━━━━━━━━━━━━━━━━━━━━━━━━━━━━\u001b[0m \u001b[35m  0%\u001b[0m \u001b[36m-:--:--\u001b[0m\n"
      ]
     },
     "metadata": {},
     "output_type": "display_data"
    },
    {
     "data": {
      "text/html": [
       "<pre style=\"white-space:pre;overflow-x:auto;line-height:normal;font-family:Menlo,'DejaVu Sans Mono',consolas,'Courier New',monospace\"></pre>\n"
      ],
      "text/plain": []
     },
     "metadata": {},
     "output_type": "display_data"
    },
    {
     "data": {
      "text/html": [
       "<pre style=\"white-space:pre;overflow-x:auto;line-height:normal;font-family:Menlo,'DejaVu Sans Mono',consolas,'Courier New',monospace\">\n",
       "</pre>\n"
      ],
      "text/plain": [
       "\n"
      ]
     },
     "metadata": {},
     "output_type": "display_data"
    },
    {
     "data": {
      "text/html": [
       "<pre style=\"white-space:pre;overflow-x:auto;line-height:normal;font-family:Menlo,'DejaVu Sans Mono',consolas,'Courier New',monospace\">Results saved to <span style=\"color: #000080; text-decoration-color: #000080; font-weight: bold\">memray-results/tmpclqskio7/flamegraph.html</span>\n",
       "</pre>\n"
      ],
      "text/plain": [
       "Results saved to \u001b[1;34mmemray-results/tmpclqskio7/flamegraph.html\u001b[0m\n"
      ]
     },
     "metadata": {},
     "output_type": "display_data"
    },
    {
     "data": {
      "text/html": [
       "\n",
       "        <iframe\n",
       "            width=\"100%\"\n",
       "            height=\"600\"\n",
       "            src=\"memray-results/tmpclqskio7/flamegraph.html\"\n",
       "            frameborder=\"0\"\n",
       "            allowfullscreen\n",
       "            \n",
       "        ></iframe>\n",
       "        "
      ],
      "text/plain": [
       "<IPython.lib.display.IFrame at 0x6c0306d90>"
      ]
     },
     "metadata": {},
     "output_type": "display_data"
    }
   ],
   "source": [
    "%%memray_flamegraph\n",
    "df_json = pd.read_json('/Users/vicki/viberary/viberary/jsonparquet/src/main/resources/goodreads_books.json')"
   ]
  },
  {
   "cell_type": "code",
   "execution_count": 21,
   "id": "dd30bf6a",
   "metadata": {},
   "outputs": [
    {
     "data": {
      "text/html": [
       "<pre style=\"white-space:pre;overflow-x:auto;line-height:normal;font-family:Menlo,'DejaVu Sans Mono',consolas,'Courier New',monospace\">\n",
       "          Command line: <span style=\"color: #800080; text-decoration-color: #800080\">/usr/local/lib/python3.9/site-packages/</span><span style=\"color: #ff00ff; text-decoration-color: #ff00ff\">ipykernel_launcher.py</span> -f \n",
       "<span style=\"color: #800080; text-decoration-color: #800080\">/Users/vicki/Library/Jupyter/runtime/</span><span style=\"color: #ff00ff; text-decoration-color: #ff00ff\">kernel-87e391e0-0452-4dc9-bbd9-48ccec32f39e.json</span>\n",
       "          Start time: <span style=\"color: #008080; text-decoration-color: #008080; font-weight: bold\">2023</span>-<span style=\"color: #008080; text-decoration-color: #008080; font-weight: bold\">01</span>-<span style=\"color: #008080; text-decoration-color: #008080; font-weight: bold\">12</span> <span style=\"color: #00ff00; text-decoration-color: #00ff00; font-weight: bold\">16:13:05</span>.<span style=\"color: #008080; text-decoration-color: #008080; font-weight: bold\">618000</span>\n",
       "          End time: <span style=\"color: #008080; text-decoration-color: #008080; font-weight: bold\">2023</span>-<span style=\"color: #008080; text-decoration-color: #008080; font-weight: bold\">01</span>-<span style=\"color: #008080; text-decoration-color: #008080; font-weight: bold\">12</span> <span style=\"color: #00ff00; text-decoration-color: #00ff00; font-weight: bold\">16:13:34</span>.<span style=\"color: #008080; text-decoration-color: #008080; font-weight: bold\">124000</span>\n",
       "          Total number of allocations: <span style=\"color: #008080; text-decoration-color: #008080; font-weight: bold\">30</span>\n",
       "          Total number of frames seen: <span style=\"color: #008080; text-decoration-color: #008080; font-weight: bold\">47</span>\n",
       "          Peak memory usage: <span style=\"color: #008080; text-decoration-color: #008080; font-weight: bold\">55.2</span> GB\n",
       "          Python allocator: pymalloc\n",
       "        \n",
       "</pre>\n"
      ],
      "text/plain": [
       "\n",
       "          Command line: \u001b[35m/usr/local/lib/python3.9/site-packages/\u001b[0m\u001b[95mipykernel_launcher.py\u001b[0m -f \n",
       "\u001b[35m/Users/vicki/Library/Jupyter/runtime/\u001b[0m\u001b[95mkernel-87e391e0-0452-4dc9-bbd9-48ccec32f39e.json\u001b[0m\n",
       "          Start time: \u001b[1;36m2023\u001b[0m-\u001b[1;36m01\u001b[0m-\u001b[1;36m12\u001b[0m \u001b[1;92m16:13:05\u001b[0m.\u001b[1;36m618000\u001b[0m\n",
       "          End time: \u001b[1;36m2023\u001b[0m-\u001b[1;36m01\u001b[0m-\u001b[1;36m12\u001b[0m \u001b[1;92m16:13:34\u001b[0m.\u001b[1;36m124000\u001b[0m\n",
       "          Total number of allocations: \u001b[1;36m30\u001b[0m\n",
       "          Total number of frames seen: \u001b[1;36m47\u001b[0m\n",
       "          Peak memory usage: \u001b[1;36m55.2\u001b[0m GB\n",
       "          Python allocator: pymalloc\n",
       "        \n"
      ]
     },
     "metadata": {},
     "output_type": "display_data"
    }
   ],
   "source": [
    "# total memory allocated for DF\n",
    "latest_file = max(Path(\"memray-results/\").glob(\"**/*.html\"), key=os.path.getmtime)\n",
    "soup = BeautifulSoup(latest_file.read_text())\n",
    "stats = soup.find(\"div\", {\"id\" : \"statsModal\"}).find(\"div\", {\"class\" : \"modal-body\"})\n",
    "print(stats.text)"
   ]
  },
  {
   "cell_type": "code",
   "execution_count": 37,
   "id": "895cab29",
   "metadata": {},
   "outputs": [
    {
     "data": {
      "text/html": [
       "<pre style=\"white-space:pre;overflow-x:auto;line-height:normal;font-family:Menlo,'DejaVu Sans Mono',consolas,'Courier New',monospace\"><span style=\"color: #008000; text-decoration-color: #008000\">⠙</span> <span style=\"color: #000080; text-decoration-color: #000080\">Processing allocation records...</span> <span style=\"color: #f92672; text-decoration-color: #f92672\">━━━━━━━━━━━━━━━━━━━━━━━━━━━━━━━━━━━━━━━╸</span> <span style=\"color: #800080; text-decoration-color: #800080\">100%</span> <span style=\"color: #008080; text-decoration-color: #008080\">0:00:01</span>\n",
       "</pre>\n"
      ],
      "text/plain": [
       "\u001b[32m⠙\u001b[0m \u001b[34mProcessing allocation records...\u001b[0m \u001b[38;2;249;38;114m━━━━━━━━━━━━━━━━━━━━━━━━━━━━━━━━━━━━━━━\u001b[0m\u001b[38;2;249;38;114m╸\u001b[0m \u001b[35m100%\u001b[0m \u001b[36m0:00:01\u001b[0m\n"
      ]
     },
     "metadata": {},
     "output_type": "display_data"
    },
    {
     "data": {
      "text/html": [
       "<pre style=\"white-space:pre;overflow-x:auto;line-height:normal;font-family:Menlo,'DejaVu Sans Mono',consolas,'Courier New',monospace\"></pre>\n"
      ],
      "text/plain": []
     },
     "metadata": {},
     "output_type": "display_data"
    },
    {
     "data": {
      "text/html": [
       "<pre style=\"white-space:pre;overflow-x:auto;line-height:normal;font-family:Menlo,'DejaVu Sans Mono',consolas,'Courier New',monospace\">\n",
       "</pre>\n"
      ],
      "text/plain": [
       "\n"
      ]
     },
     "metadata": {},
     "output_type": "display_data"
    },
    {
     "data": {
      "text/html": [
       "<pre style=\"white-space:pre;overflow-x:auto;line-height:normal;font-family:Menlo,'DejaVu Sans Mono',consolas,'Courier New',monospace\">Results saved to <span style=\"color: #000080; text-decoration-color: #000080; font-weight: bold\">memray-results/tmp28lr8lsk/flamegraph.html</span>\n",
       "</pre>\n"
      ],
      "text/plain": [
       "Results saved to \u001b[1;34mmemray-results/tmp28lr8lsk/flamegraph.html\u001b[0m\n"
      ]
     },
     "metadata": {},
     "output_type": "display_data"
    },
    {
     "data": {
      "text/html": [
       "\n",
       "        <iframe\n",
       "            width=\"100%\"\n",
       "            height=\"600\"\n",
       "            src=\"memray-results/tmp28lr8lsk/flamegraph.html\"\n",
       "            frameborder=\"0\"\n",
       "            allowfullscreen\n",
       "            \n",
       "        ></iframe>\n",
       "        "
      ],
      "text/plain": [
       "<IPython.lib.display.IFrame at 0x6c04f0760>"
      ]
     },
     "metadata": {},
     "output_type": "display_data"
    }
   ],
   "source": [
    "%%memray_flamegraph\n",
    "from pyarrow import json\n",
    "df_pyarrow = json.read_json('/Users/vicki/viberary/viberary/jsonparquet/src/main/resources/goodreads_books.json')\n",
    "df_pyarrow = df_pyarrow.to_pandas()"
   ]
  },
  {
   "cell_type": "code",
   "execution_count": 38,
   "id": "e27a1d0c",
   "metadata": {},
   "outputs": [
    {
     "data": {
      "text/html": [
       "<pre style=\"white-space:pre;overflow-x:auto;line-height:normal;font-family:Menlo,'DejaVu Sans Mono',consolas,'Courier New',monospace\">\n",
       "          Command line: <span style=\"color: #800080; text-decoration-color: #800080\">/usr/local/lib/python3.9/site-packages/</span><span style=\"color: #ff00ff; text-decoration-color: #ff00ff\">ipykernel_launcher.py</span> -f \n",
       "<span style=\"color: #800080; text-decoration-color: #800080\">/Users/vicki/Library/Jupyter/runtime/</span><span style=\"color: #ff00ff; text-decoration-color: #ff00ff\">kernel-87e391e0-0452-4dc9-bbd9-48ccec32f39e.json</span>\n",
       "          Start time: <span style=\"color: #008080; text-decoration-color: #008080; font-weight: bold\">2023</span>-<span style=\"color: #008080; text-decoration-color: #008080; font-weight: bold\">01</span>-<span style=\"color: #008080; text-decoration-color: #008080; font-weight: bold\">12</span> <span style=\"color: #00ff00; text-decoration-color: #00ff00; font-weight: bold\">16:35:17</span>.<span style=\"color: #008080; text-decoration-color: #008080; font-weight: bold\">344000</span>\n",
       "          End time: <span style=\"color: #008080; text-decoration-color: #008080; font-weight: bold\">2023</span>-<span style=\"color: #008080; text-decoration-color: #008080; font-weight: bold\">01</span>-<span style=\"color: #008080; text-decoration-color: #008080; font-weight: bold\">12</span> <span style=\"color: #00ff00; text-decoration-color: #00ff00; font-weight: bold\">16:37:22</span>.<span style=\"color: #008080; text-decoration-color: #008080; font-weight: bold\">167000</span>\n",
       "          Total number of allocations: <span style=\"color: #008080; text-decoration-color: #008080; font-weight: bold\">42194315</span>\n",
       "          Total number of frames seen: <span style=\"color: #008080; text-decoration-color: #008080; font-weight: bold\">76</span>\n",
       "          Peak memory usage: <span style=\"color: #008080; text-decoration-color: #008080; font-weight: bold\">45.0</span> GB\n",
       "          Python allocator: pymalloc\n",
       "        \n",
       "</pre>\n"
      ],
      "text/plain": [
       "\n",
       "          Command line: \u001b[35m/usr/local/lib/python3.9/site-packages/\u001b[0m\u001b[95mipykernel_launcher.py\u001b[0m -f \n",
       "\u001b[35m/Users/vicki/Library/Jupyter/runtime/\u001b[0m\u001b[95mkernel-87e391e0-0452-4dc9-bbd9-48ccec32f39e.json\u001b[0m\n",
       "          Start time: \u001b[1;36m2023\u001b[0m-\u001b[1;36m01\u001b[0m-\u001b[1;36m12\u001b[0m \u001b[1;92m16:35:17\u001b[0m.\u001b[1;36m344000\u001b[0m\n",
       "          End time: \u001b[1;36m2023\u001b[0m-\u001b[1;36m01\u001b[0m-\u001b[1;36m12\u001b[0m \u001b[1;92m16:37:22\u001b[0m.\u001b[1;36m167000\u001b[0m\n",
       "          Total number of allocations: \u001b[1;36m42194315\u001b[0m\n",
       "          Total number of frames seen: \u001b[1;36m76\u001b[0m\n",
       "          Peak memory usage: \u001b[1;36m45.0\u001b[0m GB\n",
       "          Python allocator: pymalloc\n",
       "        \n"
      ]
     },
     "metadata": {},
     "output_type": "display_data"
    }
   ],
   "source": [
    "# total memory allocated for DF\n",
    "latest_file = max(Path(\"memray-results/\").glob(\"**/*.html\"), key=os.path.getmtime)\n",
    "soup = BeautifulSoup(latest_file.read_text())\n",
    "stats = soup.find(\"div\", {\"id\" : \"statsModal\"}).find(\"div\", {\"class\" : \"modal-body\"})\n",
    "print(stats.text)"
   ]
  },
  {
   "cell_type": "code",
   "execution_count": 33,
   "id": "7f87865f",
   "metadata": {},
   "outputs": [
    {
     "data": {
      "text/html": [
       "<pre style=\"white-space:pre;overflow-x:auto;line-height:normal;font-family:Menlo,'DejaVu Sans Mono',consolas,'Courier New',monospace\"><span style=\"color: #008000; text-decoration-color: #008000\">⠹</span> <span style=\"color: #000080; text-decoration-color: #000080\">Processing allocation records...</span> <span style=\"color: #f92672; text-decoration-color: #f92672\">━━━━━━━━━━━━━━━━━━━━━━━━━━━━━━━━━━━━━━╸</span><span style=\"color: #3a3a3a; text-decoration-color: #3a3a3a\">━</span> <span style=\"color: #800080; text-decoration-color: #800080\"> 97%</span> <span style=\"color: #008080; text-decoration-color: #008080\">0:00:01</span>\n",
       "</pre>\n"
      ],
      "text/plain": [
       "\u001b[32m⠹\u001b[0m \u001b[34mProcessing allocation records...\u001b[0m \u001b[38;2;249;38;114m━━━━━━━━━━━━━━━━━━━━━━━━━━━━━━━━━━━━━━\u001b[0m\u001b[38;2;249;38;114m╸\u001b[0m\u001b[38;5;237m━\u001b[0m \u001b[35m 97%\u001b[0m \u001b[36m0:00:01\u001b[0m\n"
      ]
     },
     "metadata": {},
     "output_type": "display_data"
    },
    {
     "data": {
      "text/html": [
       "<pre style=\"white-space:pre;overflow-x:auto;line-height:normal;font-family:Menlo,'DejaVu Sans Mono',consolas,'Courier New',monospace\"></pre>\n"
      ],
      "text/plain": []
     },
     "metadata": {},
     "output_type": "display_data"
    },
    {
     "data": {
      "text/html": [
       "<pre style=\"white-space:pre;overflow-x:auto;line-height:normal;font-family:Menlo,'DejaVu Sans Mono',consolas,'Courier New',monospace\">\n",
       "</pre>\n"
      ],
      "text/plain": [
       "\n"
      ]
     },
     "metadata": {},
     "output_type": "display_data"
    },
    {
     "data": {
      "text/html": [
       "<pre style=\"white-space:pre;overflow-x:auto;line-height:normal;font-family:Menlo,'DejaVu Sans Mono',consolas,'Courier New',monospace\">Results saved to <span style=\"color: #000080; text-decoration-color: #000080; font-weight: bold\">memray-results/tmp9efd_iwi/flamegraph.html</span>\n",
       "</pre>\n"
      ],
      "text/plain": [
       "Results saved to \u001b[1;34mmemray-results/tmp9efd_iwi/flamegraph.html\u001b[0m\n"
      ]
     },
     "metadata": {},
     "output_type": "display_data"
    },
    {
     "data": {
      "text/html": [
       "\n",
       "        <iframe\n",
       "            width=\"100%\"\n",
       "            height=\"600\"\n",
       "            src=\"memray-results/tmp9efd_iwi/flamegraph.html\"\n",
       "            frameborder=\"0\"\n",
       "            allowfullscreen\n",
       "            \n",
       "        ></iframe>\n",
       "        "
      ],
      "text/plain": [
       "<IPython.lib.display.IFrame at 0x6c016b1c0>"
      ]
     },
     "metadata": {},
     "output_type": "display_data"
    }
   ],
   "source": [
    "%%memray_flamegraph\n",
    "df_parquet = pd.read_parquet('/Users/vicki/viberary/viberary/jsonparquet/src/main/resources/goodreads.parquet', engine='pyarrow')"
   ]
  },
  {
   "cell_type": "code",
   "execution_count": 34,
   "id": "2d2287a8",
   "metadata": {},
   "outputs": [
    {
     "data": {
      "text/html": [
       "<pre style=\"white-space:pre;overflow-x:auto;line-height:normal;font-family:Menlo,'DejaVu Sans Mono',consolas,'Courier New',monospace\">\n",
       "          Command line: <span style=\"color: #800080; text-decoration-color: #800080\">/usr/local/lib/python3.9/site-packages/</span><span style=\"color: #ff00ff; text-decoration-color: #ff00ff\">ipykernel_launcher.py</span> -f \n",
       "<span style=\"color: #800080; text-decoration-color: #800080\">/Users/vicki/Library/Jupyter/runtime/</span><span style=\"color: #ff00ff; text-decoration-color: #ff00ff\">kernel-87e391e0-0452-4dc9-bbd9-48ccec32f39e.json</span>\n",
       "          Start time: <span style=\"color: #008080; text-decoration-color: #008080; font-weight: bold\">2023</span>-<span style=\"color: #008080; text-decoration-color: #008080; font-weight: bold\">01</span>-<span style=\"color: #008080; text-decoration-color: #008080; font-weight: bold\">12</span> <span style=\"color: #00ff00; text-decoration-color: #00ff00; font-weight: bold\">16:30:36</span>.<span style=\"color: #008080; text-decoration-color: #008080; font-weight: bold\">757000</span>\n",
       "          End time: <span style=\"color: #008080; text-decoration-color: #008080; font-weight: bold\">2023</span>-<span style=\"color: #008080; text-decoration-color: #008080; font-weight: bold\">01</span>-<span style=\"color: #008080; text-decoration-color: #008080; font-weight: bold\">12</span> <span style=\"color: #00ff00; text-decoration-color: #00ff00; font-weight: bold\">16:32:20</span>.<span style=\"color: #008080; text-decoration-color: #008080; font-weight: bold\">668000</span>\n",
       "          Total number of allocations: <span style=\"color: #008080; text-decoration-color: #008080; font-weight: bold\">12185306</span>\n",
       "          Total number of frames seen: <span style=\"color: #008080; text-decoration-color: #008080; font-weight: bold\">115</span>\n",
       "          Peak memory usage: <span style=\"color: #008080; text-decoration-color: #008080; font-weight: bold\">45.3</span> GB\n",
       "          Python allocator: pymalloc\n",
       "        \n",
       "</pre>\n"
      ],
      "text/plain": [
       "\n",
       "          Command line: \u001b[35m/usr/local/lib/python3.9/site-packages/\u001b[0m\u001b[95mipykernel_launcher.py\u001b[0m -f \n",
       "\u001b[35m/Users/vicki/Library/Jupyter/runtime/\u001b[0m\u001b[95mkernel-87e391e0-0452-4dc9-bbd9-48ccec32f39e.json\u001b[0m\n",
       "          Start time: \u001b[1;36m2023\u001b[0m-\u001b[1;36m01\u001b[0m-\u001b[1;36m12\u001b[0m \u001b[1;92m16:30:36\u001b[0m.\u001b[1;36m757000\u001b[0m\n",
       "          End time: \u001b[1;36m2023\u001b[0m-\u001b[1;36m01\u001b[0m-\u001b[1;36m12\u001b[0m \u001b[1;92m16:32:20\u001b[0m.\u001b[1;36m668000\u001b[0m\n",
       "          Total number of allocations: \u001b[1;36m12185306\u001b[0m\n",
       "          Total number of frames seen: \u001b[1;36m115\u001b[0m\n",
       "          Peak memory usage: \u001b[1;36m45.3\u001b[0m GB\n",
       "          Python allocator: pymalloc\n",
       "        \n"
      ]
     },
     "metadata": {},
     "output_type": "display_data"
    }
   ],
   "source": [
    "# total memory allocated for DF\n",
    "latest_file = max(Path(\"memray-results/\").glob(\"**/*.html\"), key=os.path.getmtime)\n",
    "soup = BeautifulSoup(latest_file.read_text())\n",
    "stats = soup.find(\"div\", {\"id\" : \"statsModal\"}).find(\"div\", {\"class\" : \"modal-body\"})\n",
    "print(stats.text)"
   ]
  },
  {
   "cell_type": "code",
   "execution_count": 39,
   "id": "d0d69f08",
   "metadata": {},
   "outputs": [
    {
     "data": {
      "text/html": [
       "<div>\n",
       "<style scoped>\n",
       "    .dataframe tbody tr th:only-of-type {\n",
       "        vertical-align: middle;\n",
       "    }\n",
       "\n",
       "    .dataframe tbody tr th {\n",
       "        vertical-align: top;\n",
       "    }\n",
       "\n",
       "    .dataframe thead th {\n",
       "        text-align: right;\n",
       "    }\n",
       "</style>\n",
       "<table border=\"1\" class=\"dataframe\">\n",
       "  <thead>\n",
       "    <tr style=\"text-align: right;\">\n",
       "      <th></th>\n",
       "      <th>isbn</th>\n",
       "      <th>text_reviews_count</th>\n",
       "      <th>series</th>\n",
       "      <th>country_code</th>\n",
       "      <th>language_code</th>\n",
       "      <th>popular_shelves</th>\n",
       "      <th>asin</th>\n",
       "      <th>is_ebook</th>\n",
       "      <th>average_rating</th>\n",
       "      <th>kindle_asin</th>\n",
       "      <th>...</th>\n",
       "      <th>publication_month</th>\n",
       "      <th>edition_information</th>\n",
       "      <th>publication_year</th>\n",
       "      <th>url</th>\n",
       "      <th>image_url</th>\n",
       "      <th>book_id</th>\n",
       "      <th>ratings_count</th>\n",
       "      <th>work_id</th>\n",
       "      <th>title</th>\n",
       "      <th>title_without_series</th>\n",
       "    </tr>\n",
       "  </thead>\n",
       "  <tbody>\n",
       "    <tr>\n",
       "      <th>0</th>\n",
       "      <td>0312853122</td>\n",
       "      <td>1</td>\n",
       "      <td>[]</td>\n",
       "      <td>US</td>\n",
       "      <td></td>\n",
       "      <td>[{'count': '3', 'name': 'to-read'}, {'count': ...</td>\n",
       "      <td></td>\n",
       "      <td>false</td>\n",
       "      <td>4.00</td>\n",
       "      <td></td>\n",
       "      <td>...</td>\n",
       "      <td>9</td>\n",
       "      <td></td>\n",
       "      <td>1984</td>\n",
       "      <td>https://www.goodreads.com/book/show/5333265-w-...</td>\n",
       "      <td>https://images.gr-assets.com/books/1310220028m...</td>\n",
       "      <td>5333265</td>\n",
       "      <td>3</td>\n",
       "      <td>5400751</td>\n",
       "      <td>W.C. Fields: A Life on Film</td>\n",
       "      <td>W.C. Fields: A Life on Film</td>\n",
       "    </tr>\n",
       "    <tr>\n",
       "      <th>1</th>\n",
       "      <td>0743509986</td>\n",
       "      <td>6</td>\n",
       "      <td>[]</td>\n",
       "      <td>US</td>\n",
       "      <td></td>\n",
       "      <td>[{'count': '2634', 'name': 'to-read'}, {'count...</td>\n",
       "      <td></td>\n",
       "      <td>false</td>\n",
       "      <td>3.23</td>\n",
       "      <td>B000FC0PBC</td>\n",
       "      <td>...</td>\n",
       "      <td>10</td>\n",
       "      <td>Abridged</td>\n",
       "      <td>2001</td>\n",
       "      <td>https://www.goodreads.com/book/show/1333909.Go...</td>\n",
       "      <td>https://s.gr-assets.com/assets/nophoto/book/11...</td>\n",
       "      <td>1333909</td>\n",
       "      <td>10</td>\n",
       "      <td>1323437</td>\n",
       "      <td>Good Harbor</td>\n",
       "      <td>Good Harbor</td>\n",
       "    </tr>\n",
       "    <tr>\n",
       "      <th>2</th>\n",
       "      <td></td>\n",
       "      <td>7</td>\n",
       "      <td>[189911]</td>\n",
       "      <td>US</td>\n",
       "      <td>eng</td>\n",
       "      <td>[{'count': '58', 'name': 'to-read'}, {'count':...</td>\n",
       "      <td>B00071IKUY</td>\n",
       "      <td>false</td>\n",
       "      <td>4.03</td>\n",
       "      <td></td>\n",
       "      <td>...</td>\n",
       "      <td></td>\n",
       "      <td>Book Club Edition</td>\n",
       "      <td>1987</td>\n",
       "      <td>https://www.goodreads.com/book/show/7327624-th...</td>\n",
       "      <td>https://images.gr-assets.com/books/1304100136m...</td>\n",
       "      <td>7327624</td>\n",
       "      <td>140</td>\n",
       "      <td>8948723</td>\n",
       "      <td>The Unschooled Wizard (Sun Wolf and Starhawk, ...</td>\n",
       "      <td>The Unschooled Wizard (Sun Wolf and Starhawk, ...</td>\n",
       "    </tr>\n",
       "    <tr>\n",
       "      <th>3</th>\n",
       "      <td>0743294297</td>\n",
       "      <td>3282</td>\n",
       "      <td>[]</td>\n",
       "      <td>US</td>\n",
       "      <td>eng</td>\n",
       "      <td>[{'count': '7615', 'name': 'to-read'}, {'count...</td>\n",
       "      <td></td>\n",
       "      <td>false</td>\n",
       "      <td>3.49</td>\n",
       "      <td>B002ENBLOK</td>\n",
       "      <td>...</td>\n",
       "      <td>7</td>\n",
       "      <td></td>\n",
       "      <td>2009</td>\n",
       "      <td>https://www.goodreads.com/book/show/6066819-be...</td>\n",
       "      <td>https://s.gr-assets.com/assets/nophoto/book/11...</td>\n",
       "      <td>6066819</td>\n",
       "      <td>51184</td>\n",
       "      <td>6243154</td>\n",
       "      <td>Best Friends Forever</td>\n",
       "      <td>Best Friends Forever</td>\n",
       "    </tr>\n",
       "    <tr>\n",
       "      <th>4</th>\n",
       "      <td>0850308712</td>\n",
       "      <td>5</td>\n",
       "      <td>[]</td>\n",
       "      <td>US</td>\n",
       "      <td></td>\n",
       "      <td>[{'count': '32', 'name': 'to-read'}, {'count':...</td>\n",
       "      <td></td>\n",
       "      <td>false</td>\n",
       "      <td>3.40</td>\n",
       "      <td></td>\n",
       "      <td>...</td>\n",
       "      <td></td>\n",
       "      <td></td>\n",
       "      <td></td>\n",
       "      <td>https://www.goodreads.com/book/show/287140.Run...</td>\n",
       "      <td>https://images.gr-assets.com/books/1413219371m...</td>\n",
       "      <td>287140</td>\n",
       "      <td>15</td>\n",
       "      <td>278577</td>\n",
       "      <td>Runic Astrology: Starcraft and Timekeeping in ...</td>\n",
       "      <td>Runic Astrology: Starcraft and Timekeeping in ...</td>\n",
       "    </tr>\n",
       "    <tr>\n",
       "      <th>...</th>\n",
       "      <td>...</td>\n",
       "      <td>...</td>\n",
       "      <td>...</td>\n",
       "      <td>...</td>\n",
       "      <td>...</td>\n",
       "      <td>...</td>\n",
       "      <td>...</td>\n",
       "      <td>...</td>\n",
       "      <td>...</td>\n",
       "      <td>...</td>\n",
       "      <td>...</td>\n",
       "      <td>...</td>\n",
       "      <td>...</td>\n",
       "      <td>...</td>\n",
       "      <td>...</td>\n",
       "      <td>...</td>\n",
       "      <td>...</td>\n",
       "      <td>...</td>\n",
       "      <td>...</td>\n",
       "      <td>...</td>\n",
       "      <td>...</td>\n",
       "    </tr>\n",
       "    <tr>\n",
       "      <th>2360650</th>\n",
       "      <td>0563553014</td>\n",
       "      <td>3</td>\n",
       "      <td>[618749]</td>\n",
       "      <td>US</td>\n",
       "      <td>eng</td>\n",
       "      <td>[{'count': '11', 'name': 'to-read'}, {'count':...</td>\n",
       "      <td></td>\n",
       "      <td>false</td>\n",
       "      <td>4.05</td>\n",
       "      <td></td>\n",
       "      <td>...</td>\n",
       "      <td>9</td>\n",
       "      <td>BBC Radio Collection</td>\n",
       "      <td>1999</td>\n",
       "      <td>https://www.goodreads.com/book/show/3084038-th...</td>\n",
       "      <td>https://images.gr-assets.com/books/1494763458m...</td>\n",
       "      <td>3084038</td>\n",
       "      <td>12</td>\n",
       "      <td>3115103</td>\n",
       "      <td>This Sceptred Isle, Vol. 10: The Age of Victor...</td>\n",
       "      <td>This Sceptred Isle, Vol. 10: The Age of Victor...</td>\n",
       "    </tr>\n",
       "    <tr>\n",
       "      <th>2360651</th>\n",
       "      <td>178092870X</td>\n",
       "      <td>2</td>\n",
       "      <td>[]</td>\n",
       "      <td>US</td>\n",
       "      <td>eng</td>\n",
       "      <td>[{'count': '702', 'name': 'to-read'}, {'count'...</td>\n",
       "      <td></td>\n",
       "      <td>false</td>\n",
       "      <td>3.50</td>\n",
       "      <td></td>\n",
       "      <td>...</td>\n",
       "      <td>8</td>\n",
       "      <td>2nd Edition</td>\n",
       "      <td>2015</td>\n",
       "      <td>https://www.goodreads.com/book/show/26168430-s...</td>\n",
       "      <td>https://images.gr-assets.com/books/1440592011m...</td>\n",
       "      <td>26168430</td>\n",
       "      <td>6</td>\n",
       "      <td>46130263</td>\n",
       "      <td>Sherlock Holmes and the July Crisis</td>\n",
       "      <td>Sherlock Holmes and the July Crisis</td>\n",
       "    </tr>\n",
       "    <tr>\n",
       "      <th>2360652</th>\n",
       "      <td>0765197456</td>\n",
       "      <td>6</td>\n",
       "      <td>[]</td>\n",
       "      <td>US</td>\n",
       "      <td></td>\n",
       "      <td>[{'count': '37', 'name': 'to-read'}, {'count':...</td>\n",
       "      <td></td>\n",
       "      <td>false</td>\n",
       "      <td>4.00</td>\n",
       "      <td></td>\n",
       "      <td>...</td>\n",
       "      <td>8</td>\n",
       "      <td></td>\n",
       "      <td>1996</td>\n",
       "      <td>https://www.goodreads.com/book/show/2342551.Th...</td>\n",
       "      <td>https://s.gr-assets.com/assets/nophoto/book/11...</td>\n",
       "      <td>2342551</td>\n",
       "      <td>36</td>\n",
       "      <td>2349247</td>\n",
       "      <td>The Children's Classic Poetry Collection</td>\n",
       "      <td>The Children's Classic Poetry Collection</td>\n",
       "    </tr>\n",
       "    <tr>\n",
       "      <th>2360653</th>\n",
       "      <td>162378140X</td>\n",
       "      <td>17</td>\n",
       "      <td>[658195]</td>\n",
       "      <td>US</td>\n",
       "      <td>eng</td>\n",
       "      <td>[{'count': '56', 'name': 'to-read'}, {'count':...</td>\n",
       "      <td></td>\n",
       "      <td>false</td>\n",
       "      <td>4.37</td>\n",
       "      <td></td>\n",
       "      <td>...</td>\n",
       "      <td>4</td>\n",
       "      <td></td>\n",
       "      <td>2014</td>\n",
       "      <td>https://www.goodreads.com/book/show/22017381-1...</td>\n",
       "      <td>https://images.gr-assets.com/books/1398621236m...</td>\n",
       "      <td>22017381</td>\n",
       "      <td>70</td>\n",
       "      <td>41332799</td>\n",
       "      <td>101 Nights: Volume One (101 Nights, #1-3)</td>\n",
       "      <td>101 Nights: Volume One (101 Nights, #1-3)</td>\n",
       "    </tr>\n",
       "    <tr>\n",
       "      <th>2360654</th>\n",
       "      <td></td>\n",
       "      <td>1</td>\n",
       "      <td>[]</td>\n",
       "      <td>US</td>\n",
       "      <td></td>\n",
       "      <td>[{'count': '231', 'name': 'to-read'}, {'count'...</td>\n",
       "      <td>B000W914MC</td>\n",
       "      <td>true</td>\n",
       "      <td>3.52</td>\n",
       "      <td>B000W914MC</td>\n",
       "      <td>...</td>\n",
       "      <td></td>\n",
       "      <td></td>\n",
       "      <td></td>\n",
       "      <td>https://www.goodreads.com/book/show/11419866-t...</td>\n",
       "      <td>https://s.gr-assets.com/assets/nophoto/book/11...</td>\n",
       "      <td>11419866</td>\n",
       "      <td>7</td>\n",
       "      <td>2206102</td>\n",
       "      <td>The Spanish Duke's Virgin Bride (Innocent Mist...</td>\n",
       "      <td>The Spanish Duke's Virgin Bride (Innocent Mist...</td>\n",
       "    </tr>\n",
       "  </tbody>\n",
       "</table>\n",
       "<p>2360655 rows × 29 columns</p>\n",
       "</div>"
      ],
      "text/plain": [
       "               isbn text_reviews_count    series country_code language_code  \\\n",
       "0        0312853122                  1        []           US                 \n",
       "1        0743509986                  6        []           US                 \n",
       "2                                    7  [189911]           US           eng   \n",
       "3        0743294297               3282        []           US           eng   \n",
       "4        0850308712                  5        []           US                 \n",
       "...             ...                ...       ...          ...           ...   \n",
       "2360650  0563553014                  3  [618749]           US           eng   \n",
       "2360651  178092870X                  2        []           US           eng   \n",
       "2360652  0765197456                  6        []           US                 \n",
       "2360653  162378140X                 17  [658195]           US           eng   \n",
       "2360654                              1        []           US                 \n",
       "\n",
       "                                           popular_shelves        asin  \\\n",
       "0        [{'count': '3', 'name': 'to-read'}, {'count': ...               \n",
       "1        [{'count': '2634', 'name': 'to-read'}, {'count...               \n",
       "2        [{'count': '58', 'name': 'to-read'}, {'count':...  B00071IKUY   \n",
       "3        [{'count': '7615', 'name': 'to-read'}, {'count...               \n",
       "4        [{'count': '32', 'name': 'to-read'}, {'count':...               \n",
       "...                                                    ...         ...   \n",
       "2360650  [{'count': '11', 'name': 'to-read'}, {'count':...               \n",
       "2360651  [{'count': '702', 'name': 'to-read'}, {'count'...               \n",
       "2360652  [{'count': '37', 'name': 'to-read'}, {'count':...               \n",
       "2360653  [{'count': '56', 'name': 'to-read'}, {'count':...               \n",
       "2360654  [{'count': '231', 'name': 'to-read'}, {'count'...  B000W914MC   \n",
       "\n",
       "        is_ebook average_rating kindle_asin  ... publication_month  \\\n",
       "0          false           4.00              ...                 9   \n",
       "1          false           3.23  B000FC0PBC  ...                10   \n",
       "2          false           4.03              ...                     \n",
       "3          false           3.49  B002ENBLOK  ...                 7   \n",
       "4          false           3.40              ...                     \n",
       "...          ...            ...         ...  ...               ...   \n",
       "2360650    false           4.05              ...                 9   \n",
       "2360651    false           3.50              ...                 8   \n",
       "2360652    false           4.00              ...                 8   \n",
       "2360653    false           4.37              ...                 4   \n",
       "2360654     true           3.52  B000W914MC  ...                     \n",
       "\n",
       "          edition_information publication_year  \\\n",
       "0                                         1984   \n",
       "1                    Abridged             2001   \n",
       "2           Book Club Edition             1987   \n",
       "3                                         2009   \n",
       "4                                                \n",
       "...                       ...              ...   \n",
       "2360650  BBC Radio Collection             1999   \n",
       "2360651           2nd Edition             2015   \n",
       "2360652                                   1996   \n",
       "2360653                                   2014   \n",
       "2360654                                          \n",
       "\n",
       "                                                       url  \\\n",
       "0        https://www.goodreads.com/book/show/5333265-w-...   \n",
       "1        https://www.goodreads.com/book/show/1333909.Go...   \n",
       "2        https://www.goodreads.com/book/show/7327624-th...   \n",
       "3        https://www.goodreads.com/book/show/6066819-be...   \n",
       "4        https://www.goodreads.com/book/show/287140.Run...   \n",
       "...                                                    ...   \n",
       "2360650  https://www.goodreads.com/book/show/3084038-th...   \n",
       "2360651  https://www.goodreads.com/book/show/26168430-s...   \n",
       "2360652  https://www.goodreads.com/book/show/2342551.Th...   \n",
       "2360653  https://www.goodreads.com/book/show/22017381-1...   \n",
       "2360654  https://www.goodreads.com/book/show/11419866-t...   \n",
       "\n",
       "                                                 image_url   book_id  \\\n",
       "0        https://images.gr-assets.com/books/1310220028m...   5333265   \n",
       "1        https://s.gr-assets.com/assets/nophoto/book/11...   1333909   \n",
       "2        https://images.gr-assets.com/books/1304100136m...   7327624   \n",
       "3        https://s.gr-assets.com/assets/nophoto/book/11...   6066819   \n",
       "4        https://images.gr-assets.com/books/1413219371m...    287140   \n",
       "...                                                    ...       ...   \n",
       "2360650  https://images.gr-assets.com/books/1494763458m...   3084038   \n",
       "2360651  https://images.gr-assets.com/books/1440592011m...  26168430   \n",
       "2360652  https://s.gr-assets.com/assets/nophoto/book/11...   2342551   \n",
       "2360653  https://images.gr-assets.com/books/1398621236m...  22017381   \n",
       "2360654  https://s.gr-assets.com/assets/nophoto/book/11...  11419866   \n",
       "\n",
       "        ratings_count   work_id  \\\n",
       "0                   3   5400751   \n",
       "1                  10   1323437   \n",
       "2                 140   8948723   \n",
       "3               51184   6243154   \n",
       "4                  15    278577   \n",
       "...               ...       ...   \n",
       "2360650            12   3115103   \n",
       "2360651             6  46130263   \n",
       "2360652            36   2349247   \n",
       "2360653            70  41332799   \n",
       "2360654             7   2206102   \n",
       "\n",
       "                                                     title  \\\n",
       "0                              W.C. Fields: A Life on Film   \n",
       "1                                              Good Harbor   \n",
       "2        The Unschooled Wizard (Sun Wolf and Starhawk, ...   \n",
       "3                                     Best Friends Forever   \n",
       "4        Runic Astrology: Starcraft and Timekeeping in ...   \n",
       "...                                                    ...   \n",
       "2360650  This Sceptred Isle, Vol. 10: The Age of Victor...   \n",
       "2360651                Sherlock Holmes and the July Crisis   \n",
       "2360652           The Children's Classic Poetry Collection   \n",
       "2360653          101 Nights: Volume One (101 Nights, #1-3)   \n",
       "2360654  The Spanish Duke's Virgin Bride (Innocent Mist...   \n",
       "\n",
       "                                      title_without_series  \n",
       "0                              W.C. Fields: A Life on Film  \n",
       "1                                              Good Harbor  \n",
       "2        The Unschooled Wizard (Sun Wolf and Starhawk, ...  \n",
       "3                                     Best Friends Forever  \n",
       "4        Runic Astrology: Starcraft and Timekeeping in ...  \n",
       "...                                                    ...  \n",
       "2360650  This Sceptred Isle, Vol. 10: The Age of Victor...  \n",
       "2360651                Sherlock Holmes and the July Crisis  \n",
       "2360652           The Children's Classic Poetry Collection  \n",
       "2360653          101 Nights: Volume One (101 Nights, #1-3)  \n",
       "2360654  The Spanish Duke's Virgin Bride (Innocent Mist...  \n",
       "\n",
       "[2360655 rows x 29 columns]"
      ]
     },
     "execution_count": 39,
     "metadata": {},
     "output_type": "execute_result"
    }
   ],
   "source": [
    "df_pyarrow "
   ]
  },
  {
   "cell_type": "code",
   "execution_count": null,
   "id": "9f00fb3a",
   "metadata": {},
   "outputs": [],
   "source": [
    "import polars as pl\n",
    "\n",
    "%%memray_flamegraph\n",
    "df = pl.read_parquet(\"/Users/vicki/viberary/viberary/jsonparquet/src/main/resources/goodreads.parquet\")"
   ]
  },
  {
   "cell_type": "code",
   "execution_count": null,
   "id": "224074a1",
   "metadata": {},
   "outputs": [],
   "source": []
  }
 ],
 "metadata": {
  "kernelspec": {
   "display_name": "Python 3 (ipykernel)",
   "language": "python",
   "name": "python3"
  },
  "language_info": {
   "codemirror_mode": {
    "name": "ipython",
    "version": 3
   },
   "file_extension": ".py",
   "mimetype": "text/x-python",
   "name": "python",
   "nbconvert_exporter": "python",
   "pygments_lexer": "ipython3",
   "version": "3.9.12"
  }
 },
 "nbformat": 4,
 "nbformat_minor": 5
}
