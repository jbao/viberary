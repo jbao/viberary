{
 "cells": [
  {
   "cell_type": "code",
   "execution_count": 1,
   "id": "198e0e76",
   "metadata": {},
   "outputs": [
    {
     "name": "stdout",
     "output_type": "stream",
     "text": [
      "\u001b[33mDEPRECATION: Configuring installation scheme with distutils config files is deprecated and will no longer work in the near future. If you are using a Homebrew or Linuxbrew Python, please see discussion at https://github.com/Homebrew/homebrew-core/issues/76621\u001b[0m\u001b[33m\n",
      "\u001b[0m\u001b[33mDEPRECATION: Configuring installation scheme with distutils config files is deprecated and will no longer work in the near future. If you are using a Homebrew or Linuxbrew Python, please see discussion at https://github.com/Homebrew/homebrew-core/issues/76621\u001b[0m\u001b[33m\n",
      "\u001b[0m\u001b[33mWARNING: You are using pip version 22.0.4; however, version 22.3.1 is available.\n",
      "You should consider upgrading via the '/usr/local/opt/python@3.9/bin/python3.9 -m pip install --upgrade pip' command.\u001b[0m\u001b[33m\n",
      "\u001b[0m"
     ]
    }
   ],
   "source": [
    "import sys\n",
    "!{sys.executable} -m pip  install --quiet python-snappy pyarrow memray pandas watermark ipywidgets bs4 polars rich humanize matplotlib"
   ]
  },
  {
   "cell_type": "markdown",
   "id": "1a2103dc",
   "metadata": {},
   "source": [
    "Inspired by [Peter's notebook here](https://colab.research.google.com/drive/1TWa9L5NQE-cBYOpFvzwSu7Rjoy6QtFWw#scrollTo=OTEolvIk4Cmb)"
   ]
  },
  {
   "cell_type": "code",
   "execution_count": 2,
   "id": "f51a45a4",
   "metadata": {},
   "outputs": [],
   "source": [
    "from pyarrow import json\n",
    "from pathlib import Path\n",
    "import os\n",
    "\n",
    "import pandas as pd\n",
    "import humanize\n",
    "\n",
    "from bs4 import BeautifulSoup\n",
    "from rich import print"
   ]
  },
  {
   "cell_type": "code",
   "execution_count": 3,
   "id": "d74cbf18",
   "metadata": {},
   "outputs": [],
   "source": [
    "%load_ext memray"
   ]
  },
  {
   "cell_type": "code",
   "execution_count": 29,
   "id": "61d59343",
   "metadata": {},
   "outputs": [
    {
     "data": {
      "text/html": [
       "<pre style=\"white-space:pre;overflow-x:auto;line-height:normal;font-family:Menlo,'DejaVu Sans Mono',consolas,'Courier New',monospace\">\n",
       "          Command line: <span style=\"color: #800080; text-decoration-color: #800080\">/usr/local/lib/python3.9/site-packages/</span><span style=\"color: #ff00ff; text-decoration-color: #ff00ff\">ipykernel_launcher.py</span> -f \n",
       "<span style=\"color: #800080; text-decoration-color: #800080\">/Users/vicki/Library/Jupyter/runtime/</span><span style=\"color: #ff00ff; text-decoration-color: #ff00ff\">kernel-87e391e0-0452-4dc9-bbd9-48ccec32f39e.json</span>\n",
       "          Start time: <span style=\"color: #008080; text-decoration-color: #008080; font-weight: bold\">2023</span>-<span style=\"color: #008080; text-decoration-color: #008080; font-weight: bold\">01</span>-<span style=\"color: #008080; text-decoration-color: #008080; font-weight: bold\">11</span> <span style=\"color: #00ff00; text-decoration-color: #00ff00; font-weight: bold\">13:15:56</span>.<span style=\"color: #008080; text-decoration-color: #008080; font-weight: bold\">652000</span>\n",
       "          End time: <span style=\"color: #008080; text-decoration-color: #008080; font-weight: bold\">2023</span>-<span style=\"color: #008080; text-decoration-color: #008080; font-weight: bold\">01</span>-<span style=\"color: #008080; text-decoration-color: #008080; font-weight: bold\">11</span> <span style=\"color: #00ff00; text-decoration-color: #00ff00; font-weight: bold\">13:15:56</span>.<span style=\"color: #008080; text-decoration-color: #008080; font-weight: bold\">705000</span>\n",
       "          Total number of allocations: <span style=\"color: #008080; text-decoration-color: #008080; font-weight: bold\">974</span>\n",
       "          Total number of frames seen: <span style=\"color: #008080; text-decoration-color: #008080; font-weight: bold\">78</span>\n",
       "          Peak memory usage: <span style=\"color: #008080; text-decoration-color: #008080; font-weight: bold\">19.3</span> kB\n",
       "          Python allocator: pymalloc\n",
       "        \n",
       "</pre>\n"
      ],
      "text/plain": [
       "\n",
       "          Command line: \u001b[35m/usr/local/lib/python3.9/site-packages/\u001b[0m\u001b[95mipykernel_launcher.py\u001b[0m -f \n",
       "\u001b[35m/Users/vicki/Library/Jupyter/runtime/\u001b[0m\u001b[95mkernel-87e391e0-0452-4dc9-bbd9-48ccec32f39e.json\u001b[0m\n",
       "          Start time: \u001b[1;36m2023\u001b[0m-\u001b[1;36m01\u001b[0m-\u001b[1;36m11\u001b[0m \u001b[1;92m13:15:56\u001b[0m.\u001b[1;36m652000\u001b[0m\n",
       "          End time: \u001b[1;36m2023\u001b[0m-\u001b[1;36m01\u001b[0m-\u001b[1;36m11\u001b[0m \u001b[1;92m13:15:56\u001b[0m.\u001b[1;36m705000\u001b[0m\n",
       "          Total number of allocations: \u001b[1;36m974\u001b[0m\n",
       "          Total number of frames seen: \u001b[1;36m78\u001b[0m\n",
       "          Peak memory usage: \u001b[1;36m19.3\u001b[0m kB\n",
       "          Python allocator: pymalloc\n",
       "        \n"
      ]
     },
     "metadata": {},
     "output_type": "display_data"
    }
   ],
   "source": [
    "# total memory allocated for DF\n",
    "latest_file = max(Path(\"memray-results/\").glob(\"**/*.html\"), key=os.path.getmtime)\n",
    "soup = BeautifulSoup(latest_file.read_text())\n",
    "stats = soup.find(\"div\", {\"id\" : \"statsModal\"}).find(\"div\", {\"class\" : \"modal-body\"})\n",
    "print(stats.text)"
   ]
  },
  {
   "cell_type": "code",
   "execution_count": 20,
   "id": "194d16ae",
   "metadata": {},
   "outputs": [
    {
     "data": {
      "text/html": [
       "<pre style=\"white-space:pre;overflow-x:auto;line-height:normal;font-family:Menlo,'DejaVu Sans Mono',consolas,'Courier New',monospace\"><span style=\"color: #008000; text-decoration-color: #008000\">⠋</span> <span style=\"color: #000080; text-decoration-color: #000080\">Processing allocation records...</span> <span style=\"color: #3a3a3a; text-decoration-color: #3a3a3a\">━━━━━━━━━━━━━━━━━━━━━━━━━━━━━━━━━━━━━━━━</span> <span style=\"color: #800080; text-decoration-color: #800080\">  0%</span> <span style=\"color: #008080; text-decoration-color: #008080\">-:--:--</span>\n",
       "</pre>\n"
      ],
      "text/plain": [
       "\u001b[32m⠋\u001b[0m \u001b[34mProcessing allocation records...\u001b[0m \u001b[38;5;237m━━━━━━━━━━━━━━━━━━━━━━━━━━━━━━━━━━━━━━━━\u001b[0m \u001b[35m  0%\u001b[0m \u001b[36m-:--:--\u001b[0m\n"
      ]
     },
     "metadata": {},
     "output_type": "display_data"
    },
    {
     "data": {
      "text/html": [
       "<pre style=\"white-space:pre;overflow-x:auto;line-height:normal;font-family:Menlo,'DejaVu Sans Mono',consolas,'Courier New',monospace\"></pre>\n"
      ],
      "text/plain": []
     },
     "metadata": {},
     "output_type": "display_data"
    },
    {
     "data": {
      "text/html": [
       "<pre style=\"white-space:pre;overflow-x:auto;line-height:normal;font-family:Menlo,'DejaVu Sans Mono',consolas,'Courier New',monospace\">\n",
       "</pre>\n"
      ],
      "text/plain": [
       "\n"
      ]
     },
     "metadata": {},
     "output_type": "display_data"
    },
    {
     "data": {
      "text/html": [
       "<pre style=\"white-space:pre;overflow-x:auto;line-height:normal;font-family:Menlo,'DejaVu Sans Mono',consolas,'Courier New',monospace\">Results saved to <span style=\"color: #000080; text-decoration-color: #000080; font-weight: bold\">memray-results/tmpclqskio7/flamegraph.html</span>\n",
       "</pre>\n"
      ],
      "text/plain": [
       "Results saved to \u001b[1;34mmemray-results/tmpclqskio7/flamegraph.html\u001b[0m\n"
      ]
     },
     "metadata": {},
     "output_type": "display_data"
    },
    {
     "data": {
      "text/html": [
       "\n",
       "        <iframe\n",
       "            width=\"100%\"\n",
       "            height=\"600\"\n",
       "            src=\"memray-results/tmpclqskio7/flamegraph.html\"\n",
       "            frameborder=\"0\"\n",
       "            allowfullscreen\n",
       "            \n",
       "        ></iframe>\n",
       "        "
      ],
      "text/plain": [
       "<IPython.lib.display.IFrame at 0x6c0306d90>"
      ]
     },
     "metadata": {},
     "output_type": "display_data"
    }
   ],
   "source": [
    "%%memray_flamegraph\n",
    "df_json = pd.read_json('/Users/vicki/viberary/viberary/jsonparquet/src/main/resources/goodreads_books.json')"
   ]
  },
  {
   "cell_type": "code",
   "execution_count": 21,
   "id": "bb25317d",
   "metadata": {},
   "outputs": [
    {
     "data": {
      "text/html": [
       "<pre style=\"white-space:pre;overflow-x:auto;line-height:normal;font-family:Menlo,'DejaVu Sans Mono',consolas,'Courier New',monospace\">\n",
       "          Command line: <span style=\"color: #800080; text-decoration-color: #800080\">/usr/local/lib/python3.9/site-packages/</span><span style=\"color: #ff00ff; text-decoration-color: #ff00ff\">ipykernel_launcher.py</span> -f \n",
       "<span style=\"color: #800080; text-decoration-color: #800080\">/Users/vicki/Library/Jupyter/runtime/</span><span style=\"color: #ff00ff; text-decoration-color: #ff00ff\">kernel-87e391e0-0452-4dc9-bbd9-48ccec32f39e.json</span>\n",
       "          Start time: <span style=\"color: #008080; text-decoration-color: #008080; font-weight: bold\">2023</span>-<span style=\"color: #008080; text-decoration-color: #008080; font-weight: bold\">01</span>-<span style=\"color: #008080; text-decoration-color: #008080; font-weight: bold\">12</span> <span style=\"color: #00ff00; text-decoration-color: #00ff00; font-weight: bold\">16:13:05</span>.<span style=\"color: #008080; text-decoration-color: #008080; font-weight: bold\">618000</span>\n",
       "          End time: <span style=\"color: #008080; text-decoration-color: #008080; font-weight: bold\">2023</span>-<span style=\"color: #008080; text-decoration-color: #008080; font-weight: bold\">01</span>-<span style=\"color: #008080; text-decoration-color: #008080; font-weight: bold\">12</span> <span style=\"color: #00ff00; text-decoration-color: #00ff00; font-weight: bold\">16:13:34</span>.<span style=\"color: #008080; text-decoration-color: #008080; font-weight: bold\">124000</span>\n",
       "          Total number of allocations: <span style=\"color: #008080; text-decoration-color: #008080; font-weight: bold\">30</span>\n",
       "          Total number of frames seen: <span style=\"color: #008080; text-decoration-color: #008080; font-weight: bold\">47</span>\n",
       "          Peak memory usage: <span style=\"color: #008080; text-decoration-color: #008080; font-weight: bold\">55.2</span> GB\n",
       "          Python allocator: pymalloc\n",
       "        \n",
       "</pre>\n"
      ],
      "text/plain": [
       "\n",
       "          Command line: \u001b[35m/usr/local/lib/python3.9/site-packages/\u001b[0m\u001b[95mipykernel_launcher.py\u001b[0m -f \n",
       "\u001b[35m/Users/vicki/Library/Jupyter/runtime/\u001b[0m\u001b[95mkernel-87e391e0-0452-4dc9-bbd9-48ccec32f39e.json\u001b[0m\n",
       "          Start time: \u001b[1;36m2023\u001b[0m-\u001b[1;36m01\u001b[0m-\u001b[1;36m12\u001b[0m \u001b[1;92m16:13:05\u001b[0m.\u001b[1;36m618000\u001b[0m\n",
       "          End time: \u001b[1;36m2023\u001b[0m-\u001b[1;36m01\u001b[0m-\u001b[1;36m12\u001b[0m \u001b[1;92m16:13:34\u001b[0m.\u001b[1;36m124000\u001b[0m\n",
       "          Total number of allocations: \u001b[1;36m30\u001b[0m\n",
       "          Total number of frames seen: \u001b[1;36m47\u001b[0m\n",
       "          Peak memory usage: \u001b[1;36m55.2\u001b[0m GB\n",
       "          Python allocator: pymalloc\n",
       "        \n"
      ]
     },
     "metadata": {},
     "output_type": "display_data"
    }
   ],
   "source": [
    "# total memory allocated for DF\n",
    "latest_file = max(Path(\"memray-results/\").glob(\"**/*.html\"), key=os.path.getmtime)\n",
    "soup = BeautifulSoup(latest_file.read_text())\n",
    "stats = soup.find(\"div\", {\"id\" : \"statsModal\"}).find(\"div\", {\"class\" : \"modal-body\"})\n",
    "print(stats.text)"
   ]
  },
  {
   "cell_type": "code",
   "execution_count": 37,
   "id": "e2506e83",
   "metadata": {},
   "outputs": [
    {
     "data": {
      "text/html": [
       "<pre style=\"white-space:pre;overflow-x:auto;line-height:normal;font-family:Menlo,'DejaVu Sans Mono',consolas,'Courier New',monospace\"><span style=\"color: #008000; text-decoration-color: #008000\">⠙</span> <span style=\"color: #000080; text-decoration-color: #000080\">Processing allocation records...</span> <span style=\"color: #f92672; text-decoration-color: #f92672\">━━━━━━━━━━━━━━━━━━━━━━━━━━━━━━━━━━━━━━━╸</span> <span style=\"color: #800080; text-decoration-color: #800080\">100%</span> <span style=\"color: #008080; text-decoration-color: #008080\">0:00:01</span>\n",
       "</pre>\n"
      ],
      "text/plain": [
       "\u001b[32m⠙\u001b[0m \u001b[34mProcessing allocation records...\u001b[0m \u001b[38;2;249;38;114m━━━━━━━━━━━━━━━━━━━━━━━━━━━━━━━━━━━━━━━\u001b[0m\u001b[38;2;249;38;114m╸\u001b[0m \u001b[35m100%\u001b[0m \u001b[36m0:00:01\u001b[0m\n"
      ]
     },
     "metadata": {},
     "output_type": "display_data"
    },
    {
     "data": {
      "text/html": [
       "<pre style=\"white-space:pre;overflow-x:auto;line-height:normal;font-family:Menlo,'DejaVu Sans Mono',consolas,'Courier New',monospace\"></pre>\n"
      ],
      "text/plain": []
     },
     "metadata": {},
     "output_type": "display_data"
    },
    {
     "data": {
      "text/html": [
       "<pre style=\"white-space:pre;overflow-x:auto;line-height:normal;font-family:Menlo,'DejaVu Sans Mono',consolas,'Courier New',monospace\">\n",
       "</pre>\n"
      ],
      "text/plain": [
       "\n"
      ]
     },
     "metadata": {},
     "output_type": "display_data"
    },
    {
     "data": {
      "text/html": [
       "<pre style=\"white-space:pre;overflow-x:auto;line-height:normal;font-family:Menlo,'DejaVu Sans Mono',consolas,'Courier New',monospace\">Results saved to <span style=\"color: #000080; text-decoration-color: #000080; font-weight: bold\">memray-results/tmp28lr8lsk/flamegraph.html</span>\n",
       "</pre>\n"
      ],
      "text/plain": [
       "Results saved to \u001b[1;34mmemray-results/tmp28lr8lsk/flamegraph.html\u001b[0m\n"
      ]
     },
     "metadata": {},
     "output_type": "display_data"
    },
    {
     "data": {
      "text/html": [
       "\n",
       "        <iframe\n",
       "            width=\"100%\"\n",
       "            height=\"600\"\n",
       "            src=\"memray-results/tmp28lr8lsk/flamegraph.html\"\n",
       "            frameborder=\"0\"\n",
       "            allowfullscreen\n",
       "            \n",
       "        ></iframe>\n",
       "        "
      ],
      "text/plain": [
       "<IPython.lib.display.IFrame at 0x6c04f0760>"
      ]
     },
     "metadata": {},
     "output_type": "display_data"
    }
   ],
   "source": [
    "%%memray_flamegraph\n",
    "from pyarrow import json\n",
    "df_pyarrow = json.read_json('/Users/vicki/viberary/viberary/jsonparquet/src/main/resources/goodreads_books.json')\n",
    "df_pyarrow = df_pyarrow.to_pandas()"
   ]
  },
  {
   "cell_type": "code",
   "execution_count": 38,
   "id": "0dd6dd0c",
   "metadata": {},
   "outputs": [
    {
     "data": {
      "text/html": [
       "<pre style=\"white-space:pre;overflow-x:auto;line-height:normal;font-family:Menlo,'DejaVu Sans Mono',consolas,'Courier New',monospace\">\n",
       "          Command line: <span style=\"color: #800080; text-decoration-color: #800080\">/usr/local/lib/python3.9/site-packages/</span><span style=\"color: #ff00ff; text-decoration-color: #ff00ff\">ipykernel_launcher.py</span> -f \n",
       "<span style=\"color: #800080; text-decoration-color: #800080\">/Users/vicki/Library/Jupyter/runtime/</span><span style=\"color: #ff00ff; text-decoration-color: #ff00ff\">kernel-87e391e0-0452-4dc9-bbd9-48ccec32f39e.json</span>\n",
       "          Start time: <span style=\"color: #008080; text-decoration-color: #008080; font-weight: bold\">2023</span>-<span style=\"color: #008080; text-decoration-color: #008080; font-weight: bold\">01</span>-<span style=\"color: #008080; text-decoration-color: #008080; font-weight: bold\">12</span> <span style=\"color: #00ff00; text-decoration-color: #00ff00; font-weight: bold\">16:35:17</span>.<span style=\"color: #008080; text-decoration-color: #008080; font-weight: bold\">344000</span>\n",
       "          End time: <span style=\"color: #008080; text-decoration-color: #008080; font-weight: bold\">2023</span>-<span style=\"color: #008080; text-decoration-color: #008080; font-weight: bold\">01</span>-<span style=\"color: #008080; text-decoration-color: #008080; font-weight: bold\">12</span> <span style=\"color: #00ff00; text-decoration-color: #00ff00; font-weight: bold\">16:37:22</span>.<span style=\"color: #008080; text-decoration-color: #008080; font-weight: bold\">167000</span>\n",
       "          Total number of allocations: <span style=\"color: #008080; text-decoration-color: #008080; font-weight: bold\">42194315</span>\n",
       "          Total number of frames seen: <span style=\"color: #008080; text-decoration-color: #008080; font-weight: bold\">76</span>\n",
       "          Peak memory usage: <span style=\"color: #008080; text-decoration-color: #008080; font-weight: bold\">45.0</span> GB\n",
       "          Python allocator: pymalloc\n",
       "        \n",
       "</pre>\n"
      ],
      "text/plain": [
       "\n",
       "          Command line: \u001b[35m/usr/local/lib/python3.9/site-packages/\u001b[0m\u001b[95mipykernel_launcher.py\u001b[0m -f \n",
       "\u001b[35m/Users/vicki/Library/Jupyter/runtime/\u001b[0m\u001b[95mkernel-87e391e0-0452-4dc9-bbd9-48ccec32f39e.json\u001b[0m\n",
       "          Start time: \u001b[1;36m2023\u001b[0m-\u001b[1;36m01\u001b[0m-\u001b[1;36m12\u001b[0m \u001b[1;92m16:35:17\u001b[0m.\u001b[1;36m344000\u001b[0m\n",
       "          End time: \u001b[1;36m2023\u001b[0m-\u001b[1;36m01\u001b[0m-\u001b[1;36m12\u001b[0m \u001b[1;92m16:37:22\u001b[0m.\u001b[1;36m167000\u001b[0m\n",
       "          Total number of allocations: \u001b[1;36m42194315\u001b[0m\n",
       "          Total number of frames seen: \u001b[1;36m76\u001b[0m\n",
       "          Peak memory usage: \u001b[1;36m45.0\u001b[0m GB\n",
       "          Python allocator: pymalloc\n",
       "        \n"
      ]
     },
     "metadata": {},
     "output_type": "display_data"
    }
   ],
   "source": [
    "# total memory allocated for DF\n",
    "latest_file = max(Path(\"memray-results/\").glob(\"**/*.html\"), key=os.path.getmtime)\n",
    "soup = BeautifulSoup(latest_file.read_text())\n",
    "stats = soup.find(\"div\", {\"id\" : \"statsModal\"}).find(\"div\", {\"class\" : \"modal-body\"})\n",
    "print(stats.text)"
   ]
  },
  {
   "cell_type": "code",
   "execution_count": 5,
   "id": "6abf9d19",
   "metadata": {},
   "outputs": [
    {
     "data": {
      "application/vnd.jupyter.widget-view+json": {
       "model_id": "",
       "version_major": 2,
       "version_minor": 0
      },
      "text/plain": [
       "Output()"
      ]
     },
     "metadata": {},
     "output_type": "display_data"
    },
    {
     "data": {
      "text/html": [
       "<pre style=\"white-space:pre;overflow-x:auto;line-height:normal;font-family:Menlo,'DejaVu Sans Mono',consolas,'Courier New',monospace\"></pre>\n"
      ],
      "text/plain": []
     },
     "metadata": {},
     "output_type": "display_data"
    },
    {
     "data": {
      "text/html": [
       "<pre style=\"white-space:pre;overflow-x:auto;line-height:normal;font-family:Menlo,'DejaVu Sans Mono',consolas,'Courier New',monospace\">\n",
       "</pre>\n"
      ],
      "text/plain": [
       "\n"
      ]
     },
     "metadata": {},
     "output_type": "display_data"
    },
    {
     "data": {
      "application/vnd.jupyter.widget-view+json": {
       "model_id": "",
       "version_major": 2,
       "version_minor": 0
      },
      "text/plain": [
       "Output()"
      ]
     },
     "metadata": {},
     "output_type": "display_data"
    },
    {
     "data": {
      "text/html": [
       "<pre style=\"white-space:pre;overflow-x:auto;line-height:normal;font-family:Menlo,'DejaVu Sans Mono',consolas,'Courier New',monospace\"></pre>\n"
      ],
      "text/plain": []
     },
     "metadata": {},
     "output_type": "display_data"
    },
    {
     "data": {
      "text/html": [
       "<pre style=\"white-space:pre;overflow-x:auto;line-height:normal;font-family:Menlo,'DejaVu Sans Mono',consolas,'Courier New',monospace\">\n",
       "</pre>\n"
      ],
      "text/plain": [
       "\n"
      ]
     },
     "metadata": {},
     "output_type": "display_data"
    },
    {
     "data": {
      "text/html": [
       "<pre style=\"white-space:pre;overflow-x:auto;line-height:normal;font-family:Menlo,'DejaVu Sans Mono',consolas,'Courier New',monospace\">Results saved to <span style=\"color: #000080; text-decoration-color: #000080; font-weight: bold\">memray-results/tmp_hx3jvr4/flamegraph.html</span>\n",
       "</pre>\n"
      ],
      "text/plain": [
       "Results saved to \u001b[1;34mmemray-results/tmp_hx3jvr4/flamegraph.html\u001b[0m\n"
      ]
     },
     "metadata": {},
     "output_type": "display_data"
    },
    {
     "data": {
      "text/html": [
       "\n",
       "        <iframe\n",
       "            width=\"100%\"\n",
       "            height=\"600\"\n",
       "            src=\"memray-results/tmp_hx3jvr4/flamegraph.html\"\n",
       "            frameborder=\"0\"\n",
       "            allowfullscreen\n",
       "            \n",
       "        ></iframe>\n",
       "        "
      ],
      "text/plain": [
       "<IPython.lib.display.IFrame at 0x1251e4730>"
      ]
     },
     "metadata": {},
     "output_type": "display_data"
    }
   ],
   "source": [
    "%%memray_flamegraph\n",
    "df_parquet = pd.read_parquet('/Users/vicki/viberary/viberary/jsonparquet/src/main/resources/goodreads.parquet', engine='pyarrow')"
   ]
  },
  {
   "cell_type": "code",
   "execution_count": 34,
   "id": "60c6ff75",
   "metadata": {},
   "outputs": [
    {
     "data": {
      "text/html": [
       "<pre style=\"white-space:pre;overflow-x:auto;line-height:normal;font-family:Menlo,'DejaVu Sans Mono',consolas,'Courier New',monospace\">\n",
       "          Command line: <span style=\"color: #800080; text-decoration-color: #800080\">/usr/local/lib/python3.9/site-packages/</span><span style=\"color: #ff00ff; text-decoration-color: #ff00ff\">ipykernel_launcher.py</span> -f \n",
       "<span style=\"color: #800080; text-decoration-color: #800080\">/Users/vicki/Library/Jupyter/runtime/</span><span style=\"color: #ff00ff; text-decoration-color: #ff00ff\">kernel-87e391e0-0452-4dc9-bbd9-48ccec32f39e.json</span>\n",
       "          Start time: <span style=\"color: #008080; text-decoration-color: #008080; font-weight: bold\">2023</span>-<span style=\"color: #008080; text-decoration-color: #008080; font-weight: bold\">01</span>-<span style=\"color: #008080; text-decoration-color: #008080; font-weight: bold\">12</span> <span style=\"color: #00ff00; text-decoration-color: #00ff00; font-weight: bold\">16:30:36</span>.<span style=\"color: #008080; text-decoration-color: #008080; font-weight: bold\">757000</span>\n",
       "          End time: <span style=\"color: #008080; text-decoration-color: #008080; font-weight: bold\">2023</span>-<span style=\"color: #008080; text-decoration-color: #008080; font-weight: bold\">01</span>-<span style=\"color: #008080; text-decoration-color: #008080; font-weight: bold\">12</span> <span style=\"color: #00ff00; text-decoration-color: #00ff00; font-weight: bold\">16:32:20</span>.<span style=\"color: #008080; text-decoration-color: #008080; font-weight: bold\">668000</span>\n",
       "          Total number of allocations: <span style=\"color: #008080; text-decoration-color: #008080; font-weight: bold\">12185306</span>\n",
       "          Total number of frames seen: <span style=\"color: #008080; text-decoration-color: #008080; font-weight: bold\">115</span>\n",
       "          Peak memory usage: <span style=\"color: #008080; text-decoration-color: #008080; font-weight: bold\">45.3</span> GB\n",
       "          Python allocator: pymalloc\n",
       "        \n",
       "</pre>\n"
      ],
      "text/plain": [
       "\n",
       "          Command line: \u001b[35m/usr/local/lib/python3.9/site-packages/\u001b[0m\u001b[95mipykernel_launcher.py\u001b[0m -f \n",
       "\u001b[35m/Users/vicki/Library/Jupyter/runtime/\u001b[0m\u001b[95mkernel-87e391e0-0452-4dc9-bbd9-48ccec32f39e.json\u001b[0m\n",
       "          Start time: \u001b[1;36m2023\u001b[0m-\u001b[1;36m01\u001b[0m-\u001b[1;36m12\u001b[0m \u001b[1;92m16:30:36\u001b[0m.\u001b[1;36m757000\u001b[0m\n",
       "          End time: \u001b[1;36m2023\u001b[0m-\u001b[1;36m01\u001b[0m-\u001b[1;36m12\u001b[0m \u001b[1;92m16:32:20\u001b[0m.\u001b[1;36m668000\u001b[0m\n",
       "          Total number of allocations: \u001b[1;36m12185306\u001b[0m\n",
       "          Total number of frames seen: \u001b[1;36m115\u001b[0m\n",
       "          Peak memory usage: \u001b[1;36m45.3\u001b[0m GB\n",
       "          Python allocator: pymalloc\n",
       "        \n"
      ]
     },
     "metadata": {},
     "output_type": "display_data"
    }
   ],
   "source": [
    "# total memory allocated for DF\n",
    "latest_file = max(Path(\"memray-results/\").glob(\"**/*.html\"), key=os.path.getmtime)\n",
    "soup = BeautifulSoup(latest_file.read_text())\n",
    "stats = soup.find(\"div\", {\"id\" : \"statsModal\"}).find(\"div\", {\"class\" : \"modal-body\"})\n",
    "print(stats.text)"
   ]
  },
  {
   "cell_type": "code",
   "execution_count": 2,
   "id": "d7709660",
   "metadata": {},
   "outputs": [
    {
     "ename": "NameError",
     "evalue": "name 'df_pyarrow' is not defined",
     "output_type": "error",
     "traceback": [
      "\u001b[0;31m---------------------------------------------------------------------------\u001b[0m",
      "\u001b[0;31mNameError\u001b[0m                                 Traceback (most recent call last)",
      "\u001b[0;32m/var/folders/n8/dpr0sw1x2mdcxbv9rthvwz500000gp/T/ipykernel_30308/3984143715.py\u001b[0m in \u001b[0;36m<module>\u001b[0;34m\u001b[0m\n\u001b[0;32m----> 1\u001b[0;31m \u001b[0mhisto\u001b[0m \u001b[0;34m=\u001b[0m \u001b[0mdf_pyarrow\u001b[0m\u001b[0;34m.\u001b[0m\u001b[0mgroupby\u001b[0m\u001b[0;34m(\u001b[0m\u001b[0;34m'publication_year'\u001b[0m\u001b[0;34m)\u001b[0m\u001b[0;34m.\u001b[0m\u001b[0msize\u001b[0m\u001b[0;34m(\u001b[0m\u001b[0;34m)\u001b[0m\u001b[0;34m\u001b[0m\u001b[0;34m\u001b[0m\u001b[0m\n\u001b[0m\u001b[1;32m      2\u001b[0m \u001b[0mplt\u001b[0m\u001b[0;34m.\u001b[0m\u001b[0mfigure\u001b[0m\u001b[0;34m(\u001b[0m\u001b[0;34m)\u001b[0m\u001b[0;34m;\u001b[0m\u001b[0;34m\u001b[0m\u001b[0;34m\u001b[0m\u001b[0m\n\u001b[1;32m      3\u001b[0m \u001b[0mhisto\u001b[0m\u001b[0;34m.\u001b[0m\u001b[0mplot\u001b[0m\u001b[0;34m.\u001b[0m\u001b[0mbar\u001b[0m\u001b[0;34m(\u001b[0m\u001b[0;34m)\u001b[0m\u001b[0;34m;\u001b[0m \u001b[0mplt\u001b[0m\u001b[0;34m.\u001b[0m\u001b[0maxhline\u001b[0m\u001b[0;34m(\u001b[0m\u001b[0;36m0\u001b[0m\u001b[0;34m,\u001b[0m \u001b[0mcolor\u001b[0m\u001b[0;34m=\u001b[0m\u001b[0;34m'k'\u001b[0m\u001b[0;34m)\u001b[0m\u001b[0;34m\u001b[0m\u001b[0;34m\u001b[0m\u001b[0m\n",
      "\u001b[0;31mNameError\u001b[0m: name 'df_pyarrow' is not defined"
     ]
    }
   ],
   "source": [
    "histo = df_pyarrow.groupby('publication_year').size()\n",
    "plt.figure();\n",
    "histo.plot.bar(); plt.axhline(0, color='k')"
   ]
  },
  {
   "cell_type": "code",
   "execution_count": 23,
   "id": "26ae5137",
   "metadata": {},
   "outputs": [
    {
     "data": {
      "application/vnd.jupyter.widget-view+json": {
       "model_id": "",
       "version_major": 2,
       "version_minor": 0
      },
      "text/plain": [
       "Output()"
      ]
     },
     "metadata": {},
     "output_type": "display_data"
    },
    {
     "data": {
      "text/html": [
       "<pre style=\"white-space:pre;overflow-x:auto;line-height:normal;font-family:Menlo,'DejaVu Sans Mono',consolas,'Courier New',monospace\"></pre>\n"
      ],
      "text/plain": []
     },
     "metadata": {},
     "output_type": "display_data"
    },
    {
     "data": {
      "text/html": [
       "<pre style=\"white-space:pre;overflow-x:auto;line-height:normal;font-family:Menlo,'DejaVu Sans Mono',consolas,'Courier New',monospace\">\n",
       "</pre>\n"
      ],
      "text/plain": [
       "\n"
      ]
     },
     "metadata": {},
     "output_type": "display_data"
    },
    {
     "data": {
      "application/vnd.jupyter.widget-view+json": {
       "model_id": "",
       "version_major": 2,
       "version_minor": 0
      },
      "text/plain": [
       "Output()"
      ]
     },
     "metadata": {},
     "output_type": "display_data"
    },
    {
     "data": {
      "text/html": [
       "<pre style=\"white-space:pre;overflow-x:auto;line-height:normal;font-family:Menlo,'DejaVu Sans Mono',consolas,'Courier New',monospace\"></pre>\n"
      ],
      "text/plain": []
     },
     "metadata": {},
     "output_type": "display_data"
    },
    {
     "data": {
      "text/html": [
       "<pre style=\"white-space:pre;overflow-x:auto;line-height:normal;font-family:Menlo,'DejaVu Sans Mono',consolas,'Courier New',monospace\">\n",
       "</pre>\n"
      ],
      "text/plain": [
       "\n"
      ]
     },
     "metadata": {},
     "output_type": "display_data"
    },
    {
     "data": {
      "text/html": [
       "<pre style=\"white-space:pre;overflow-x:auto;line-height:normal;font-family:Menlo,'DejaVu Sans Mono',consolas,'Courier New',monospace\">Results saved to <span style=\"color: #000080; text-decoration-color: #000080; font-weight: bold\">memray-results/tmpw84d73e5/flamegraph.html</span>\n",
       "</pre>\n"
      ],
      "text/plain": [
       "Results saved to \u001b[1;34mmemray-results/tmpw84d73e5/flamegraph.html\u001b[0m\n"
      ]
     },
     "metadata": {},
     "output_type": "display_data"
    },
    {
     "data": {
      "text/html": [
       "\n",
       "        <iframe\n",
       "            width=\"100%\"\n",
       "            height=\"600\"\n",
       "            src=\"memray-results/tmpw84d73e5/flamegraph.html\"\n",
       "            frameborder=\"0\"\n",
       "            allowfullscreen\n",
       "            \n",
       "        ></iframe>\n",
       "        "
      ],
      "text/plain": [
       "<IPython.lib.display.IFrame at 0x5e99a4b20>"
      ]
     },
     "metadata": {},
     "output_type": "display_data"
    }
   ],
   "source": [
    "%%memray_flamegraph\n",
    "df_parquet = pd.read_parquet('/Users/vicki/Downloads/spark-3.3.1-bin-hadoop3/goodreads_schema.parquet', engine='pyarrow')"
   ]
  },
  {
   "cell_type": "code",
   "execution_count": 20,
   "id": "ecb1ddf8",
   "metadata": {},
   "outputs": [
    {
     "name": "stdout",
     "output_type": "stream",
     "text": [
      "<class 'pandas.core.frame.DataFrame'>\n",
      "RangeIndex: 2360655 entries, 0 to 2360654\n",
      "Data columns (total 29 columns):\n",
      " #   Column                Dtype  \n",
      "---  ------                -----  \n",
      " 0   asin                  object \n",
      " 1   authors               object \n",
      " 2   average_rating        float64\n",
      " 3   book_id               object \n",
      " 4   country_code          object \n",
      " 5   description           object \n",
      " 6   edition_information   object \n",
      " 7   format                object \n",
      " 8   image_url             object \n",
      " 9   is_ebook              object \n",
      " 10  isbn                  object \n",
      " 11  isbn13                object \n",
      " 12  kindle_asin           object \n",
      " 13  language_code         object \n",
      " 14  link                  object \n",
      " 15  num_pages             float64\n",
      " 16  popular_shelves       object \n",
      " 17  publication_day       float64\n",
      " 18  publication_month     float64\n",
      " 19  publication_year      float64\n",
      " 20  publisher             object \n",
      " 21  ratings_count         float64\n",
      " 22  series                object \n",
      " 23  similar_books         object \n",
      " 24  text_reviews_count    float64\n",
      " 25  title                 object \n",
      " 26  title_without_series  object \n",
      " 27  url                   object \n",
      " 28  work_id               object \n",
      "dtypes: float64(7), object(22)\n",
      "memory usage: 522.3+ MB\n"
     ]
    }
   ],
   "source": [
    "df_parquet.info()"
   ]
  },
  {
   "cell_type": "code",
   "execution_count": 19,
   "id": "8176da31",
   "metadata": {},
   "outputs": [],
   "source": [
    "df_parquet['average_rating'] = pd.to_numeric(df_parquet['average_rating'],errors=\"coerce\")\n",
    "df_parquet['num_pages'] = pd.to_numeric(df_parquet['num_pages'],errors=\"coerce\")\n",
    "df_parquet['publication_day'] = pd.to_numeric(df_parquet['publication_day'],errors=\"coerce\")\n",
    "df_parquet['publication_month'] = pd.to_numeric(df_parquet['publication_month'],errors=\"coerce\")\n",
    "df_parquet['publication_year'] = pd.to_numeric(df_parquet['publication_year'],errors=\"coerce\")\n",
    "df_parquet['ratings_count'] = pd.to_numeric(df_parquet['ratings_count'],errors=\"coerce\")\n",
    "df_parquet['text_reviews_count'] = pd.to_numeric(df_parquet['text_reviews_count'],errors=\"coerce\")"
   ]
  },
  {
   "cell_type": "code",
   "execution_count": 21,
   "id": "cbd94608",
   "metadata": {},
   "outputs": [
    {
     "data": {
      "text/plain": [
       "<matplotlib.lines.Line2D at 0x12753d730>"
      ]
     },
     "execution_count": 21,
     "metadata": {},
     "output_type": "execute_result"
    },
    {
     "data": {
      "image/png": "[encoded data removed]",
      "text/plain": [
       "<Figure size 432x288 with 1 Axes>"
      ]
     },
     "metadata": {
      "needs_background": "light"
     },
     "output_type": "display_data"
    }
   ],
   "source": [
    "import matplotlib.pyplot as plt\n",
    "\n",
    "\n",
    "histo = df_parquet.groupby('country_code').size()\n",
    "plt.figure();\n",
    "histo.plot.bar(); plt.axhline(0, color='k')"
   ]
  },
  {
   "cell_type": "code",
   "execution_count": null,
   "id": "643d60f3",
   "metadata": {},
   "outputs": [],
   "source": [
    "histo = df_parquet.groupby('averag_rating').size()\n",
    "plt.figure();\n",
    "histo.plot.bar(); plt.axhline(0, color='k')"
   ]
  },
  {
   "cell_type": "code",
   "execution_count": null,
   "id": "6076bfd5",
   "metadata": {},
   "outputs": [],
   "source": [
    "df_parquet.describe()"
   ]
  }
 ],
 "metadata": {
  "kernelspec": {
   "display_name": "Python 3 (ipykernel)",
   "language": "python",
   "name": "python3"
  },
  "language_info": {
   "codemirror_mode": {
    "name": "ipython",
    "version": 3
   },
   "file_extension": ".py",
   "mimetype": "text/x-python",
   "name": "python",
   "nbconvert_exporter": "python",
   "pygments_lexer": "ipython3",
   "version": "3.9.12"
  }
 },
 "nbformat": 4,
 "nbformat_minor": 5
}
