{
 "cells": [
  {
   "cell_type": "markdown",
   "metadata": {},
   "source": [
    "# CBOW Implementation of Word2Vec\n",
    "\n",
    "This is part of the background research that I'm working on for [viberary.pizza](https://viberary.pizza/).\n",
    "\n",
    "## Background \n",
    "\n",
    "[Word2vec](https://arxiv.org/abs/1301.3781) was a critical point in NLP work, building on previous work in dimensionality reduction in NLP such as tf-idf, topic modeling, and latent semantic analysis to reduce vocabulary sizes for computational complexity, and additionally, to add context by embedding similar words in the same latent space. \n",
    "\n",
    "As of 2022, it's almost been superceded by [transformers-based architectures](https://e2eml.school/transformers.html), but it's still worth understanding how it works in a historical context, as well as because there is a fair amount of it [in production in Spark](https://spark.apache.org/docs/3.1.2/api/python/reference/api/pyspark.ml.feature.Word2Vec.html).  "
   ]
  },
  {
   "cell_type": "markdown",
   "metadata": {},
   "source": [
    "# Word2Vec Implementation\n",
    "\n",
    "There are numerous word2vec implementations in libraries like Spark and Tensorflow. There is not an exact one in PyTorch, but following[this code](https://github.com/FraLotito/pytorch-continuous-bag-of-words/blob/master/cbow.py), as well as reading about the [architecture here](https://towardsdatascience.com/word2vec-with-pytorch-implementing-original-paper-2cd7040120b0) and [here](https://jalammar.github.io/illustrated-word2vec/),  I was able to implement and understand how it works under te covers\n",
    "\n",
    "\n",
    "Original explanation in [PyTorch implementation](https://pytorch.org/tutorials/beginner/nlp/word_embeddings_tutorial.html) is here. "
   ]
  },
  {
   "cell_type": "markdown",
   "metadata": {},
   "source": [
    "As a starting point, we take our raw data for input. \n",
    "Our [training set for Viberary is some sample the Goodreads input dataset](https://github.com/veekaybee/viberary#input-data-sample), \n",
    "which is a string of text containing the metadata for each unique book\n",
    "id. \n",
    "\n",
    "For a single book id, it will contain the book description book title, etc. So a sample of a single book, will look like this\n",
    "\n",
    "\n",
    "```\n",
    "Raw text: All's Fairy in Love and War (Avalon: Web of Magic, #8) To Kara's astonishment, she discovers that a portal has opened in her bedroom closet and two goblins \n",
    "have fallen through! They refuse to return to the fairy realms and be drafted for an impending war. \n",
    "In an attempt to roust the pesky creatures, Kara falls through the portal, smack into the middle of a huge war.\n",
    "Kara meets Queen Selinda, who appoints Kara as a Fairy Princess and assigns her an impossible task: \n",
    "to put an end to the war using her diplomatic skills.\n",
    "```\n",
    "\n",
    "This is initially stored as a Python string. "
   ]
  },
  {
   "cell_type": "markdown",
   "metadata": {},
   "source": [
    "Our final goal in learning a Word2Vec model with CBOW is, given an input phrase over a context window, to predict the word that's missing. The context window is how many words before and after the word we care about. So, given the phrase \"Kara falls X the portal\", we should be able to predict that the correct word is \"through.\"\n",
    "\n",
    "We do this in Word2Vec by continuously sampling from the raw text over the context window, where the context window around the word is the X variable and the word itself is the target variable. \n",
    "\n",
    "For the first example, \"Kara falls the portal\" is the context and \"through\" is the response variable. Then we shift the window by 1 word and generate another entry. This is the whole of the [continuous bag of words approach.](https://arxiv.org/pdf/1301.3781.pdf)\n",
    "\n",
    "When we're first training the model, we pass these samples into the model and ask it to make a prediction on a single word given all these samples. The output is a vector of propabilities of the sample related to each word. We then compare that prediction to the actual label (I.e. for the sample \"Kara falls X the portal\" we KNOW the correct word is \"through\").\n",
    "\n",
    "We compare the actual vector (i.e. where through = 1) to the probability vector, and the difference between the two is the loss. The parameters are passed to the model across multiple epochs and continuously updated until we minimize the loss, i.e. we get as close to the predicted word as possible. \n",
    "\n",
    "In the process of doing this prediction, we create a lookup table of words, or embeddings matrix, to their vector representations. It is these vectors that become our embeddings. Andiamo!"
   ]
  },
  {
   "cell_type": "code",
   "execution_count": 2,
   "metadata": {},
   "outputs": [
    {
     "name": "stdout",
     "output_type": "stream",
     "text": [
      "\n",
      "\u001B[1m[\u001B[0m\u001B[34;49mnotice\u001B[0m\u001B[1;39;49m]\u001B[0m\u001B[39;49m A new release of pip available: \u001B[0m\u001B[31;49m22.3.1\u001B[0m\u001B[39;49m -> \u001B[0m\u001B[32;49m23.0\u001B[0m\n",
      "\u001B[1m[\u001B[0m\u001B[34;49mnotice\u001B[0m\u001B[1;39;49m]\u001B[0m\u001B[39;49m To update, run: \u001B[0m\u001B[32;49mpip install --upgrade pip\u001B[0m\n"
     ]
    }
   ],
   "source": [
    "!pip install -q torch  # if you don't have it already"
   ]
  },
  {
   "cell_type": "code",
   "execution_count": 3,
   "metadata": {},
   "outputs": [
    {
     "name": "stderr",
     "output_type": "stream",
     "text": [
      "/Users/vicki/viberary/viberary/neuron/lib/python3.9/site-packages/tqdm/auto.py:22: TqdmWarning: IProgress not found. Please update jupyter and ipywidgets. See https://ipywidgets.readthedocs.io/en/stable/user_install.html\n",
      "  from .autonotebook import tqdm as notebook_tqdm\n"
     ]
    }
   ],
   "source": [
    "# we need these bois\n",
    "import torch\n",
    "import torch.nn as nn"
   ]
  },
  {
   "cell_type": "markdown",
   "metadata": {},
   "source": [
    "## Text Preparation"
   ]
  },
  {
   "cell_type": "code",
   "execution_count": 5,
   "metadata": {},
   "outputs": [
    {
     "data": {
      "text/html": [
       "\n",
       "  <style>\n",
       "    pre {\n",
       "        white-space: pre-wrap;\n",
       "    }\n",
       "  </style>\n",
       "  "
      ],
      "text/plain": [
       "<IPython.core.display.HTML object>"
      ]
     },
     "metadata": {},
     "output_type": "display_data"
    }
   ],
   "source": [
    "# First, we'll initialize our hyperparameters for the model: \n",
    "\n",
    "CONTEXT_SIZE = 2  # 2 words to the left, 2 to the right - this is our context window\n",
    "EMBEDDING_DIM = 100  # size of the embeddings matrix - we'll get to this in a bit"
   ]
  },
  {
   "cell_type": "code",
   "execution_count": 6,
   "metadata": {},
   "outputs": [
    {
     "data": {
      "text/html": [
       "\n",
       "  <style>\n",
       "    pre {\n",
       "        white-space: pre-wrap;\n",
       "    }\n",
       "  </style>\n",
       "  "
      ],
      "text/plain": [
       "<IPython.core.display.HTML object>"
      ]
     },
     "metadata": {},
     "output_type": "display_data"
    }
   ],
   "source": [
    "# Our tiny training dataset \n",
    "\n",
    "raw_text = \"\"\"To Kara's astonishment, she discovers that a portal has opened in her bedroom closet and two goblins have fallen through! They refuse to return to the fairy realms and be drafted for an impending war. \n",
    "In an attempt to roust the pesky creatures, Kara falls through the portal, \n",
    "smack into the middle of a huge war. Kara meets Queen Selinda, who appoints \n",
    "Kara as a Fairy Princess and assigns her an impossible task: \n",
    "to put an end to the war using her diplomatic skills.\"\"\".split()"
   ]
  },
  {
   "cell_type": "code",
   "execution_count": 7,
   "metadata": {},
   "outputs": [
    {
     "data": {
      "text/html": [
       "\n",
       "  <style>\n",
       "    pre {\n",
       "        white-space: pre-wrap;\n",
       "    }\n",
       "  </style>\n",
       "  "
      ],
      "text/plain": [
       "<IPython.core.display.HTML object>"
      ]
     },
     "metadata": {},
     "output_type": "display_data"
    }
   ],
   "source": [
    "# Text preprocessing get only individual words\n",
    "vocab = set(raw_text)  # dedup\n",
    "vocab_size = len(vocab)"
   ]
  },
  {
   "cell_type": "code",
   "execution_count": 8,
   "metadata": {},
   "outputs": [
    {
     "data": {
      "text/html": [
       "\n",
       "  <style>\n",
       "    pre {\n",
       "        white-space: pre-wrap;\n",
       "    }\n",
       "  </style>\n",
       "  "
      ],
      "text/plain": [
       "<IPython.core.display.HTML object>"
      ]
     },
     "metadata": {},
     "output_type": "display_data"
    },
    {
     "name": "stdout",
     "output_type": "stream",
     "text": [
      "{'Princess', 'the', 'a', 'to', 'put', 'be', 'portal', 'realms', 'creatures,', 'Selinda,', 'that', 'Fairy', 'skills.', 'bedroom', 'refuse', 'pesky', 'through!', 'using', 'discovers', 'into', 'portal,', 'war', 'smack', 'has', 'have', 'end', 'closet', \"Kara's\", 'meets', 'In', 'drafted', 'They', 'task:', 'middle', 'attempt', 'who', 'assigns', 'and', 'diplomatic', 'Queen', 'she', 'of', 'as', 'two', 'impossible', 'her', 'goblins', 'fairy', 'roust', 'for', 'opened', 'an', 'falls', 'through', 'impending', 'Kara', 'appoints', 'astonishment,', 'in', 'fallen', 'huge', 'return', 'To', 'war.'}\n"
     ]
    }
   ],
   "source": [
    "print(vocab)"
   ]
  },
  {
   "cell_type": "code",
   "execution_count": 9,
   "metadata": {},
   "outputs": [
    {
     "data": {
      "text/html": [
       "\n",
       "  <style>\n",
       "    pre {\n",
       "        white-space: pre-wrap;\n",
       "    }\n",
       "  </style>\n",
       "  "
      ],
      "text/plain": [
       "<IPython.core.display.HTML object>"
      ]
     },
     "metadata": {},
     "output_type": "display_data"
    }
   ],
   "source": [
    "# we create simple mappings of word to an index of the word\n",
    "word_to_ix = {word: ix for ix, word in enumerate(vocab)}\n",
    "ix_to_word = {ix: word for ix, word in enumerate(vocab)}"
   ]
  },
  {
   "cell_type": "code",
   "execution_count": 10,
   "metadata": {},
   "outputs": [
    {
     "data": {
      "text/html": [
       "\n",
       "  <style>\n",
       "    pre {\n",
       "        white-space: pre-wrap;\n",
       "    }\n",
       "  </style>\n",
       "  "
      ],
      "text/plain": [
       "<IPython.core.display.HTML object>"
      ]
     },
     "metadata": {},
     "output_type": "display_data"
    },
    {
     "name": "stdout",
     "output_type": "stream",
     "text": [
      "{'Princess': 0, 'the': 1, 'a': 2, 'to': 3, 'put': 4, 'be': 5, 'portal': 6, 'realms': 7, 'creatures,': 8, 'Selinda,': 9, 'that': 10, 'Fairy': 11, 'skills.': 12, 'bedroom': 13, 'refuse': 14, 'pesky': 15, 'through!': 16, 'using': 17, 'discovers': 18, 'into': 19, 'portal,': 20, 'war': 21, 'smack': 22, 'has': 23, 'have': 24, 'end': 25, 'closet': 26, \"Kara's\": 27, 'meets': 28, 'In': 29, 'drafted': 30, 'They': 31, 'task:': 32, 'middle': 33, 'attempt': 34, 'who': 35, 'assigns': 36, 'and': 37, 'diplomatic': 38, 'Queen': 39, 'she': 40, 'of': 41, 'as': 42, 'two': 43, 'impossible': 44, 'her': 45, 'goblins': 46, 'fairy': 47, 'roust': 48, 'for': 49, 'opened': 50, 'an': 51, 'falls': 52, 'through': 53, 'impending': 54, 'Kara': 55, 'appoints': 56, 'astonishment,': 57, 'in': 58, 'fallen': 59, 'huge': 60, 'return': 61, 'To': 62, 'war.': 63}\n"
     ]
    }
   ],
   "source": [
    "print(word_to_ix)"
   ]
  },
  {
   "cell_type": "code",
   "execution_count": 11,
   "metadata": {},
   "outputs": [
    {
     "data": {
      "text/html": [
       "\n",
       "  <style>\n",
       "    pre {\n",
       "        white-space: pre-wrap;\n",
       "    }\n",
       "  </style>\n",
       "  "
      ],
      "text/plain": [
       "<IPython.core.display.HTML object>"
      ]
     },
     "metadata": {},
     "output_type": "display_data"
    }
   ],
   "source": [
    "# Creating our training data and context window\n",
    "\n",
    "def make_context_vector(context, word_to_ix):\n",
    "    idxs = [word_to_ix[w] for w in context]\n",
    "    return torch.tensor(idxs, dtype=torch.long)\n",
    "\n",
    "\n",
    "data = []\n",
    "for i in range(CONTEXT_SIZE, len(raw_text) - CONTEXT_SIZE):\n",
    "    context = [raw_text[i - 2], raw_text[i - 1], raw_text[i + 1], raw_text[i + 2]]\n",
    "    target = raw_text[i]\n",
    "    data.append((context, target))"
   ]
  },
  {
   "cell_type": "code",
   "execution_count": 12,
   "metadata": {},
   "outputs": [
    {
     "data": {
      "text/html": [
       "\n",
       "  <style>\n",
       "    pre {\n",
       "        white-space: pre-wrap;\n",
       "    }\n",
       "  </style>\n",
       "  "
      ],
      "text/plain": [
       "<IPython.core.display.HTML object>"
      ]
     },
     "metadata": {},
     "output_type": "display_data"
    },
    {
     "name": "stdout",
     "output_type": "stream",
     "text": [
      "(['To', \"Kara's\", 'she', 'discovers'], 'astonishment,')\n",
      "([\"Kara's\", 'astonishment,', 'discovers', 'that'], 'she')\n",
      "(['astonishment,', 'she', 'that', 'a'], 'discovers')\n",
      "(['she', 'discovers', 'a', 'portal'], 'that')\n",
      "(['discovers', 'that', 'portal', 'has'], 'a')\n",
      "(['that', 'a', 'has', 'opened'], 'portal')\n",
      "(['a', 'portal', 'opened', 'in'], 'has')\n",
      "(['portal', 'has', 'in', 'her'], 'opened')\n",
      "(['has', 'opened', 'her', 'bedroom'], 'in')\n",
      "(['opened', 'in', 'bedroom', 'closet'], 'her')\n"
     ]
    }
   ],
   "source": [
    "# We have our [input, input, input, input, target]\n",
    "# based on the context window of +2 words -2 words\n",
    "# you can see how we're building words close to each other now\n",
    "print(*data[0:10], sep=\"\\n\")"
   ]
  },
  {
   "cell_type": "markdown",
   "metadata": {},
   "source": [
    "## Model Set Up\n",
    "# CBOW Architecture \n",
    "\n",
    "<img width=\"344\" alt=\"Screen Shot 2023-02-14 at 3 48 16 PM\" src=\"https://user-images.githubusercontent.com/3837836/218859716-495a0a6f-aed7-40aa-aba9-5c0f1949788c.png\">\n",
    "\n",
    "We have two layers in the CBOW implementation of Word2Vec: an input Embedding layer that maps each word to a space in the embedding dictionary, a hidden linear activation layer, and then the output layer that is the proportional probabilities [softmax](https://en.wikipedia.org/wiki/Softmax_function) of all the correct words given an input window. \n",
    "\n",
    "The critical part is the first part, creating the Embeddings lookup. \n",
    "\n",
    "First, we associate each word in the vocabulary with an index, aka `{'she': 0, 'middle': 1, 'put': 2`\n",
    "\n",
    "Then, what we want to do is create an embeddings table, or matrix, that we will multiply with these indices to map each one to its correct place in relation to the other indices via a table lookup, based on how many vectors you'd like to represent the word. \n",
    "\n",
    "There is a [really good explanation](https://stats.stackexchange.com/questions/270546/how-does-keras-embedding-layer-work/305032#305032) of how these are generated: \n",
    "\n",
    "``` \n",
    "For a given word, you create a one-hot vector based on its index and multiply it by the embeddings matrix, effectively replicating a lookup. For instance, for the word \"soon\" the index is 4, and the one-hot vector is [0, 0, 0, 0, 1, 0, 0]. If you multiply this (1, 7) matrix by the (7, 2) embeddings matrix you get the desired two-dimensional embedding, which in this case is [2.2, 1.4].\n",
    "```"
   ]
  },
  {
   "cell_type": "code",
   "execution_count": 13,
   "metadata": {},
   "outputs": [
    {
     "data": {
      "text/html": [
       "\n",
       "  <style>\n",
       "    pre {\n",
       "        white-space: pre-wrap;\n",
       "    }\n",
       "  </style>\n",
       "  "
      ],
      "text/plain": [
       "<IPython.core.display.HTML object>"
      ]
     },
     "metadata": {},
     "output_type": "display_data"
    }
   ],
   "source": [
    "class CBOW(torch.nn.Module):\n",
    "    def __init__(self, vocab_size, embedding_dim):  # we pass in vocab_size and embedding_dim as hyperparams\n",
    "        super(CBOW, self).__init__()\n",
    "\n",
    "        # out: 1 x embedding_dim\n",
    "        self.embeddings = nn.Embedding(vocab_size, embedding_dim)  # initialize an Embedding matrix based on our inputs\n",
    "        self.linear1 = nn.Linear(embedding_dim, 128)\n",
    "        self.activation_function1 = nn.ReLU()\n",
    "\n",
    "        # out: 1 x vocab_size\n",
    "        self.linear2 = nn.Linear(128, vocab_size)\n",
    "        self.activation_function2 = nn.LogSoftmax(dim=-1)\n",
    "\n",
    "    def forward(self, inputs):\n",
    "        embeds = sum(self.embeddings(inputs)).view(1, -1)\n",
    "        out = self.linear1(embeds)\n",
    "        out = self.activation_function1(out)\n",
    "        out = self.linear2(out)\n",
    "        out = self.activation_function2(out)\n",
    "        return out\n",
    "\n",
    "    def get_word_emdedding(self, word):\n",
    "        word = torch.tensor([word_to_ix[word]])\n",
    "        # Embeddings lookup of a single word once the Embeddings layer has been optimized \n",
    "        return self.embeddings(word).view(1, -1)"
   ]
  },
  {
   "cell_type": "code",
   "execution_count": 14,
   "metadata": {},
   "outputs": [
    {
     "data": {
      "text/html": [
       "\n",
       "  <style>\n",
       "    pre {\n",
       "        white-space: pre-wrap;\n",
       "    }\n",
       "  </style>\n",
       "  "
      ],
      "text/plain": [
       "<IPython.core.display.HTML object>"
      ]
     },
     "metadata": {},
     "output_type": "display_data"
    }
   ],
   "source": [
    "# We initialize the model:\n",
    "\n",
    "model = CBOW(vocab_size, EMBEDDING_DIM)"
   ]
  },
  {
   "cell_type": "code",
   "execution_count": 15,
   "metadata": {},
   "outputs": [
    {
     "data": {
      "text/html": [
       "\n",
       "  <style>\n",
       "    pre {\n",
       "        white-space: pre-wrap;\n",
       "    }\n",
       "  </style>\n",
       "  "
      ],
      "text/plain": [
       "<IPython.core.display.HTML object>"
      ]
     },
     "metadata": {},
     "output_type": "display_data"
    }
   ],
   "source": [
    "# then, we initialize the loss function \n",
    "# (aka how close our predicted word is to the actual word and how we want to minimize it using the optimizer)\n",
    "\n",
    "loss_function = nn.NLLLoss()\n",
    "optimizer = torch.optim.SGD(model.parameters(), lr=0.001)"
   ]
  },
  {
   "cell_type": "code",
   "execution_count": 16,
   "metadata": {},
   "outputs": [
    {
     "data": {
      "text/html": [
       "\n",
       "  <style>\n",
       "    pre {\n",
       "        white-space: pre-wrap;\n",
       "    }\n",
       "  </style>\n",
       "  "
      ],
      "text/plain": [
       "<IPython.core.display.HTML object>"
      ]
     },
     "metadata": {},
     "output_type": "display_data"
    },
    {
     "name": "stdout",
     "output_type": "stream",
     "text": [
      "end of epoch 0 | loss 339.036\n",
      "end of epoch 1 | loss 326.887\n",
      "end of epoch 2 | loss 315.408\n",
      "end of epoch 3 | loss 304.454\n",
      "end of epoch 4 | loss 293.905\n",
      "end of epoch 5 | loss 283.696\n",
      "end of epoch 6 | loss 273.754\n",
      "end of epoch 7 | loss 264.069\n",
      "end of epoch 8 | loss 254.643\n",
      "end of epoch 9 | loss 245.419\n",
      "end of epoch 10 | loss 236.401\n",
      "end of epoch 11 | loss 227.571\n",
      "end of epoch 12 | loss 218.917\n",
      "end of epoch 13 | loss 210.448\n",
      "end of epoch 14 | loss 202.127\n",
      "end of epoch 15 | loss 193.950\n",
      "end of epoch 16 | loss 185.895\n",
      "end of epoch 17 | loss 177.959\n",
      "end of epoch 18 | loss 170.169\n",
      "end of epoch 19 | loss 162.515\n",
      "end of epoch 20 | loss 155.011\n",
      "end of epoch 21 | loss 147.695\n",
      "end of epoch 22 | loss 140.536\n",
      "end of epoch 23 | loss 133.539\n",
      "end of epoch 24 | loss 126.737\n",
      "end of epoch 25 | loss 120.130\n",
      "end of epoch 26 | loss 113.735\n",
      "end of epoch 27 | loss 107.553\n",
      "end of epoch 28 | loss 101.606\n",
      "end of epoch 29 | loss 95.903\n",
      "end of epoch 30 | loss 90.437\n",
      "end of epoch 31 | loss 85.233\n",
      "end of epoch 32 | loss 80.273\n",
      "end of epoch 33 | loss 75.570\n",
      "end of epoch 34 | loss 71.130\n",
      "end of epoch 35 | loss 66.949\n",
      "end of epoch 36 | loss 63.023\n",
      "end of epoch 37 | loss 59.339\n",
      "end of epoch 38 | loss 55.891\n",
      "end of epoch 39 | loss 52.680\n",
      "end of epoch 40 | loss 49.684\n",
      "end of epoch 41 | loss 46.892\n",
      "end of epoch 42 | loss 44.292\n",
      "end of epoch 43 | loss 41.880\n",
      "end of epoch 44 | loss 39.637\n",
      "end of epoch 45 | loss 37.558\n",
      "end of epoch 46 | loss 35.633\n",
      "end of epoch 47 | loss 33.842\n",
      "end of epoch 48 | loss 32.184\n",
      "end of epoch 49 | loss 30.644\n"
     ]
    }
   ],
   "source": [
    "# Training\n",
    "\n",
    "# 50 to start with, no correct answer here\n",
    "for epoch in range(50):\n",
    "    # we start tracking how accurate our intial words are\n",
    "    total_loss = 0\n",
    "\n",
    "    # for the x, y in the training data: \n",
    "    for context, target in data:\n",
    "        context_vector = make_context_vector(context, word_to_ix)\n",
    "\n",
    "        # we look at loss\n",
    "        log_probs = model(context_vector)\n",
    "\n",
    "        # we compare the loss from what the actual word is related to the probaility of the words\n",
    "        total_loss += loss_function(log_probs, torch.tensor([word_to_ix[target]]))\n",
    "\n",
    "    # optimize at the end of each epoch\n",
    "    optimizer.zero_grad()\n",
    "    total_loss.backward()\n",
    "    optimizer.step()\n",
    "\n",
    "    # Log out some metrics to see if loss decreases\n",
    "    print(\"end of epoch {} | loss {:2.3f}\".format(epoch, total_loss))"
   ]
  },
  {
   "cell_type": "code",
   "execution_count": 17,
   "metadata": {},
   "outputs": [
    {
     "data": {
      "text/html": [
       "\n",
       "  <style>\n",
       "    pre {\n",
       "        white-space: pre-wrap;\n",
       "    }\n",
       "  </style>\n",
       "  "
      ],
      "text/plain": [
       "<IPython.core.display.HTML object>"
      ]
     },
     "metadata": {},
     "output_type": "display_data"
    }
   ],
   "source": [
    "# Now, let's test to see if the model predicts the correct word using our initial input\n",
    "context = [\"Kara\", \"falls\", \"the\", \"portal\"]\n",
    "context_vector = make_context_vector(context, word_to_ix)\n",
    "a = model(context_vector)"
   ]
  },
  {
   "cell_type": "code",
   "execution_count": 18,
   "metadata": {},
   "outputs": [
    {
     "data": {
      "text/html": [
       "\n",
       "  <style>\n",
       "    pre {\n",
       "        white-space: pre-wrap;\n",
       "    }\n",
       "  </style>\n",
       "  "
      ],
      "text/plain": [
       "<IPython.core.display.HTML object>"
      ]
     },
     "metadata": {},
     "output_type": "display_data"
    },
    {
     "name": "stdout",
     "output_type": "stream",
     "text": [
      "Raw text: To Kara's astonishment, she discovers that a portal has opened in her bedroom closet and two goblins have fallen through! They refuse to return to the fairy realms and be drafted for an impending war. In an attempt to roust the pesky creatures, Kara falls through the portal, smack into the middle of a huge war. Kara meets Queen Selinda, who appoints Kara as a Fairy Princess and assigns her an impossible task: to put an end to the war using her diplomatic skills.\n",
      "\n",
      "Context: ['Kara', 'falls', 'the', 'portal']\n",
      "\n",
      "Prediction: creatures,\n"
     ]
    }
   ],
   "source": [
    "print(f'Raw text: {\" \".join(raw_text)}\\n')\n",
    "print(f\"Context: {context}\\n\")\n",
    "print(f\"Prediction: {ix_to_word[torch.argmax(a[0]).item()]}\")\n"
   ]
  },
  {
   "cell_type": "code",
   "execution_count": 19,
   "metadata": {},
   "outputs": [
    {
     "data": {
      "text/html": [
       "\n",
       "  <style>\n",
       "    pre {\n",
       "        white-space: pre-wrap;\n",
       "    }\n",
       "  </style>\n",
       "  "
      ],
      "text/plain": [
       "<IPython.core.display.HTML object>"
      ]
     },
     "metadata": {},
     "output_type": "display_data"
    },
    {
     "name": "stdout",
     "output_type": "stream",
     "text": [
      "Getting vectors for a sequence:\n",
      " tensor([[-7.1156e-02, -4.1980e-01,  7.5448e-01, -1.0346e+00,  9.7516e-01,\n",
      "          4.3864e-01, -1.5752e+00,  2.3797e-01,  1.1792e+00,  2.7997e+00,\n",
      "          3.3248e-01,  1.3918e+00,  7.5965e-01, -2.6596e-01,  1.6388e+00,\n",
      "          8.9776e-01, -2.6370e+00,  4.8947e-01, -7.4175e-01, -6.0856e-01,\n",
      "          2.0947e+00,  8.5964e-01, -3.2345e-01,  1.9920e+00,  8.7369e-01,\n",
      "         -1.2016e+00,  1.8309e+00,  7.7124e-01,  6.3596e-01,  7.0087e-01,\n",
      "         -2.6163e+00, -8.4904e-01, -1.8401e+00, -8.2744e-01,  2.4925e-01,\n",
      "         -3.4602e-01,  6.5291e-01,  6.1475e-01, -4.9659e-01,  1.4916e+00,\n",
      "          4.3811e-01, -9.9531e-01,  8.9120e-01, -5.7321e-02,  2.8509e-01,\n",
      "         -4.1099e-01, -1.2889e+00, -9.1033e-01,  2.6394e-01,  1.3394e+00,\n",
      "          1.7379e-01, -1.6040e+00,  6.0400e-01,  6.4703e-01,  9.8809e-01,\n",
      "         -5.3346e-01,  5.5176e-01, -8.3570e-01, -1.3796e-02,  6.0779e-01,\n",
      "          1.2596e+00,  1.4880e-01, -9.9366e-01,  1.9915e+00,  2.5511e+00,\n",
      "          1.0531e+00, -1.1937e+00,  9.1041e-01, -2.2801e+00, -2.3738e-01,\n",
      "          1.1270e+00,  2.8449e-01, -8.1115e-01,  3.9929e-01, -7.4353e-01,\n",
      "          7.5228e-01,  1.4134e-01,  7.2850e-01,  3.2388e-01,  3.4890e-01,\n",
      "         -1.5968e-01,  3.5928e-01, -2.5938e+00, -1.7780e-01, -1.8794e+00,\n",
      "         -1.5973e+00,  1.1407e+00,  1.5752e+00, -8.6642e-03,  3.6359e-01,\n",
      "          1.2005e+00,  6.0099e-01,  1.0035e+00, -8.2216e-01, -1.0813e+00,\n",
      "          9.7662e-01, -9.3879e-01, -8.7081e-01,  1.6149e+00,  5.0520e-01],\n",
      "        [ 6.6018e-01,  1.2594e-01, -1.3269e+00,  1.7386e-01, -4.9765e-01,\n",
      "          4.5779e-01, -9.4771e-01, -3.4365e-01,  1.8660e+00, -2.1969e-01,\n",
      "         -1.2245e-01,  1.8775e+00,  1.1664e+00, -2.9115e-01,  2.7973e-01,\n",
      "         -1.9531e+00, -2.8820e-01, -5.8843e-02, -5.7778e-01, -8.5140e-02,\n",
      "          5.2098e-01, -1.1574e+00,  7.3720e-01, -8.8788e-02, -6.9859e-01,\n",
      "         -4.0610e-01, -2.1129e-01, -4.9228e-01, -8.4098e-01, -9.5017e-02,\n",
      "         -8.2755e-01, -1.2318e-01,  2.7580e-01,  3.7931e-01, -1.0327e+00,\n",
      "          1.4395e+00,  5.1196e-01, -6.7825e-01, -8.4762e-01, -3.8080e-01,\n",
      "         -8.9441e-03, -1.1610e-01, -5.0841e-01,  3.4982e-01, -3.1828e-01,\n",
      "          8.7208e-02, -1.5165e+00, -6.4576e-01,  8.7135e-01, -1.0038e+00,\n",
      "         -1.5957e+00, -2.5028e+00, -1.0106e+00, -8.5625e-01, -9.8883e-02,\n",
      "          3.4995e-01,  2.4917e-01, -1.0201e-01,  5.7520e-01,  7.1424e-01,\n",
      "         -3.2484e-01,  2.6454e+00,  8.7294e-01, -2.6465e-01,  9.3104e-01,\n",
      "          1.2422e+00, -1.3055e+00, -7.1995e-01,  4.1872e-01, -1.5952e-01,\n",
      "          3.4228e-01, -5.9346e-01,  1.2919e+00, -7.3306e-01, -3.4485e-01,\n",
      "          4.2603e-01,  9.8941e-01,  2.8720e-01,  4.0951e-01,  1.3180e+00,\n",
      "         -9.2350e-01, -3.8504e-01,  4.8042e-01, -3.8214e-01, -7.4503e-01,\n",
      "         -2.0174e-01,  8.8829e-01, -2.5636e-01, -7.4264e-01, -1.2974e+00,\n",
      "         -1.6489e+00,  2.7963e-01, -2.0168e-02, -1.5759e-01, -1.0273e+00,\n",
      "          2.4740e-01, -3.6095e-01, -3.7654e-01, -4.4986e-02,  1.1435e-01],\n",
      "        [-2.5923e-01,  4.3432e-02,  5.4990e-01,  4.9171e-02,  2.8152e-04,\n",
      "         -8.4093e-01,  3.7396e-01, -5.1314e-01, -2.6070e-01,  1.8569e-01,\n",
      "         -3.4405e-01, -1.9075e-01,  9.1574e-01,  1.2587e+00,  6.4473e-01,\n",
      "         -1.4981e+00, -4.4883e-01, -3.8595e-01,  8.8753e-01,  4.2254e-01,\n",
      "         -1.0909e+00, -5.7148e-01,  1.3651e+00,  7.0072e-01,  6.2769e-01,\n",
      "         -4.6489e-01, -4.2199e-01,  2.8046e-01,  8.9730e-02, -6.6135e-01,\n",
      "          9.0440e-02, -1.5473e+00,  7.6451e-01, -9.0860e-01, -6.3782e-01,\n",
      "         -1.2165e+00, -5.3510e-01,  2.2327e-01, -3.1945e-01,  2.4730e-01,\n",
      "         -4.9708e-01,  7.5209e-01, -6.5062e-01, -1.0841e-01,  1.0011e+00,\n",
      "         -6.5884e-01,  1.3044e+00,  9.7514e-02, -2.6243e+00, -1.7743e-01,\n",
      "          9.3384e-01, -4.9068e-01, -8.0304e-01, -9.7888e-01, -1.4830e+00,\n",
      "          1.0018e+00,  1.1437e+00,  1.2836e+00,  1.3365e-01, -9.4137e-01,\n",
      "          7.6158e-01, -7.8579e-01, -3.2708e-01, -6.2764e-01,  5.2479e-01,\n",
      "         -7.9792e-01, -3.0625e-01, -7.0509e-01,  1.4631e-01, -9.5771e-01,\n",
      "         -1.1678e+00,  1.2972e+00,  2.3853e-02,  6.4821e-01,  9.7810e-01,\n",
      "          2.0073e+00, -1.6214e+00, -2.2026e-01, -4.6835e-01, -4.5938e-01,\n",
      "          1.8083e+00, -5.7163e-02, -4.4252e-01, -2.0977e-01, -1.0450e+00,\n",
      "         -1.5127e-01, -1.3910e+00, -4.3474e-01,  5.3104e-01,  6.6764e-01,\n",
      "         -1.1943e+00, -5.9400e-01, -1.2605e+00,  5.7812e-01,  2.3725e-01,\n",
      "         -2.0610e+00, -9.6270e-02,  1.8744e-01,  4.8432e-02,  1.1679e-01]],\n",
      "       grad_fn=<EmbeddingBackward0>)\n"
     ]
    }
   ],
   "source": [
    "\n",
    "# Now let's get what we care about, which is the embeddings!\n",
    "print(f'Getting vectors for a sequence:\\n', model.embeddings(torch.LongTensor([1, 2, 3])))"
   ]
  },
  {
   "cell_type": "code",
   "execution_count": 20,
   "metadata": {},
   "outputs": [
    {
     "data": {
      "text/html": [
       "\n",
       "  <style>\n",
       "    pre {\n",
       "        white-space: pre-wrap;\n",
       "    }\n",
       "  </style>\n",
       "  "
      ],
      "text/plain": [
       "<IPython.core.display.HTML object>"
      ]
     },
     "metadata": {},
     "output_type": "display_data"
    },
    {
     "name": "stdout",
     "output_type": "stream",
     "text": [
      "Getting weights:\n",
      " tensor([-0.0712, -0.4198,  0.7545, -1.0346,  0.9752,  0.4386, -1.5752,  0.2380,\n",
      "         1.1792,  2.7997,  0.3325,  1.3918,  0.7596, -0.2660,  1.6388,  0.8978,\n",
      "        -2.6370,  0.4895, -0.7418, -0.6086,  2.0947,  0.8596, -0.3235,  1.9920,\n",
      "         0.8737, -1.2016,  1.8309,  0.7712,  0.6360,  0.7009, -2.6163, -0.8490,\n",
      "        -1.8401, -0.8274,  0.2493, -0.3460,  0.6529,  0.6147, -0.4966,  1.4916,\n",
      "         0.4381, -0.9953,  0.8912, -0.0573,  0.2851, -0.4110, -1.2889, -0.9103,\n",
      "         0.2639,  1.3394,  0.1738, -1.6040,  0.6040,  0.6470,  0.9881, -0.5335,\n",
      "         0.5518, -0.8357, -0.0138,  0.6078,  1.2596,  0.1488, -0.9937,  1.9915,\n",
      "         2.5511,  1.0531, -1.1937,  0.9104, -2.2801, -0.2374,  1.1270,  0.2845,\n",
      "        -0.8112,  0.3993, -0.7435,  0.7523,  0.1413,  0.7285,  0.3239,  0.3489,\n",
      "        -0.1597,  0.3593, -2.5938, -0.1778, -1.8794, -1.5973,  1.1407,  1.5752,\n",
      "        -0.0087,  0.3636,  1.2005,  0.6010,  1.0035, -0.8222, -1.0813,  0.9766,\n",
      "        -0.9388, -0.8708,  1.6149,  0.5052])\n"
     ]
    }
   ],
   "source": [
    "print('Getting weights:\\n', model.embeddings.weight.data[1])  # we can get the entire matrix this way"
   ]
  },
  {
   "cell_type": "code",
   "execution_count": 21,
   "metadata": {},
   "outputs": [
    {
     "data": {
      "text/html": [
       "\n",
       "  <style>\n",
       "    pre {\n",
       "        white-space: pre-wrap;\n",
       "    }\n",
       "  </style>\n",
       "  "
      ],
      "text/plain": [
       "<IPython.core.display.HTML object>"
      ]
     },
     "metadata": {},
     "output_type": "display_data"
    },
    {
     "name": "stdout",
     "output_type": "stream",
     "text": [
      "Embedding for Kara: tensor([-0.0529, -0.1168,  2.1033, -0.8198, -0.4394,  1.5762,  0.2513,  1.2508,\n",
      "        -0.9334, -1.1929, -0.1158, -0.5309, -0.4978,  1.1619,  0.0430, -0.3920,\n",
      "         1.0307, -0.7650,  0.1039, -0.4137,  0.3649, -0.3316,  1.0523,  0.7373,\n",
      "         0.9990, -1.1825,  0.9387, -1.0296, -0.4185, -0.6773,  1.5025, -0.5155,\n",
      "         0.8870,  1.2185, -0.6938,  1.0994,  0.2009,  0.1723,  0.3883, -0.9892,\n",
      "        -0.2323, -0.4497, -0.9362, -1.2295, -0.0628,  1.9673,  0.4310, -0.9807,\n",
      "        -1.8765, -1.1365,  1.1282,  1.3473, -1.0122, -1.6675,  0.3852, -0.5562,\n",
      "        -0.2671,  0.2921, -1.0951,  0.3297,  1.1109, -1.7162,  1.8813,  0.1143,\n",
      "        -1.6262,  0.1501, -1.8283,  1.2635,  0.2079, -0.7766,  0.7787,  0.2996,\n",
      "         0.1116,  0.6562, -0.3903,  1.0429, -0.1710, -0.1728, -0.7672, -1.4438,\n",
      "        -0.3760,  0.8299,  1.7041, -0.6659,  0.8116,  1.4468, -1.0999, -2.1328,\n",
      "        -1.6577, -0.3977, -0.6104,  0.1883, -0.0971, -0.7148,  0.8364,  0.0606,\n",
      "         0.8489,  1.3893, -0.8512, -0.4762], grad_fn=<SelectBackward0>)\n"
     ]
    }
   ],
   "source": [
    "# And, what we actually care about is being able to look up individual words with their embeddings: \n",
    "torch.set_printoptions(threshold=10_000)\n",
    "print(f\"Embedding for Kara: {model.embeddings.weight[word_to_ix['Kara']]}\")"
   ]
  },
  {
   "cell_type": "code",
   "execution_count": 22,
   "metadata": {},
   "outputs": [
    {
     "data": {
      "text/html": [
       "\n",
       "  <style>\n",
       "    pre {\n",
       "        white-space: pre-wrap;\n",
       "    }\n",
       "  </style>\n",
       "  "
      ],
      "text/plain": [
       "<IPython.core.display.HTML object>"
      ]
     },
     "metadata": {},
     "output_type": "display_data"
    }
   ],
   "source": [
    "# This way, when we create our second tower of book words, we know which ones are likely related to a given book"
   ]
  }
 ],
 "metadata": {
  "kernelspec": {
   "display_name": "Python 3 (ipykernel)",
   "language": "python",
   "name": "python3"
  },
  "language_info": {
   "codemirror_mode": {
    "name": "ipython",
    "version": 3
   },
   "file_extension": ".py",
   "mimetype": "text/x-python",
   "name": "python",
   "nbconvert_exporter": "python",
   "pygments_lexer": "ipython3",
   "version": "3.9.12"
  },
  "vscode": {
   "interpreter": {
    "hash": "7983be674d93518c54b39475eb68739ef6a55aa8f4ec8a69dd7da1e80860d970"
   }
  }
 },
 "nbformat": 4,
 "nbformat_minor": 2
}
